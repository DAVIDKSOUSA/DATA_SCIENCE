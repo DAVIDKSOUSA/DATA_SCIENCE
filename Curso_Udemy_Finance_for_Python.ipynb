{
  "nbformat": 4,
  "nbformat_minor": 0,
  "metadata": {
    "colab": {
      "name": "Curso Udemy Finance for Python.ipynb",
      "provenance": [],
      "authorship_tag": "ABX9TyORle+3BTMsdS+EAkkcJo9a",
      "include_colab_link": true
    },
    "kernelspec": {
      "name": "python3",
      "display_name": "Python 3"
    }
  },
  "cells": [
    {
      "cell_type": "markdown",
      "metadata": {
        "id": "view-in-github",
        "colab_type": "text"
      },
      "source": [
        "<a href=\"https://colab.research.google.com/github/DAVIDKSOUSA/DATA_SCIENCE/blob/master/Curso_Udemy_Finance_for_Python.ipynb\" target=\"_parent\"><img src=\"https://colab.research.google.com/assets/colab-badge.svg\" alt=\"Open In Colab\"/></a>"
      ]
    },
    {
      "cell_type": "markdown",
      "metadata": {
        "id": "ugCkvUD3fjW1",
        "colab_type": "text"
      },
      "source": [
        "#Curso Udemy"
      ]
    },
    {
      "cell_type": "code",
      "metadata": {
        "id": "Xkh2AOl6Y_dY",
        "colab_type": "code",
        "colab": {
          "base_uri": "https://localhost:8080/",
          "height": 71
        },
        "outputId": "08c4dd3d-20f3-4c28-cddf-f730f5f06df9"
      },
      "source": [
        "#Importando as bibliotecas.\n",
        "import pandas as pd\n",
        "import numpy as np\n",
        "import matplotlib.pyplot as plt\n",
        "import seaborn as sns\n",
        "from pandas_datareader import data as wb\n"
      ],
      "execution_count": 1,
      "outputs": [
        {
          "output_type": "stream",
          "text": [
            "/usr/local/lib/python3.6/dist-packages/statsmodels/tools/_testing.py:19: FutureWarning: pandas.util.testing is deprecated. Use the functions in the public API at pandas.testing instead.\n",
            "  import pandas.util.testing as tm\n"
          ],
          "name": "stderr"
        }
      ]
    },
    {
      "cell_type": "code",
      "metadata": {
        "id": "Yietwj7gfh8N",
        "colab_type": "code",
        "colab": {
          "base_uri": "https://localhost:8080/",
          "height": 235
        },
        "outputId": "18bae023-bbd1-41d2-9a50-8b19eb805703"
      },
      "source": [
        "#Importando dados da API do yahoo finance.\n",
        "df = wb.DataReader(\"PETR4.SA\", data_source = \"yahoo\", start = \"2015-1-1\")\n",
        "df.head()\n"
      ],
      "execution_count": 2,
      "outputs": [
        {
          "output_type": "execute_result",
          "data": {
            "text/html": [
              "<div>\n",
              "<style scoped>\n",
              "    .dataframe tbody tr th:only-of-type {\n",
              "        vertical-align: middle;\n",
              "    }\n",
              "\n",
              "    .dataframe tbody tr th {\n",
              "        vertical-align: top;\n",
              "    }\n",
              "\n",
              "    .dataframe thead th {\n",
              "        text-align: right;\n",
              "    }\n",
              "</style>\n",
              "<table border=\"1\" class=\"dataframe\">\n",
              "  <thead>\n",
              "    <tr style=\"text-align: right;\">\n",
              "      <th></th>\n",
              "      <th>High</th>\n",
              "      <th>Low</th>\n",
              "      <th>Open</th>\n",
              "      <th>Close</th>\n",
              "      <th>Volume</th>\n",
              "      <th>Adj Close</th>\n",
              "    </tr>\n",
              "    <tr>\n",
              "      <th>Date</th>\n",
              "      <th></th>\n",
              "      <th></th>\n",
              "      <th></th>\n",
              "      <th></th>\n",
              "      <th></th>\n",
              "      <th></th>\n",
              "    </tr>\n",
              "  </thead>\n",
              "  <tbody>\n",
              "    <tr>\n",
              "      <th>2015-01-02</th>\n",
              "      <td>9.99</td>\n",
              "      <td>9.35</td>\n",
              "      <td>9.99</td>\n",
              "      <td>9.36</td>\n",
              "      <td>49559500.0</td>\n",
              "      <td>8.683939</td>\n",
              "    </tr>\n",
              "    <tr>\n",
              "      <th>2015-01-05</th>\n",
              "      <td>9.19</td>\n",
              "      <td>8.53</td>\n",
              "      <td>9.14</td>\n",
              "      <td>8.56</td>\n",
              "      <td>78385100.0</td>\n",
              "      <td>7.941722</td>\n",
              "    </tr>\n",
              "    <tr>\n",
              "      <th>2015-01-06</th>\n",
              "      <td>8.83</td>\n",
              "      <td>8.04</td>\n",
              "      <td>8.71</td>\n",
              "      <td>8.28</td>\n",
              "      <td>84723300.0</td>\n",
              "      <td>7.681945</td>\n",
              "    </tr>\n",
              "    <tr>\n",
              "      <th>2015-01-07</th>\n",
              "      <td>8.73</td>\n",
              "      <td>8.36</td>\n",
              "      <td>8.56</td>\n",
              "      <td>8.67</td>\n",
              "      <td>85531000.0</td>\n",
              "      <td>8.043777</td>\n",
              "    </tr>\n",
              "    <tr>\n",
              "      <th>2015-01-08</th>\n",
              "      <td>9.39</td>\n",
              "      <td>8.74</td>\n",
              "      <td>8.79</td>\n",
              "      <td>9.23</td>\n",
              "      <td>83306300.0</td>\n",
              "      <td>8.563329</td>\n",
              "    </tr>\n",
              "  </tbody>\n",
              "</table>\n",
              "</div>"
            ],
            "text/plain": [
              "            High   Low  Open  Close      Volume  Adj Close\n",
              "Date                                                      \n",
              "2015-01-02  9.99  9.35  9.99   9.36  49559500.0   8.683939\n",
              "2015-01-05  9.19  8.53  9.14   8.56  78385100.0   7.941722\n",
              "2015-01-06  8.83  8.04  8.71   8.28  84723300.0   7.681945\n",
              "2015-01-07  8.73  8.36  8.56   8.67  85531000.0   8.043777\n",
              "2015-01-08  9.39  8.74  8.79   9.23  83306300.0   8.563329"
            ]
          },
          "metadata": {
            "tags": []
          },
          "execution_count": 2
        }
      ]
    },
    {
      "cell_type": "code",
      "metadata": {
        "id": "bi5lKnYyfoWV",
        "colab_type": "code",
        "colab": {
          "base_uri": "https://localhost:8080/",
          "height": 238
        },
        "outputId": "43e93673-ee0c-49ab-e470-02c84a2cfd87"
      },
      "source": [
        "df.info()"
      ],
      "execution_count": 3,
      "outputs": [
        {
          "output_type": "stream",
          "text": [
            "<class 'pandas.core.frame.DataFrame'>\n",
            "DatetimeIndex: 1314 entries, 2015-01-02 to 2020-04-17\n",
            "Data columns (total 6 columns):\n",
            " #   Column     Non-Null Count  Dtype  \n",
            "---  ------     --------------  -----  \n",
            " 0   High       1314 non-null   float64\n",
            " 1   Low        1314 non-null   float64\n",
            " 2   Open       1314 non-null   float64\n",
            " 3   Close      1314 non-null   float64\n",
            " 4   Volume     1314 non-null   float64\n",
            " 5   Adj Close  1314 non-null   float64\n",
            "dtypes: float64(6)\n",
            "memory usage: 71.9 KB\n"
          ],
          "name": "stdout"
        }
      ]
    },
    {
      "cell_type": "code",
      "metadata": {
        "id": "f7erpj7nhlGd",
        "colab_type": "code",
        "colab": {}
      },
      "source": [
        "#Importando apenas o Adj Close de uma determinada carteira.\n",
        "carteira = [\"PETR4.SA\", \"VALE3.SA\", \"ABEV3.SA\"]\n",
        "df_carteira = pd.DataFrame()\n",
        "for acoes in carteira:\n",
        "  df_carteira[acoes] = wb.DataReader(acoes, data_source = \"yahoo\", start = \"2015-1-1\")[\"Adj Close\"]\n",
        "  \n"
      ],
      "execution_count": 0,
      "outputs": []
    },
    {
      "cell_type": "code",
      "metadata": {
        "id": "D3c6z8Egi0RA",
        "colab_type": "code",
        "colab": {
          "base_uri": "https://localhost:8080/",
          "height": 235
        },
        "outputId": "30ae8287-f029-49e4-8e96-94b5115cdce3"
      },
      "source": [
        "df_carteira.head()"
      ],
      "execution_count": 5,
      "outputs": [
        {
          "output_type": "execute_result",
          "data": {
            "text/html": [
              "<div>\n",
              "<style scoped>\n",
              "    .dataframe tbody tr th:only-of-type {\n",
              "        vertical-align: middle;\n",
              "    }\n",
              "\n",
              "    .dataframe tbody tr th {\n",
              "        vertical-align: top;\n",
              "    }\n",
              "\n",
              "    .dataframe thead th {\n",
              "        text-align: right;\n",
              "    }\n",
              "</style>\n",
              "<table border=\"1\" class=\"dataframe\">\n",
              "  <thead>\n",
              "    <tr style=\"text-align: right;\">\n",
              "      <th></th>\n",
              "      <th>PETR4.SA</th>\n",
              "      <th>VALE3.SA</th>\n",
              "      <th>ABEV3.SA</th>\n",
              "    </tr>\n",
              "    <tr>\n",
              "      <th>Date</th>\n",
              "      <th></th>\n",
              "      <th></th>\n",
              "      <th></th>\n",
              "    </tr>\n",
              "  </thead>\n",
              "  <tbody>\n",
              "    <tr>\n",
              "      <th>2015-01-02</th>\n",
              "      <td>8.683939</td>\n",
              "      <td>17.994938</td>\n",
              "      <td>13.735766</td>\n",
              "    </tr>\n",
              "    <tr>\n",
              "      <th>2015-01-05</th>\n",
              "      <td>7.941722</td>\n",
              "      <td>17.724333</td>\n",
              "      <td>13.487113</td>\n",
              "    </tr>\n",
              "    <tr>\n",
              "      <th>2015-01-06</th>\n",
              "      <td>7.681945</td>\n",
              "      <td>18.434660</td>\n",
              "      <td>14.001563</td>\n",
              "    </tr>\n",
              "    <tr>\n",
              "      <th>2015-01-07</th>\n",
              "      <td>8.043777</td>\n",
              "      <td>19.111164</td>\n",
              "      <td>14.198765</td>\n",
              "    </tr>\n",
              "    <tr>\n",
              "      <th>2015-01-08</th>\n",
              "      <td>8.563329</td>\n",
              "      <td>19.314112</td>\n",
              "      <td>14.264312</td>\n",
              "    </tr>\n",
              "  </tbody>\n",
              "</table>\n",
              "</div>"
            ],
            "text/plain": [
              "            PETR4.SA   VALE3.SA   ABEV3.SA\n",
              "Date                                      \n",
              "2015-01-02  8.683939  17.994938  13.735766\n",
              "2015-01-05  7.941722  17.724333  13.487113\n",
              "2015-01-06  7.681945  18.434660  14.001563\n",
              "2015-01-07  8.043777  19.111164  14.198765\n",
              "2015-01-08  8.563329  19.314112  14.264312"
            ]
          },
          "metadata": {
            "tags": []
          },
          "execution_count": 5
        }
      ]
    },
    {
      "cell_type": "code",
      "metadata": {
        "id": "89vcKNtxkH2K",
        "colab_type": "code",
        "colab": {
          "base_uri": "https://localhost:8080/",
          "height": 238
        },
        "outputId": "388fe7ce-e353-4cdb-86cb-5a4e1e3f656a"
      },
      "source": [
        "#Calcular a taxa de retorno simples  - Geralmente é mais utilizado para comparar ativos diferentes.\n",
        "df[\"retorno_simples\"] = (df[\"Adj Close\"]/df[\"Adj Close\"].shift(1)) -1\n",
        "print(df[\"retorno_simples\"])"
      ],
      "execution_count": 6,
      "outputs": [
        {
          "output_type": "stream",
          "text": [
            "Date\n",
            "2015-01-02         NaN\n",
            "2015-01-05   -0.085470\n",
            "2015-01-06   -0.032710\n",
            "2015-01-07    0.047102\n",
            "2015-01-08    0.064590\n",
            "                ...   \n",
            "2020-04-13    0.006540\n",
            "2020-04-14   -0.011813\n",
            "2020-04-15   -0.020921\n",
            "2020-04-16   -0.035409\n",
            "2020-04-17    0.020886\n",
            "Name: retorno_simples, Length: 1314, dtype: float64\n"
          ],
          "name": "stdout"
        }
      ]
    },
    {
      "cell_type": "code",
      "metadata": {
        "id": "cjy3lCmEumEy",
        "colab_type": "code",
        "colab": {
          "base_uri": "https://localhost:8080/",
          "height": 450
        },
        "outputId": "44888627-aecb-4e93-acb2-1c567350b2d1"
      },
      "source": [
        "#Transformar em uma DataFrame. (NaN - Not a Number)\n",
        "pd.DataFrame(df[\"retorno_simples\"])"
      ],
      "execution_count": 7,
      "outputs": [
        {
          "output_type": "execute_result",
          "data": {
            "text/html": [
              "<div>\n",
              "<style scoped>\n",
              "    .dataframe tbody tr th:only-of-type {\n",
              "        vertical-align: middle;\n",
              "    }\n",
              "\n",
              "    .dataframe tbody tr th {\n",
              "        vertical-align: top;\n",
              "    }\n",
              "\n",
              "    .dataframe thead th {\n",
              "        text-align: right;\n",
              "    }\n",
              "</style>\n",
              "<table border=\"1\" class=\"dataframe\">\n",
              "  <thead>\n",
              "    <tr style=\"text-align: right;\">\n",
              "      <th></th>\n",
              "      <th>retorno_simples</th>\n",
              "    </tr>\n",
              "    <tr>\n",
              "      <th>Date</th>\n",
              "      <th></th>\n",
              "    </tr>\n",
              "  </thead>\n",
              "  <tbody>\n",
              "    <tr>\n",
              "      <th>2015-01-02</th>\n",
              "      <td>NaN</td>\n",
              "    </tr>\n",
              "    <tr>\n",
              "      <th>2015-01-05</th>\n",
              "      <td>-0.085470</td>\n",
              "    </tr>\n",
              "    <tr>\n",
              "      <th>2015-01-06</th>\n",
              "      <td>-0.032710</td>\n",
              "    </tr>\n",
              "    <tr>\n",
              "      <th>2015-01-07</th>\n",
              "      <td>0.047102</td>\n",
              "    </tr>\n",
              "    <tr>\n",
              "      <th>2015-01-08</th>\n",
              "      <td>0.064590</td>\n",
              "    </tr>\n",
              "    <tr>\n",
              "      <th>...</th>\n",
              "      <td>...</td>\n",
              "    </tr>\n",
              "    <tr>\n",
              "      <th>2020-04-13</th>\n",
              "      <td>0.006540</td>\n",
              "    </tr>\n",
              "    <tr>\n",
              "      <th>2020-04-14</th>\n",
              "      <td>-0.011813</td>\n",
              "    </tr>\n",
              "    <tr>\n",
              "      <th>2020-04-15</th>\n",
              "      <td>-0.020921</td>\n",
              "    </tr>\n",
              "    <tr>\n",
              "      <th>2020-04-16</th>\n",
              "      <td>-0.035409</td>\n",
              "    </tr>\n",
              "    <tr>\n",
              "      <th>2020-04-17</th>\n",
              "      <td>0.020886</td>\n",
              "    </tr>\n",
              "  </tbody>\n",
              "</table>\n",
              "<p>1314 rows × 1 columns</p>\n",
              "</div>"
            ],
            "text/plain": [
              "            retorno_simples\n",
              "Date                       \n",
              "2015-01-02              NaN\n",
              "2015-01-05        -0.085470\n",
              "2015-01-06        -0.032710\n",
              "2015-01-07         0.047102\n",
              "2015-01-08         0.064590\n",
              "...                     ...\n",
              "2020-04-13         0.006540\n",
              "2020-04-14        -0.011813\n",
              "2020-04-15        -0.020921\n",
              "2020-04-16        -0.035409\n",
              "2020-04-17         0.020886\n",
              "\n",
              "[1314 rows x 1 columns]"
            ]
          },
          "metadata": {
            "tags": []
          },
          "execution_count": 7
        }
      ]
    },
    {
      "cell_type": "code",
      "metadata": {
        "id": "KvQZRiuuu8Qk",
        "colab_type": "code",
        "colab": {
          "base_uri": "https://localhost:8080/",
          "height": 266
        },
        "outputId": "2289a733-ff6d-48d3-e5f5-7a06693dda72"
      },
      "source": [
        "#Plotar em um gráfico.\n",
        "fig, ax = plt.subplots()\n",
        "df[\"retorno_simples\"].plot(figsize = (20,8))\n",
        "ax.set_title(\"Retorno Simples PETR4\")\n",
        "plt.tight_layout();"
      ],
      "execution_count": 8,
      "outputs": [
        {
          "output_type": "display_data",
          "data": {
            "image/png": "[encoded data removed]",
            "text/plain": [
              "<Figure size 1440x576 with 1 Axes>"
            ]
          },
          "metadata": {
            "tags": [],
            "needs_background": "light"
          }
        }
      ]
    },
    {
      "cell_type": "code",
      "metadata": {
        "id": "lp9PhQOXyELC",
        "colab_type": "code",
        "colab": {
          "base_uri": "https://localhost:8080/",
          "height": 34
        },
        "outputId": "36ecc43f-8ccc-428e-ee4e-b5d06259b585"
      },
      "source": [
        "#Calcular a taxa média de retorno diária .mean().\n",
        "taxa_retorno_diaria = df[\"retorno_simples\"].mean()\n",
        "print(\"Taxa Média de Retorno Diário:\", taxa_retorno_diaria*100,\"%\")\n",
        "\n"
      ],
      "execution_count": 9,
      "outputs": [
        {
          "output_type": "stream",
          "text": [
            "Taxa Média de Retorno Diário: 0.10795979681306506 %\n"
          ],
          "name": "stdout"
        }
      ]
    },
    {
      "cell_type": "code",
      "metadata": {
        "id": "GeX_LocX61v6",
        "colab_type": "code",
        "colab": {
          "base_uri": "https://localhost:8080/",
          "height": 34
        },
        "outputId": "7e8fb43b-5adc-4b0b-ad46-7091e7b354cb"
      },
      "source": [
        "#Calcular a taxa média de retorno anual.\n",
        "taxa_retorno_anual = df[\"retorno_simples\"].mean()*250\n",
        "taxa_retorno_anual"
      ],
      "execution_count": 10,
      "outputs": [
        {
          "output_type": "execute_result",
          "data": {
            "text/plain": [
              "0.26989949203266267"
            ]
          },
          "metadata": {
            "tags": []
          },
          "execution_count": 10
        }
      ]
    },
    {
      "cell_type": "code",
      "metadata": {
        "id": "5pLgODS4yhQ2",
        "colab_type": "code",
        "colab": {
          "base_uri": "https://localhost:8080/",
          "height": 34
        },
        "outputId": "361b90f4-6159-4ec6-86c5-b00bc525c7c2"
      },
      "source": [
        "#arredondar o valor e transformar em uma string.\n",
        "print(str(round(taxa_retorno_anual, 5) * 100),\"%\") "
      ],
      "execution_count": 11,
      "outputs": [
        {
          "output_type": "stream",
          "text": [
            "26.99 %\n"
          ],
          "name": "stdout"
        }
      ]
    },
    {
      "cell_type": "code",
      "metadata": {
        "id": "o_tj9h437b4K",
        "colab_type": "code",
        "colab": {
          "base_uri": "https://localhost:8080/",
          "height": 173
        },
        "outputId": "0c7b918e-8c9e-44ec-d915-49f8fc28800e"
      },
      "source": [
        "#Calcular a taxa de Retorno Logarítimico - Geralmente é utilizado com um único ativo.\n",
        "df.head(3)"
      ],
      "execution_count": 12,
      "outputs": [
        {
          "output_type": "execute_result",
          "data": {
            "text/html": [
              "<div>\n",
              "<style scoped>\n",
              "    .dataframe tbody tr th:only-of-type {\n",
              "        vertical-align: middle;\n",
              "    }\n",
              "\n",
              "    .dataframe tbody tr th {\n",
              "        vertical-align: top;\n",
              "    }\n",
              "\n",
              "    .dataframe thead th {\n",
              "        text-align: right;\n",
              "    }\n",
              "</style>\n",
              "<table border=\"1\" class=\"dataframe\">\n",
              "  <thead>\n",
              "    <tr style=\"text-align: right;\">\n",
              "      <th></th>\n",
              "      <th>High</th>\n",
              "      <th>Low</th>\n",
              "      <th>Open</th>\n",
              "      <th>Close</th>\n",
              "      <th>Volume</th>\n",
              "      <th>Adj Close</th>\n",
              "      <th>retorno_simples</th>\n",
              "    </tr>\n",
              "    <tr>\n",
              "      <th>Date</th>\n",
              "      <th></th>\n",
              "      <th></th>\n",
              "      <th></th>\n",
              "      <th></th>\n",
              "      <th></th>\n",
              "      <th></th>\n",
              "      <th></th>\n",
              "    </tr>\n",
              "  </thead>\n",
              "  <tbody>\n",
              "    <tr>\n",
              "      <th>2015-01-02</th>\n",
              "      <td>9.99</td>\n",
              "      <td>9.35</td>\n",
              "      <td>9.99</td>\n",
              "      <td>9.36</td>\n",
              "      <td>49559500.0</td>\n",
              "      <td>8.683939</td>\n",
              "      <td>NaN</td>\n",
              "    </tr>\n",
              "    <tr>\n",
              "      <th>2015-01-05</th>\n",
              "      <td>9.19</td>\n",
              "      <td>8.53</td>\n",
              "      <td>9.14</td>\n",
              "      <td>8.56</td>\n",
              "      <td>78385100.0</td>\n",
              "      <td>7.941722</td>\n",
              "      <td>-0.08547</td>\n",
              "    </tr>\n",
              "    <tr>\n",
              "      <th>2015-01-06</th>\n",
              "      <td>8.83</td>\n",
              "      <td>8.04</td>\n",
              "      <td>8.71</td>\n",
              "      <td>8.28</td>\n",
              "      <td>84723300.0</td>\n",
              "      <td>7.681945</td>\n",
              "      <td>-0.03271</td>\n",
              "    </tr>\n",
              "  </tbody>\n",
              "</table>\n",
              "</div>"
            ],
            "text/plain": [
              "            High   Low  Open  Close      Volume  Adj Close  retorno_simples\n",
              "Date                                                                       \n",
              "2015-01-02  9.99  9.35  9.99   9.36  49559500.0   8.683939              NaN\n",
              "2015-01-05  9.19  8.53  9.14   8.56  78385100.0   7.941722         -0.08547\n",
              "2015-01-06  8.83  8.04  8.71   8.28  84723300.0   7.681945         -0.03271"
            ]
          },
          "metadata": {
            "tags": []
          },
          "execution_count": 12
        }
      ]
    },
    {
      "cell_type": "code",
      "metadata": {
        "id": "ztvRsk-W9pcv",
        "colab_type": "code",
        "colab": {
          "base_uri": "https://localhost:8080/",
          "height": 238
        },
        "outputId": "869be296-f9b9-42d3-ad6f-f4cd7ef3fc34"
      },
      "source": [
        "df[\"retorno_logaritmico\"] = np.log(df[\"Adj Close\"]/df[\"Adj Close\"].shift(1))\n",
        "df[\"retorno_logaritmico\"]"
      ],
      "execution_count": 13,
      "outputs": [
        {
          "output_type": "execute_result",
          "data": {
            "text/plain": [
              "Date\n",
              "2015-01-02         NaN\n",
              "2015-01-05   -0.089345\n",
              "2015-01-06   -0.033257\n",
              "2015-01-07    0.046026\n",
              "2015-01-08    0.062590\n",
              "                ...   \n",
              "2020-04-13    0.006519\n",
              "2020-04-14   -0.011884\n",
              "2020-04-15   -0.021142\n",
              "2020-04-16   -0.036051\n",
              "2020-04-17    0.020671\n",
              "Name: retorno_logaritmico, Length: 1314, dtype: float64"
            ]
          },
          "metadata": {
            "tags": []
          },
          "execution_count": 13
        }
      ]
    },
    {
      "cell_type": "code",
      "metadata": {
        "id": "1YgU14Om_k3A",
        "colab_type": "code",
        "colab": {
          "base_uri": "https://localhost:8080/",
          "height": 266
        },
        "outputId": "75f18820-6e97-46dc-bb6a-0565a9577675"
      },
      "source": [
        "fig, ax = plt.subplots()\n",
        "df[\"retorno_logaritmico\"].plot(figsize = (20,8))\n",
        "ax.set_title(\"Retorno Logarítmico PETR4\")\n",
        "plt.tight_layout();"
      ],
      "execution_count": 14,
      "outputs": [
        {
          "output_type": "display_data",
          "data": {
            "image/png": "[encoded data removed]",
            "text/plain": [
              "<Figure size 1440x576 with 1 Axes>"
            ]
          },
          "metadata": {
            "tags": [],
            "needs_background": "light"
          }
        }
      ]
    },
    {
      "cell_type": "code",
      "metadata": {
        "id": "6igoGZLSAzKe",
        "colab_type": "code",
        "colab": {
          "base_uri": "https://localhost:8080/",
          "height": 34
        },
        "outputId": "2a954a7e-eaad-473d-804e-6fa8f95be9ab"
      },
      "source": [
        "#Calcular a taxa média de retorno diária .mean().\n",
        "taxa_retorno_logaritmico_diaria = df[\"retorno_logaritmico\"].mean()\n",
        "print(\"Taxa Média de Retorno Logarítmico Diário:\", taxa_retorno_logaritmico_diaria * 100,\"%\")\n",
        "\n"
      ],
      "execution_count": 15,
      "outputs": [
        {
          "output_type": "stream",
          "text": [
            "Taxa Média de Retorno Logarítmico Diário: 0.047159605089139314 %\n"
          ],
          "name": "stdout"
        }
      ]
    },
    {
      "cell_type": "code",
      "metadata": {
        "id": "qIyb0K8uBSpR",
        "colab_type": "code",
        "colab": {
          "base_uri": "https://localhost:8080/",
          "height": 34
        },
        "outputId": "6e86abc9-0ded-4266-928b-db9abddfef8e"
      },
      "source": [
        "taxa_retorno_logaritmico_anual = df[\"retorno_logaritmico\"].mean() * 250\n",
        "taxa_retorno_logaritmico_anual"
      ],
      "execution_count": 16,
      "outputs": [
        {
          "output_type": "execute_result",
          "data": {
            "text/plain": [
              "0.11789901272284828"
            ]
          },
          "metadata": {
            "tags": []
          },
          "execution_count": 16
        }
      ]
    },
    {
      "cell_type": "code",
      "metadata": {
        "id": "5OtIYZbtCJcG",
        "colab_type": "code",
        "colab": {
          "base_uri": "https://localhost:8080/",
          "height": 34
        },
        "outputId": "e0c7019f-cc0f-4f8c-9697-1e9ad9d123a2"
      },
      "source": [
        "print(str(round(taxa_retorno_logaritmico_anual,5)*100),\"%\")"
      ],
      "execution_count": 17,
      "outputs": [
        {
          "output_type": "stream",
          "text": [
            "11.790000000000001 %\n"
          ],
          "name": "stdout"
        }
      ]
    },
    {
      "cell_type": "code",
      "metadata": {
        "id": "n9IihbTzCXm4",
        "colab_type": "code",
        "colab": {}
      },
      "source": [
        ""
      ],
      "execution_count": 0,
      "outputs": []
    },
    {
      "cell_type": "markdown",
      "metadata": {
        "id": "kxNzycFtDPYi",
        "colab_type": "text"
      },
      "source": [
        "#Calcular a taxa de retorno de um portifólio"
      ]
    },
    {
      "cell_type": "code",
      "metadata": {
        "id": "mCdCGfy6DVcw",
        "colab_type": "code",
        "colab": {
          "base_uri": "https://localhost:8080/",
          "height": 235
        },
        "outputId": "86aea130-0869-47b6-b1f5-50ea98a0ba61"
      },
      "source": [
        "df_carteira.head()"
      ],
      "execution_count": 18,
      "outputs": [
        {
          "output_type": "execute_result",
          "data": {
            "text/html": [
              "<div>\n",
              "<style scoped>\n",
              "    .dataframe tbody tr th:only-of-type {\n",
              "        vertical-align: middle;\n",
              "    }\n",
              "\n",
              "    .dataframe tbody tr th {\n",
              "        vertical-align: top;\n",
              "    }\n",
              "\n",
              "    .dataframe thead th {\n",
              "        text-align: right;\n",
              "    }\n",
              "</style>\n",
              "<table border=\"1\" class=\"dataframe\">\n",
              "  <thead>\n",
              "    <tr style=\"text-align: right;\">\n",
              "      <th></th>\n",
              "      <th>PETR4.SA</th>\n",
              "      <th>VALE3.SA</th>\n",
              "      <th>ABEV3.SA</th>\n",
              "    </tr>\n",
              "    <tr>\n",
              "      <th>Date</th>\n",
              "      <th></th>\n",
              "      <th></th>\n",
              "      <th></th>\n",
              "    </tr>\n",
              "  </thead>\n",
              "  <tbody>\n",
              "    <tr>\n",
              "      <th>2015-01-02</th>\n",
              "      <td>8.683939</td>\n",
              "      <td>17.994938</td>\n",
              "      <td>13.735766</td>\n",
              "    </tr>\n",
              "    <tr>\n",
              "      <th>2015-01-05</th>\n",
              "      <td>7.941722</td>\n",
              "      <td>17.724333</td>\n",
              "      <td>13.487113</td>\n",
              "    </tr>\n",
              "    <tr>\n",
              "      <th>2015-01-06</th>\n",
              "      <td>7.681945</td>\n",
              "      <td>18.434660</td>\n",
              "      <td>14.001563</td>\n",
              "    </tr>\n",
              "    <tr>\n",
              "      <th>2015-01-07</th>\n",
              "      <td>8.043777</td>\n",
              "      <td>19.111164</td>\n",
              "      <td>14.198765</td>\n",
              "    </tr>\n",
              "    <tr>\n",
              "      <th>2015-01-08</th>\n",
              "      <td>8.563329</td>\n",
              "      <td>19.314112</td>\n",
              "      <td>14.264312</td>\n",
              "    </tr>\n",
              "  </tbody>\n",
              "</table>\n",
              "</div>"
            ],
            "text/plain": [
              "            PETR4.SA   VALE3.SA   ABEV3.SA\n",
              "Date                                      \n",
              "2015-01-02  8.683939  17.994938  13.735766\n",
              "2015-01-05  7.941722  17.724333  13.487113\n",
              "2015-01-06  7.681945  18.434660  14.001563\n",
              "2015-01-07  8.043777  19.111164  14.198765\n",
              "2015-01-08  8.563329  19.314112  14.264312"
            ]
          },
          "metadata": {
            "tags": []
          },
          "execution_count": 18
        }
      ]
    },
    {
      "cell_type": "code",
      "metadata": {
        "id": "vsxFHIeqDtZs",
        "colab_type": "code",
        "colab": {
          "base_uri": "https://localhost:8080/",
          "height": 85
        },
        "outputId": "0e502d13-6085-4876-b459-908c52cc3e3d"
      },
      "source": [
        "#Normalizar para a base 100.\n",
        "df_carteira.iloc[0]"
      ],
      "execution_count": 19,
      "outputs": [
        {
          "output_type": "execute_result",
          "data": {
            "text/plain": [
              "PETR4.SA     8.683939\n",
              "VALE3.SA    17.994938\n",
              "ABEV3.SA    13.735766\n",
              "Name: 2015-01-02 00:00:00, dtype: float64"
            ]
          },
          "metadata": {
            "tags": []
          },
          "execution_count": 19
        }
      ]
    },
    {
      "cell_type": "code",
      "metadata": {
        "id": "YgGyA9czEpdY",
        "colab_type": "code",
        "colab": {
          "base_uri": "https://localhost:8080/",
          "height": 327
        },
        "outputId": "b4b88767-de74-432a-a335-9d2d085b6253"
      },
      "source": [
        "#Criar um gráfico de linhas para analisa io comportamento dos ativos no período.\n",
        "(df_carteira/df_carteira.iloc[0]*100).plot(figsize = (10,5))\n",
        "plt.tight_layout();"
      ],
      "execution_count": 20,
      "outputs": [
        {
          "output_type": "display_data",
          "data": {
            "image/png": "[encoded data removed]",
            "text/plain": [
              "<Figure size 720x360 with 1 Axes>"
            ]
          },
          "metadata": {
            "tags": [],
            "needs_background": "light"
          }
        }
      ]
    },
    {
      "cell_type": "code",
      "metadata": {
        "id": "ao9_a3WhFDnJ",
        "colab_type": "code",
        "colab": {}
      },
      "source": [
        "retorno_carteira = (df_carteira/df_carteira.shift(1)) - 1 "
      ],
      "execution_count": 0,
      "outputs": []
    },
    {
      "cell_type": "code",
      "metadata": {
        "id": "TBmE8I3eHqDU",
        "colab_type": "code",
        "colab": {}
      },
      "source": [
        "#Transformar os pesos em uma matrix\n",
        "pesos = np.array([0.25, 0.5, 0.25])"
      ],
      "execution_count": 0,
      "outputs": []
    },
    {
      "cell_type": "code",
      "metadata": {
        "id": "fbLodEzSH26L",
        "colab_type": "code",
        "colab": {
          "base_uri": "https://localhost:8080/",
          "height": 51
        },
        "outputId": "1d162e3d-ec09-48a8-8937-5251600fcbed"
      },
      "source": [
        "#Multiplicar as matrizes\n",
        "np.dot(retorno_carteira, pesos)"
      ],
      "execution_count": 23,
      "outputs": [
        {
          "output_type": "execute_result",
          "data": {
            "text/plain": [
              "array([        nan, -0.0334121 ,  0.02139656, ..., -0.02027761,\n",
              "       -0.02286781,  0.01775587])"
            ]
          },
          "metadata": {
            "tags": []
          },
          "execution_count": 23
        }
      ]
    },
    {
      "cell_type": "code",
      "metadata": {
        "id": "NBnO-X7tH_mO",
        "colab_type": "code",
        "colab": {
          "base_uri": "https://localhost:8080/",
          "height": 85
        },
        "outputId": "9302edce-d803-41dc-b684-8f5affa5b51f"
      },
      "source": [
        "#Respectivo retorno anual de cada ativo\n",
        "retorno_carteira_anual = retorno_carteira.mean()*250\n",
        "retorno_carteira_anual"
      ],
      "execution_count": 24,
      "outputs": [
        {
          "output_type": "execute_result",
          "data": {
            "text/plain": [
              "PETR4.SA    0.269899\n",
              "VALE3.SA    0.304510\n",
              "ABEV3.SA    0.001341\n",
              "dtype: float64"
            ]
          },
          "metadata": {
            "tags": []
          },
          "execution_count": 24
        }
      ]
    },
    {
      "cell_type": "code",
      "metadata": {
        "id": "IwGYtZmyIWBd",
        "colab_type": "code",
        "colab": {
          "base_uri": "https://localhost:8080/",
          "height": 34
        },
        "outputId": "61946cba-34e8-4f91-a217-cb1f3b91b5e8"
      },
      "source": [
        "#Multiploicar o retorno anual pelo pesos achamos o retono anual da carteira\n",
        "np.dot(retorno_carteira_anual, pesos)"
      ],
      "execution_count": 25,
      "outputs": [
        {
          "output_type": "execute_result",
          "data": {
            "text/plain": [
              "0.22006483069604785"
            ]
          },
          "metadata": {
            "tags": []
          },
          "execution_count": 25
        }
      ]
    },
    {
      "cell_type": "code",
      "metadata": {
        "id": "TjtBA_IDKhAr",
        "colab_type": "code",
        "colab": {
          "base_uri": "https://localhost:8080/",
          "height": 51
        },
        "outputId": "6c6fbd9e-70b1-41df-aa1c-82603c176c0e"
      },
      "source": [
        "#Comparar o retorno anual da minha carteira com o de outra.\n",
        "pesos_2 = np.array([0.25, 0.4, 0.35])\n",
        "\n",
        "pfolio_1 = str(round(np.dot(retorno_carteira_anual, pesos), 5)*100)+\"%\"\n",
        "pfolio_2 = str(round(np.dot(retorno_carteira_anual, pesos_2), 5)*100)+\"%\"\n",
        "\n",
        "print(pfolio_1)\n",
        "print(pfolio_2)"
      ],
      "execution_count": 26,
      "outputs": [
        {
          "output_type": "stream",
          "text": [
            "22.006%\n",
            "18.975%\n"
          ],
          "name": "stdout"
        }
      ]
    },
    {
      "cell_type": "code",
      "metadata": {
        "id": "iB8hMquQLMMc",
        "colab_type": "code",
        "colab": {}
      },
      "source": [
        "#Comparaçao indices e minha carteira.\n",
        "indices = [\"^BVSP\",\"^GSPC\"]\n",
        "df_indices = pd.DataFrame()\n",
        "for t in indices:\n",
        "   df_indices[t] = wb.DataReader(t, data_source = \"yahoo\", start = '2015-01-01')['Adj Close']"
      ],
      "execution_count": 0,
      "outputs": []
    },
    {
      "cell_type": "code",
      "metadata": {
        "id": "TRVREKLuwZ0v",
        "colab_type": "code",
        "colab": {
          "base_uri": "https://localhost:8080/",
          "height": 235
        },
        "outputId": "806520e4-ab6a-4b97-c5de-59a4a6539d23"
      },
      "source": [
        "df_indices.head()"
      ],
      "execution_count": 28,
      "outputs": [
        {
          "output_type": "execute_result",
          "data": {
            "text/html": [
              "<div>\n",
              "<style scoped>\n",
              "    .dataframe tbody tr th:only-of-type {\n",
              "        vertical-align: middle;\n",
              "    }\n",
              "\n",
              "    .dataframe tbody tr th {\n",
              "        vertical-align: top;\n",
              "    }\n",
              "\n",
              "    .dataframe thead th {\n",
              "        text-align: right;\n",
              "    }\n",
              "</style>\n",
              "<table border=\"1\" class=\"dataframe\">\n",
              "  <thead>\n",
              "    <tr style=\"text-align: right;\">\n",
              "      <th></th>\n",
              "      <th>^BVSP</th>\n",
              "      <th>^GSPC</th>\n",
              "    </tr>\n",
              "    <tr>\n",
              "      <th>Date</th>\n",
              "      <th></th>\n",
              "      <th></th>\n",
              "    </tr>\n",
              "  </thead>\n",
              "  <tbody>\n",
              "    <tr>\n",
              "      <th>2015-01-02</th>\n",
              "      <td>48512.0</td>\n",
              "      <td>2058.199951</td>\n",
              "    </tr>\n",
              "    <tr>\n",
              "      <th>2015-01-05</th>\n",
              "      <td>47517.0</td>\n",
              "      <td>2020.579956</td>\n",
              "    </tr>\n",
              "    <tr>\n",
              "      <th>2015-01-06</th>\n",
              "      <td>48001.0</td>\n",
              "      <td>2002.609985</td>\n",
              "    </tr>\n",
              "    <tr>\n",
              "      <th>2015-01-07</th>\n",
              "      <td>49463.0</td>\n",
              "      <td>2025.900024</td>\n",
              "    </tr>\n",
              "    <tr>\n",
              "      <th>2015-01-08</th>\n",
              "      <td>49943.0</td>\n",
              "      <td>2062.139893</td>\n",
              "    </tr>\n",
              "  </tbody>\n",
              "</table>\n",
              "</div>"
            ],
            "text/plain": [
              "              ^BVSP        ^GSPC\n",
              "Date                            \n",
              "2015-01-02  48512.0  2058.199951\n",
              "2015-01-05  47517.0  2020.579956\n",
              "2015-01-06  48001.0  2002.609985\n",
              "2015-01-07  49463.0  2025.900024\n",
              "2015-01-08  49943.0  2062.139893"
            ]
          },
          "metadata": {
            "tags": []
          },
          "execution_count": 28
        }
      ]
    },
    {
      "cell_type": "code",
      "metadata": {
        "id": "ciFactAmwcSC",
        "colab_type": "code",
        "colab": {
          "base_uri": "https://localhost:8080/",
          "height": 265
        },
        "outputId": "0099edd3-6296-49a0-ba4b-83f5bd567968"
      },
      "source": [
        "(df_indices/df_indices.iloc[0]*100).plot(figsize=(15,6))\n",
        "plt.tight_layout();"
      ],
      "execution_count": 29,
      "outputs": [
        {
          "output_type": "display_data",
          "data": {
            "image/png": "[encoded data removed]",
            "text/plain": [
              "<Figure size 1080x432 with 1 Axes>"
            ]
          },
          "metadata": {
            "tags": [],
            "needs_background": "light"
          }
        }
      ]
    },
    {
      "cell_type": "code",
      "metadata": {
        "id": "nMjaDuwByEb5",
        "colab_type": "code",
        "colab": {
          "base_uri": "https://localhost:8080/",
          "height": 235
        },
        "outputId": "f32a775f-64f9-4165-fb9f-9a0611dcd879"
      },
      "source": [
        "#Calcular os retornos simples dos índices.\n",
        "df_indices_retorno = (df_indices/df_indices.shift(1)) -1\n",
        "df_indices_retorno.head()"
      ],
      "execution_count": 30,
      "outputs": [
        {
          "output_type": "execute_result",
          "data": {
            "text/html": [
              "<div>\n",
              "<style scoped>\n",
              "    .dataframe tbody tr th:only-of-type {\n",
              "        vertical-align: middle;\n",
              "    }\n",
              "\n",
              "    .dataframe tbody tr th {\n",
              "        vertical-align: top;\n",
              "    }\n",
              "\n",
              "    .dataframe thead th {\n",
              "        text-align: right;\n",
              "    }\n",
              "</style>\n",
              "<table border=\"1\" class=\"dataframe\">\n",
              "  <thead>\n",
              "    <tr style=\"text-align: right;\">\n",
              "      <th></th>\n",
              "      <th>^BVSP</th>\n",
              "      <th>^GSPC</th>\n",
              "    </tr>\n",
              "    <tr>\n",
              "      <th>Date</th>\n",
              "      <th></th>\n",
              "      <th></th>\n",
              "    </tr>\n",
              "  </thead>\n",
              "  <tbody>\n",
              "    <tr>\n",
              "      <th>2015-01-02</th>\n",
              "      <td>NaN</td>\n",
              "      <td>NaN</td>\n",
              "    </tr>\n",
              "    <tr>\n",
              "      <th>2015-01-05</th>\n",
              "      <td>-0.020510</td>\n",
              "      <td>-0.018278</td>\n",
              "    </tr>\n",
              "    <tr>\n",
              "      <th>2015-01-06</th>\n",
              "      <td>0.010186</td>\n",
              "      <td>-0.008893</td>\n",
              "    </tr>\n",
              "    <tr>\n",
              "      <th>2015-01-07</th>\n",
              "      <td>0.030458</td>\n",
              "      <td>0.011630</td>\n",
              "    </tr>\n",
              "    <tr>\n",
              "      <th>2015-01-08</th>\n",
              "      <td>0.009704</td>\n",
              "      <td>0.017888</td>\n",
              "    </tr>\n",
              "  </tbody>\n",
              "</table>\n",
              "</div>"
            ],
            "text/plain": [
              "               ^BVSP     ^GSPC\n",
              "Date                          \n",
              "2015-01-02       NaN       NaN\n",
              "2015-01-05 -0.020510 -0.018278\n",
              "2015-01-06  0.010186 -0.008893\n",
              "2015-01-07  0.030458  0.011630\n",
              "2015-01-08  0.009704  0.017888"
            ]
          },
          "metadata": {
            "tags": []
          },
          "execution_count": 30
        }
      ]
    },
    {
      "cell_type": "code",
      "metadata": {
        "id": "gqldO0r50NV5",
        "colab_type": "code",
        "colab": {
          "base_uri": "https://localhost:8080/",
          "height": 68
        },
        "outputId": "39eea3b2-7a83-4098-d6f9-8859c9b29164"
      },
      "source": [
        "#Aparentemente o IBOV superou o SP 500\n",
        "df_indices_retorno_anual = df_indices_retorno.mean()*250\n",
        "df_indices_retorno_anual"
      ],
      "execution_count": 31,
      "outputs": [
        {
          "output_type": "execute_result",
          "data": {
            "text/plain": [
              "^BVSP    0.131068\n",
              "^GSPC    0.097009\n",
              "dtype: float64"
            ]
          },
          "metadata": {
            "tags": []
          },
          "execution_count": 31
        }
      ]
    },
    {
      "cell_type": "markdown",
      "metadata": {
        "id": "3YtegLmE1FrL",
        "colab_type": "text"
      },
      "source": [
        "#Como medir o risco de um ativo.\n",
        "\n"
      ]
    },
    {
      "cell_type": "code",
      "metadata": {
        "id": "PDf-1pG_dbX6",
        "colab_type": "code",
        "colab": {}
      },
      "source": [
        "tickers = [\"PETR4.SA\", \"VALE3.SA\"]\n",
        "sec_data = pd.DataFrame()\n",
        "for t in tickers :\n",
        "  sec_data[t] = wb.DataReader(t, data_source = \"yahoo\", start = \"1990-01-01\")[\"Adj Close\"]\n"
      ],
      "execution_count": 0,
      "outputs": []
    },
    {
      "cell_type": "code",
      "metadata": {
        "id": "qlucTkH5gk6W",
        "colab_type": "code",
        "colab": {
          "base_uri": "https://localhost:8080/",
          "height": 173
        },
        "outputId": "801aec51-2af6-41b2-827c-743e698b961b"
      },
      "source": [
        "sec_data.head(3)"
      ],
      "execution_count": 97,
      "outputs": [
        {
          "output_type": "execute_result",
          "data": {
            "text/html": [
              "<div>\n",
              "<style scoped>\n",
              "    .dataframe tbody tr th:only-of-type {\n",
              "        vertical-align: middle;\n",
              "    }\n",
              "\n",
              "    .dataframe tbody tr th {\n",
              "        vertical-align: top;\n",
              "    }\n",
              "\n",
              "    .dataframe thead th {\n",
              "        text-align: right;\n",
              "    }\n",
              "</style>\n",
              "<table border=\"1\" class=\"dataframe\">\n",
              "  <thead>\n",
              "    <tr style=\"text-align: right;\">\n",
              "      <th></th>\n",
              "      <th>PETR4.SA</th>\n",
              "      <th>VALE3.SA</th>\n",
              "    </tr>\n",
              "    <tr>\n",
              "      <th>Date</th>\n",
              "      <th></th>\n",
              "      <th></th>\n",
              "    </tr>\n",
              "  </thead>\n",
              "  <tbody>\n",
              "    <tr>\n",
              "      <th>2000-01-03</th>\n",
              "      <td>4.050402</td>\n",
              "      <td>2.266039</td>\n",
              "    </tr>\n",
              "    <tr>\n",
              "      <th>2000-01-04</th>\n",
              "      <td>3.826338</td>\n",
              "      <td>2.212088</td>\n",
              "    </tr>\n",
              "    <tr>\n",
              "      <th>2000-01-05</th>\n",
              "      <td>3.787730</td>\n",
              "      <td>2.212088</td>\n",
              "    </tr>\n",
              "  </tbody>\n",
              "</table>\n",
              "</div>"
            ],
            "text/plain": [
              "            PETR4.SA  VALE3.SA\n",
              "Date                          \n",
              "2000-01-03  4.050402  2.266039\n",
              "2000-01-04  3.826338  2.212088\n",
              "2000-01-05  3.787730  2.212088"
            ]
          },
          "metadata": {
            "tags": []
          },
          "execution_count": 97
        }
      ]
    },
    {
      "cell_type": "code",
      "metadata": {
        "id": "5FNS_XY6iCzR",
        "colab_type": "code",
        "colab": {}
      },
      "source": [
        "sec_returns = np.log(sec_data/sec_data.shift(1))"
      ],
      "execution_count": 0,
      "outputs": []
    },
    {
      "cell_type": "code",
      "metadata": {
        "id": "9ilC6NW-iQq2",
        "colab_type": "code",
        "colab": {
          "base_uri": "https://localhost:8080/",
          "height": 450
        },
        "outputId": "3b0a61c0-8e4c-455b-ca79-33212440e38b"
      },
      "source": [
        "sec_returns"
      ],
      "execution_count": 99,
      "outputs": [
        {
          "output_type": "execute_result",
          "data": {
            "text/html": [
              "<div>\n",
              "<style scoped>\n",
              "    .dataframe tbody tr th:only-of-type {\n",
              "        vertical-align: middle;\n",
              "    }\n",
              "\n",
              "    .dataframe tbody tr th {\n",
              "        vertical-align: top;\n",
              "    }\n",
              "\n",
              "    .dataframe thead th {\n",
              "        text-align: right;\n",
              "    }\n",
              "</style>\n",
              "<table border=\"1\" class=\"dataframe\">\n",
              "  <thead>\n",
              "    <tr style=\"text-align: right;\">\n",
              "      <th></th>\n",
              "      <th>PETR4.SA</th>\n",
              "      <th>VALE3.SA</th>\n",
              "    </tr>\n",
              "    <tr>\n",
              "      <th>Date</th>\n",
              "      <th></th>\n",
              "      <th></th>\n",
              "    </tr>\n",
              "  </thead>\n",
              "  <tbody>\n",
              "    <tr>\n",
              "      <th>2000-01-03</th>\n",
              "      <td>NaN</td>\n",
              "      <td>NaN</td>\n",
              "    </tr>\n",
              "    <tr>\n",
              "      <th>2000-01-04</th>\n",
              "      <td>-0.056908</td>\n",
              "      <td>-0.024096</td>\n",
              "    </tr>\n",
              "    <tr>\n",
              "      <th>2000-01-05</th>\n",
              "      <td>-0.010141</td>\n",
              "      <td>0.000000</td>\n",
              "    </tr>\n",
              "    <tr>\n",
              "      <th>2000-01-06</th>\n",
              "      <td>-0.003464</td>\n",
              "      <td>0.000000</td>\n",
              "    </tr>\n",
              "    <tr>\n",
              "      <th>2000-01-07</th>\n",
              "      <td>0.004556</td>\n",
              "      <td>0.035932</td>\n",
              "    </tr>\n",
              "    <tr>\n",
              "      <th>...</th>\n",
              "      <td>...</td>\n",
              "      <td>...</td>\n",
              "    </tr>\n",
              "    <tr>\n",
              "      <th>2020-04-13</th>\n",
              "      <td>0.006519</td>\n",
              "      <td>0.029370</td>\n",
              "    </tr>\n",
              "    <tr>\n",
              "      <th>2020-04-14</th>\n",
              "      <td>-0.011884</td>\n",
              "      <td>0.000449</td>\n",
              "    </tr>\n",
              "    <tr>\n",
              "      <th>2020-04-15</th>\n",
              "      <td>-0.021142</td>\n",
              "      <td>-0.022911</td>\n",
              "    </tr>\n",
              "    <tr>\n",
              "      <th>2020-04-16</th>\n",
              "      <td>-0.036051</td>\n",
              "      <td>-0.008758</td>\n",
              "    </tr>\n",
              "    <tr>\n",
              "      <th>2020-04-17</th>\n",
              "      <td>0.020671</td>\n",
              "      <td>0.018349</td>\n",
              "    </tr>\n",
              "  </tbody>\n",
              "</table>\n",
              "<p>4991 rows × 2 columns</p>\n",
              "</div>"
            ],
            "text/plain": [
              "            PETR4.SA  VALE3.SA\n",
              "Date                          \n",
              "2000-01-03       NaN       NaN\n",
              "2000-01-04 -0.056908 -0.024096\n",
              "2000-01-05 -0.010141  0.000000\n",
              "2000-01-06 -0.003464  0.000000\n",
              "2000-01-07  0.004556  0.035932\n",
              "...              ...       ...\n",
              "2020-04-13  0.006519  0.029370\n",
              "2020-04-14 -0.011884  0.000449\n",
              "2020-04-15 -0.021142 -0.022911\n",
              "2020-04-16 -0.036051 -0.008758\n",
              "2020-04-17  0.020671  0.018349\n",
              "\n",
              "[4991 rows x 2 columns]"
            ]
          },
          "metadata": {
            "tags": []
          },
          "execution_count": 99
        }
      ]
    },
    {
      "cell_type": "code",
      "metadata": {
        "id": "KbPN1m_WiSR5",
        "colab_type": "code",
        "colab": {
          "base_uri": "https://localhost:8080/",
          "height": 34
        },
        "outputId": "246f0d34-3c2e-455e-bb5c-999efbbca849"
      },
      "source": [
        "sec_returns['PETR4.SA'].mean()*250"
      ],
      "execution_count": 100,
      "outputs": [
        {
          "output_type": "execute_result",
          "data": {
            "text/plain": [
              "0.0692317024939194"
            ]
          },
          "metadata": {
            "tags": []
          },
          "execution_count": 100
        }
      ]
    },
    {
      "cell_type": "code",
      "metadata": {
        "id": "7Vx_RUDLivAs",
        "colab_type": "code",
        "colab": {
          "base_uri": "https://localhost:8080/",
          "height": 34
        },
        "outputId": "f69b0a40-4d89-46f1-f69d-bd4889292994"
      },
      "source": [
        "#Lembrar de tirar a raiz quadrada de 250, pois o std é a raiz da variância.\n",
        "sec_returns['PETR4.SA'].std()*250**0.5"
      ],
      "execution_count": 101,
      "outputs": [
        {
          "output_type": "execute_result",
          "data": {
            "text/plain": [
              "0.43350589979055687"
            ]
          },
          "metadata": {
            "tags": []
          },
          "execution_count": 101
        }
      ]
    },
    {
      "cell_type": "code",
      "metadata": {
        "id": "dBESoAVyi-JY",
        "colab_type": "code",
        "colab": {
          "base_uri": "https://localhost:8080/",
          "height": 68
        },
        "outputId": "e4bb44d6-d7ba-4dcb-b000-20b394ce254b"
      },
      "source": [
        "#Para compara as duas em empresas basta verificar a que tem menor desvio padrao com o maior retorno\n",
        "#basta fazer o mesmo método para vale.\n",
        "\n",
        "#temos que utilizar dois colchetes pois representa um array com duas dimensões.\n",
        "sec_returns[[\"PETR4.SA\", \"VALE3.SA\"]].mean()*250"
      ],
      "execution_count": 102,
      "outputs": [
        {
          "output_type": "execute_result",
          "data": {
            "text/plain": [
              "PETR4.SA    0.069232\n",
              "VALE3.SA    0.148617\n",
              "dtype: float64"
            ]
          },
          "metadata": {
            "tags": []
          },
          "execution_count": 102
        }
      ]
    },
    {
      "cell_type": "code",
      "metadata": {
        "id": "0_3FXZ67kFQ-",
        "colab_type": "code",
        "colab": {
          "base_uri": "https://localhost:8080/",
          "height": 68
        },
        "outputId": "07f1d889-9d5f-432a-8a6e-8e826a6a6cfb"
      },
      "source": [
        "sec_returns[[\"PETR4.SA\", \"VALE3.SA\"]].std()*250**0.5"
      ],
      "execution_count": 103,
      "outputs": [
        {
          "output_type": "execute_result",
          "data": {
            "text/plain": [
              "PETR4.SA    0.433506\n",
              "VALE3.SA    0.421724\n",
              "dtype: float64"
            ]
          },
          "metadata": {
            "tags": []
          },
          "execution_count": 103
        }
      ]
    },
    {
      "cell_type": "markdown",
      "metadata": {
        "id": "Llo7IIjdkRRI",
        "colab_type": "text"
      },
      "source": [
        "#Relação entre ativos financeiros"
      ]
    },
    {
      "cell_type": "code",
      "metadata": {
        "id": "1wO2QENDkT4X",
        "colab_type": "code",
        "colab": {
          "base_uri": "https://localhost:8080/",
          "height": 34
        },
        "outputId": "637ca363-0292-469b-956b-cb8a2514fd5f"
      },
      "source": [
        "#Como quantificar o retorno de dois ativos.\n",
        "petr_var = sec_returns['PETR4.SA'].var()*250\n",
        "petr_var"
      ],
      "execution_count": 104,
      "outputs": [
        {
          "output_type": "execute_result",
          "data": {
            "text/plain": [
              "0.18792736515322034"
            ]
          },
          "metadata": {
            "tags": []
          },
          "execution_count": 104
        }
      ]
    },
    {
      "cell_type": "code",
      "metadata": {
        "id": "wk8Q9NbGnTUm",
        "colab_type": "code",
        "colab": {
          "base_uri": "https://localhost:8080/",
          "height": 34
        },
        "outputId": "9dac73ee-96b7-47cf-bfc1-b33360e72182"
      },
      "source": [
        "vale_var = sec_returns['VALE3.SA'].var()*250\n",
        "vale_var"
      ],
      "execution_count": 105,
      "outputs": [
        {
          "output_type": "execute_result",
          "data": {
            "text/plain": [
              "0.1778511285552555"
            ]
          },
          "metadata": {
            "tags": []
          },
          "execution_count": 105
        }
      ]
    },
    {
      "cell_type": "code",
      "metadata": {
        "id": "TFLyax2ynpll",
        "colab_type": "code",
        "colab": {
          "base_uri": "https://localhost:8080/",
          "height": 111
        },
        "outputId": "91378d9c-43a9-45d2-dbaf-891bc82abf7e"
      },
      "source": [
        "#Calculo da Covariancia\n",
        "#Observar que a Covariancoa entre petr e petr é a propria variacia de petr\n",
        "cov_matrix = sec_returns.cov()*250 #anual\n",
        "cov_matrix"
      ],
      "execution_count": 106,
      "outputs": [
        {
          "output_type": "execute_result",
          "data": {
            "text/html": [
              "<div>\n",
              "<style scoped>\n",
              "    .dataframe tbody tr th:only-of-type {\n",
              "        vertical-align: middle;\n",
              "    }\n",
              "\n",
              "    .dataframe tbody tr th {\n",
              "        vertical-align: top;\n",
              "    }\n",
              "\n",
              "    .dataframe thead th {\n",
              "        text-align: right;\n",
              "    }\n",
              "</style>\n",
              "<table border=\"1\" class=\"dataframe\">\n",
              "  <thead>\n",
              "    <tr style=\"text-align: right;\">\n",
              "      <th></th>\n",
              "      <th>PETR4.SA</th>\n",
              "      <th>VALE3.SA</th>\n",
              "    </tr>\n",
              "  </thead>\n",
              "  <tbody>\n",
              "    <tr>\n",
              "      <th>PETR4.SA</th>\n",
              "      <td>0.187927</td>\n",
              "      <td>0.091693</td>\n",
              "    </tr>\n",
              "    <tr>\n",
              "      <th>VALE3.SA</th>\n",
              "      <td>0.091693</td>\n",
              "      <td>0.177851</td>\n",
              "    </tr>\n",
              "  </tbody>\n",
              "</table>\n",
              "</div>"
            ],
            "text/plain": [
              "          PETR4.SA  VALE3.SA\n",
              "PETR4.SA  0.187927  0.091693\n",
              "VALE3.SA  0.091693  0.177851"
            ]
          },
          "metadata": {
            "tags": []
          },
          "execution_count": 106
        }
      ]
    },
    {
      "cell_type": "code",
      "metadata": {
        "id": "YwtKo8SPnv6U",
        "colab_type": "code",
        "colab": {
          "base_uri": "https://localhost:8080/",
          "height": 111
        },
        "outputId": "7fd6e3db-faad-4cc1-abcd-66c36136a08d"
      },
      "source": [
        "#Calculo da \n",
        "#Essa é a correlação dos retornos e nao dos precos.\n",
        "#Nao anulaizar pois nao nos traz retornos medios diarios apenas  a correlcao entre retornos.\n",
        "#O que importa para um investidor é o retorno e nao o preco, por isso o cálculo foi realizado em cima do retorno.\n",
        "corr_matrix = sec_returns.corr()\n",
        "corr_matrix"
      ],
      "execution_count": 107,
      "outputs": [
        {
          "output_type": "execute_result",
          "data": {
            "text/html": [
              "<div>\n",
              "<style scoped>\n",
              "    .dataframe tbody tr th:only-of-type {\n",
              "        vertical-align: middle;\n",
              "    }\n",
              "\n",
              "    .dataframe tbody tr th {\n",
              "        vertical-align: top;\n",
              "    }\n",
              "\n",
              "    .dataframe thead th {\n",
              "        text-align: right;\n",
              "    }\n",
              "</style>\n",
              "<table border=\"1\" class=\"dataframe\">\n",
              "  <thead>\n",
              "    <tr style=\"text-align: right;\">\n",
              "      <th></th>\n",
              "      <th>PETR4.SA</th>\n",
              "      <th>VALE3.SA</th>\n",
              "    </tr>\n",
              "  </thead>\n",
              "  <tbody>\n",
              "    <tr>\n",
              "      <th>PETR4.SA</th>\n",
              "      <td>1.000000</td>\n",
              "      <td>0.501485</td>\n",
              "    </tr>\n",
              "    <tr>\n",
              "      <th>VALE3.SA</th>\n",
              "      <td>0.501485</td>\n",
              "      <td>1.000000</td>\n",
              "    </tr>\n",
              "  </tbody>\n",
              "</table>\n",
              "</div>"
            ],
            "text/plain": [
              "          PETR4.SA  VALE3.SA\n",
              "PETR4.SA  1.000000  0.501485\n",
              "VALE3.SA  0.501485  1.000000"
            ]
          },
          "metadata": {
            "tags": []
          },
          "execution_count": 107
        }
      ]
    },
    {
      "cell_type": "markdown",
      "metadata": {
        "id": "OLmwWoWOrlst",
        "colab_type": "text"
      },
      "source": [
        "#Calculando o Risco de um Portifólio"
      ]
    },
    {
      "cell_type": "code",
      "metadata": {
        "id": "mi1-Jn4EnxXh",
        "colab_type": "code",
        "colab": {}
      },
      "source": [
        "pesos =np.array([0.5, 0.5])"
      ],
      "execution_count": 0,
      "outputs": []
    },
    {
      "cell_type": "code",
      "metadata": {
        "id": "Paek4loXr3PP",
        "colab_type": "code",
        "colab": {
          "base_uri": "https://localhost:8080/",
          "height": 34
        },
        "outputId": "eacdcee2-edec-4e96-af77-40e4ffb56d62"
      },
      "source": [
        "#Variancia de um portifolio\n",
        "pfolio_var = np.dot(pesos.T, np.dot(sec_returns.cov()*250, pesos))\n",
        "print (str(round(pfolio_var, 5)*100)+\"%\")"
      ],
      "execution_count": 128,
      "outputs": [
        {
          "output_type": "stream",
          "text": [
            "13.729%\n"
          ],
          "name": "stdout"
        }
      ]
    },
    {
      "cell_type": "code",
      "metadata": {
        "id": "TU5jh0nstjZQ",
        "colab_type": "code",
        "colab": {
          "base_uri": "https://localhost:8080/",
          "height": 34
        },
        "outputId": "9ac606da-c84f-4eea-a89b-e882f5d55f51"
      },
      "source": [
        "#calculo da volatilidade do portifolio é a raiz quadrada da variancia\n",
        "pfolio_vol = np.dot(pesos.T, np.dot(sec_returns.cov()*250, pesos))**0.5\n",
        "pfolio_vol"
      ],
      "execution_count": 110,
      "outputs": [
        {
          "output_type": "execute_result",
          "data": {
            "text/plain": [
              "0.37052786142311395"
            ]
          },
          "metadata": {
            "tags": []
          },
          "execution_count": 110
        }
      ]
    },
    {
      "cell_type": "code",
      "metadata": {
        "id": "hhNSOqsFt_nA",
        "colab_type": "code",
        "colab": {
          "base_uri": "https://localhost:8080/",
          "height": 34
        },
        "outputId": "d1b483f9-0ec1-4741-f2cb-41d95c6c7f04"
      },
      "source": [
        "print (str(round(pfolio_vol, 5)*100)+\"%\")"
      ],
      "execution_count": 111,
      "outputs": [
        {
          "output_type": "stream",
          "text": [
            "37.053000000000004%\n"
          ],
          "name": "stdout"
        }
      ]
    },
    {
      "cell_type": "code",
      "metadata": {
        "id": "ZuZRkOv7uLBN",
        "colab_type": "code",
        "colab": {}
      },
      "source": [
        ""
      ],
      "execution_count": 0,
      "outputs": []
    },
    {
      "cell_type": "markdown",
      "metadata": {
        "id": "w4sSWRBJwqIB",
        "colab_type": "text"
      },
      "source": [
        ""
      ]
    },
    {
      "cell_type": "markdown",
      "metadata": {
        "id": "3O2_0jjMwqbF",
        "colab_type": "text"
      },
      "source": [
        "#Cálculo do Rsico Diversificável e não diversificável.\n",
        "\n",
        "O risco de um  carteira pod ser descrito com a soma de dois componetes: a variancoa dos ativos na carteira e o produtos entre o produto da covariancia entre as acoes e seus desvio padrao.\n",
        "\n",
        "\n",
        "\n",
        "\n",
        "\n",
        "*   Risco não diversificáve \n",
        "Este componente depende da Variancia de cada ativo, também conhecido como *Risco Sistemático*.\n",
        "\n",
        "\n",
        "*   Risco Diversificável\n",
        "\n",
        "Tambvém conhecido como Risco Idiossincrático é o risco específico de uma empresa.Impulsinado por eventods específicos da emopresa.\n",
        "\n",
        "\n",
        "\n",
        "\n",
        "\n"
      ]
    },
    {
      "cell_type": "code",
      "metadata": {
        "id": "jxzvCheNwvJz",
        "colab_type": "code",
        "colab": {
          "base_uri": "https://localhost:8080/",
          "height": 68
        },
        "outputId": "44435e98-0faf-488a-d1dc-780fa5ca3f1c"
      },
      "source": [
        "#Risco Diversificável de um Portifólio = Variância do Portifólio - Variância Anual Ponderada de cada ação.\n",
        "#cada par de colchetes adicional ao redor da colua adicioan uma dimensao a matrix numpy\n",
        "\n",
        "\n",
        "\n",
        "weights = np.array([0.5,0.5])\n",
        "\n",
        "#Risco diversificável.\n",
        "\n",
        "petr4_var_a = sec_returns[[\"PETR4.SA\"]].var()*250\n",
        "\n",
        "vale3_var_a = sec_returns[[\"VALE3.SA\"]].var()*250\n",
        "\n",
        "diversifiable_risk = pfolio_var - (weights[0]**2*petr4_var_a) - (weights[1]**2**vale3_var_a)\n",
        "diversifiable_risk\n",
        "\n",
        "\n",
        "##Aos invés de um número decimal obteremos um vetor sem número, por isso deve-se ter cuidado ao criar vetores numpy.\n",
        "\n",
        "\n",
        "\n"
      ],
      "execution_count": 112,
      "outputs": [
        {
          "output_type": "execute_result",
          "data": {
            "text/plain": [
              "PETR4.SA   NaN\n",
              "VALE3.SA   NaN\n",
              "dtype: float64"
            ]
          },
          "metadata": {
            "tags": []
          },
          "execution_count": 112
        }
      ]
    },
    {
      "cell_type": "code",
      "metadata": {
        "id": "dIGnzg6odV7F",
        "colab_type": "code",
        "colab": {
          "base_uri": "https://localhost:8080/",
          "height": 34
        },
        "outputId": "2fadb9f1-85fe-40c3-efbc-e0e5c40f3335"
      },
      "source": [
        "#Técnicas para resolver esse problema. Como a varinacia da petr4 é armazenada em uma matrix 1X1, \n",
        "#esse irá ser um valor único. Então pode-se tranformar esse valor em um decimal.\n",
        "\n",
        "float(petr4_var_a)\n"
      ],
      "execution_count": 113,
      "outputs": [
        {
          "output_type": "execute_result",
          "data": {
            "text/plain": [
              "0.18792736515322034"
            ]
          },
          "metadata": {
            "tags": []
          },
          "execution_count": 113
        }
      ]
    },
    {
      "cell_type": "code",
      "metadata": {
        "id": "rckzxHE1fcvt",
        "colab_type": "code",
        "colab": {
          "base_uri": "https://localhost:8080/",
          "height": 34
        },
        "outputId": "a8664a1d-3ed7-41f4-839b-a6b6c9b99c2c"
      },
      "source": [
        "#Pode-se utilizar colchetes simples quando indicar que irá utilizar os dados da coluna petr4.\n",
        "petr4_var_a = sec_returns[\"PETR4.SA\"].var()*250\n",
        "petr4_var_a"
      ],
      "execution_count": 114,
      "outputs": [
        {
          "output_type": "execute_result",
          "data": {
            "text/plain": [
              "0.18792736515322034"
            ]
          },
          "metadata": {
            "tags": []
          },
          "execution_count": 114
        }
      ]
    },
    {
      "cell_type": "code",
      "metadata": {
        "id": "JP1fyj45f7V4",
        "colab_type": "code",
        "colab": {
          "base_uri": "https://localhost:8080/",
          "height": 34
        },
        "outputId": "43c0a61f-11f0-416d-d7e8-219976b4a469"
      },
      "source": [
        "#Aplicar o mesmo método pra VALE3\n",
        "vale3_var_a = sec_returns[\"VALE3.SA\"].var()*250\n",
        "vale3_var_a"
      ],
      "execution_count": 115,
      "outputs": [
        {
          "output_type": "execute_result",
          "data": {
            "text/plain": [
              "0.1778511285552555"
            ]
          },
          "metadata": {
            "tags": []
          },
          "execution_count": 115
        }
      ]
    },
    {
      "cell_type": "code",
      "metadata": {
        "id": "V8aAykRwgMHu",
        "colab_type": "code",
        "colab": {
          "base_uri": "https://localhost:8080/",
          "height": 34
        },
        "outputId": "d377f150-36ff-4d2e-ba60-925deb9ac552"
      },
      "source": [
        "#Então o diversifiabvle Risk will be.\n",
        "\n",
        "diversifiable_risk = pfolio_var - (weights[0]**2*petr4_var_a) - (weights[1]**2*vale3_var_a)\n",
        "diversifiable_risk"
      ],
      "execution_count": 116,
      "outputs": [
        {
          "output_type": "execute_result",
          "data": {
            "text/plain": [
              "0.045846272663667385"
            ]
          },
          "metadata": {
            "tags": []
          },
          "execution_count": 116
        }
      ]
    },
    {
      "cell_type": "code",
      "metadata": {
        "id": "Tq6jyGAKg7OV",
        "colab_type": "code",
        "colab": {
          "base_uri": "https://localhost:8080/",
          "height": 34
        },
        "outputId": "eab4d148-8e50-488f-d9d7-4c75554a7048"
      },
      "source": [
        "print(str(round(diversifiable_risk*100, 2))+\"%\")"
      ],
      "execution_count": 117,
      "outputs": [
        {
          "output_type": "stream",
          "text": [
            "4.58%\n"
          ],
          "name": "stdout"
        }
      ]
    },
    {
      "cell_type": "code",
      "metadata": {
        "id": "rXOfznXYhIte",
        "colab_type": "code",
        "colab": {
          "base_uri": "https://localhost:8080/",
          "height": 34
        },
        "outputId": "a5680c8a-59ae-49a4-c4d9-69e267545a0a"
      },
      "source": [
        "#Verificando o risco não diversificável\n",
        "n_dr_1 = pfolio_var - diversifiable_risk\n",
        "print(str(round(n_dr_1*100, 2))+\"%\")"
      ],
      "execution_count": 127,
      "outputs": [
        {
          "output_type": "stream",
          "text": [
            "9.14%\n"
          ],
          "name": "stdout"
        }
      ]
    },
    {
      "cell_type": "code",
      "metadata": {
        "id": "uGjllfGPmHzB",
        "colab_type": "code",
        "colab": {
          "base_uri": "https://localhost:8080/",
          "height": 34
        },
        "outputId": "eb92c155-4c38-47ad-8f82-02ec8870e971"
      },
      "source": [
        "n_dr_2 = (weights[0]**2*petr4_var_a) + (weights[1]**2*vale3_var_a)\n",
        "n_dr_2"
      ],
      "execution_count": 122,
      "outputs": [
        {
          "output_type": "execute_result",
          "data": {
            "text/plain": [
              "0.09144462342711895"
            ]
          },
          "metadata": {
            "tags": []
          },
          "execution_count": 122
        }
      ]
    },
    {
      "cell_type": "code",
      "metadata": {
        "id": "sxiESz-UmZO3",
        "colab_type": "code",
        "colab": {
          "base_uri": "https://localhost:8080/",
          "height": 34
        },
        "outputId": "11d43f4c-4969-4c3a-b735-b3dd98ecabf2"
      },
      "source": [
        "n_dr_1 == n_dr_2"
      ],
      "execution_count": 124,
      "outputs": [
        {
          "output_type": "execute_result",
          "data": {
            "text/plain": [
              "True"
            ]
          },
          "metadata": {
            "tags": []
          },
          "execution_count": 124
        }
      ]
    },
    {
      "cell_type": "code",
      "metadata": {
        "id": "vF4rNJ3HmeIh",
        "colab_type": "code",
        "colab": {}
      },
      "source": [
        ""
      ],
      "execution_count": 0,
      "outputs": []
    }
  ]
}