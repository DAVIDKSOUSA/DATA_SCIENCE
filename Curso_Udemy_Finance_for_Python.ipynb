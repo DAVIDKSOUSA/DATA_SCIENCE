{
  "nbformat": 4,
  "nbformat_minor": 0,
  "metadata": {
    "colab": {
      "name": "Curso Udemy Finance for Python.ipynb",
      "provenance": [],
      "authorship_tag": "ABX9TyO1Aeorx+ttPZxbBSOHm//n",
      "include_colab_link": true
    },
    "kernelspec": {
      "name": "python3",
      "display_name": "Python 3"
    }
  },
  "cells": [
    {
      "cell_type": "markdown",
      "metadata": {
        "id": "view-in-github",
        "colab_type": "text"
      },
      "source": [
        "<a href=\"https://colab.research.google.com/github/DAVIDKSOUSA/DATA_SCIENCE/blob/master/Curso_Udemy_Finance_for_Python.ipynb\" target=\"_parent\"><img src=\"https://colab.research.google.com/assets/colab-badge.svg\" alt=\"Open In Colab\"/></a>"
      ]
    },
    {
      "cell_type": "markdown",
      "metadata": {
        "id": "ugCkvUD3fjW1",
        "colab_type": "text"
      },
      "source": [
        "#Curso Udemy"
      ]
    },
    {
      "cell_type": "code",
      "metadata": {
        "id": "Xkh2AOl6Y_dY",
        "colab_type": "code",
        "outputId": "20631225-f5e7-4743-f930-839d56228850",
        "colab": {
          "base_uri": "https://localhost:8080/",
          "height": 51
        }
      },
      "source": [
        "#Importando as bibliotecas.\n",
        "import pandas as pd\n",
        "import numpy as np\n",
        "import matplotlib.pyplot as plt\n",
        "import seaborn as sns\n",
        "from pandas_datareader import data as wb\n"
      ],
      "execution_count": 1,
      "outputs": [
        {
          "output_type": "stream",
          "text": [
            "/usr/local/lib/python3.6/dist-packages/statsmodels/tools/_testing.py:19: FutureWarning: pandas.util.testing is deprecated. Use the functions in the public API at pandas.testing instead.\n",
            "  import pandas.util.testing as tm\n"
          ],
          "name": "stderr"
        }
      ]
    },
    {
      "cell_type": "code",
      "metadata": {
        "id": "Yietwj7gfh8N",
        "colab_type": "code",
        "outputId": "43760118-cc5a-4118-e108-2a47aa232225",
        "colab": {
          "base_uri": "https://localhost:8080/",
          "height": 235
        }
      },
      "source": [
        "#Importando dados da API do yahoo finance.\n",
        "df = wb.DataReader(\"PETR4.SA\", data_source = \"yahoo\", start = \"2015-1-1\")\n",
        "df.head()\n"
      ],
      "execution_count": 2,
      "outputs": [
        {
          "output_type": "execute_result",
          "data": {
            "text/html": [
              "<div>\n",
              "<style scoped>\n",
              "    .dataframe tbody tr th:only-of-type {\n",
              "        vertical-align: middle;\n",
              "    }\n",
              "\n",
              "    .dataframe tbody tr th {\n",
              "        vertical-align: top;\n",
              "    }\n",
              "\n",
              "    .dataframe thead th {\n",
              "        text-align: right;\n",
              "    }\n",
              "</style>\n",
              "<table border=\"1\" class=\"dataframe\">\n",
              "  <thead>\n",
              "    <tr style=\"text-align: right;\">\n",
              "      <th></th>\n",
              "      <th>High</th>\n",
              "      <th>Low</th>\n",
              "      <th>Open</th>\n",
              "      <th>Close</th>\n",
              "      <th>Volume</th>\n",
              "      <th>Adj Close</th>\n",
              "    </tr>\n",
              "    <tr>\n",
              "      <th>Date</th>\n",
              "      <th></th>\n",
              "      <th></th>\n",
              "      <th></th>\n",
              "      <th></th>\n",
              "      <th></th>\n",
              "      <th></th>\n",
              "    </tr>\n",
              "  </thead>\n",
              "  <tbody>\n",
              "    <tr>\n",
              "      <th>2015-01-02</th>\n",
              "      <td>9.99</td>\n",
              "      <td>9.35</td>\n",
              "      <td>9.99</td>\n",
              "      <td>9.36</td>\n",
              "      <td>49559500.0</td>\n",
              "      <td>8.683939</td>\n",
              "    </tr>\n",
              "    <tr>\n",
              "      <th>2015-01-05</th>\n",
              "      <td>9.19</td>\n",
              "      <td>8.53</td>\n",
              "      <td>9.14</td>\n",
              "      <td>8.56</td>\n",
              "      <td>78385100.0</td>\n",
              "      <td>7.941722</td>\n",
              "    </tr>\n",
              "    <tr>\n",
              "      <th>2015-01-06</th>\n",
              "      <td>8.83</td>\n",
              "      <td>8.04</td>\n",
              "      <td>8.71</td>\n",
              "      <td>8.28</td>\n",
              "      <td>84723300.0</td>\n",
              "      <td>7.681945</td>\n",
              "    </tr>\n",
              "    <tr>\n",
              "      <th>2015-01-07</th>\n",
              "      <td>8.73</td>\n",
              "      <td>8.36</td>\n",
              "      <td>8.56</td>\n",
              "      <td>8.67</td>\n",
              "      <td>85531000.0</td>\n",
              "      <td>8.043777</td>\n",
              "    </tr>\n",
              "    <tr>\n",
              "      <th>2015-01-08</th>\n",
              "      <td>9.39</td>\n",
              "      <td>8.74</td>\n",
              "      <td>8.79</td>\n",
              "      <td>9.23</td>\n",
              "      <td>83306300.0</td>\n",
              "      <td>8.563329</td>\n",
              "    </tr>\n",
              "  </tbody>\n",
              "</table>\n",
              "</div>"
            ],
            "text/plain": [
              "            High   Low  Open  Close      Volume  Adj Close\n",
              "Date                                                      \n",
              "2015-01-02  9.99  9.35  9.99   9.36  49559500.0   8.683939\n",
              "2015-01-05  9.19  8.53  9.14   8.56  78385100.0   7.941722\n",
              "2015-01-06  8.83  8.04  8.71   8.28  84723300.0   7.681945\n",
              "2015-01-07  8.73  8.36  8.56   8.67  85531000.0   8.043777\n",
              "2015-01-08  9.39  8.74  8.79   9.23  83306300.0   8.563329"
            ]
          },
          "metadata": {
            "tags": []
          },
          "execution_count": 2
        }
      ]
    },
    {
      "cell_type": "code",
      "metadata": {
        "id": "bi5lKnYyfoWV",
        "colab_type": "code",
        "outputId": "d42ced1c-f09d-4c76-e89f-b89ffe15b1ce",
        "colab": {
          "base_uri": "https://localhost:8080/",
          "height": 238
        }
      },
      "source": [
        "df.info()"
      ],
      "execution_count": 3,
      "outputs": [
        {
          "output_type": "stream",
          "text": [
            "<class 'pandas.core.frame.DataFrame'>\n",
            "DatetimeIndex: 1315 entries, 2015-01-02 to 2020-04-20\n",
            "Data columns (total 6 columns):\n",
            " #   Column     Non-Null Count  Dtype  \n",
            "---  ------     --------------  -----  \n",
            " 0   High       1315 non-null   float64\n",
            " 1   Low        1315 non-null   float64\n",
            " 2   Open       1315 non-null   float64\n",
            " 3   Close      1315 non-null   float64\n",
            " 4   Volume     1315 non-null   float64\n",
            " 5   Adj Close  1315 non-null   float64\n",
            "dtypes: float64(6)\n",
            "memory usage: 71.9 KB\n"
          ],
          "name": "stdout"
        }
      ]
    },
    {
      "cell_type": "code",
      "metadata": {
        "id": "f7erpj7nhlGd",
        "colab_type": "code",
        "colab": {}
      },
      "source": [
        "#Importando apenas o Adj Close de uma determinada carteira.\n",
        "carteira = [\"PETR4.SA\", \"VALE3.SA\", \"ABEV3.SA\"]\n",
        "df_carteira = pd.DataFrame()\n",
        "for acoes in carteira:\n",
        "  df_carteira[acoes] = wb.DataReader(acoes, data_source = \"yahoo\", start = \"2015-1-1\")[\"Adj Close\"]\n",
        "  \n"
      ],
      "execution_count": 0,
      "outputs": []
    },
    {
      "cell_type": "code",
      "metadata": {
        "id": "D3c6z8Egi0RA",
        "colab_type": "code",
        "outputId": "89a16037-4284-4b20-82de-11d6d0dc2576",
        "colab": {
          "base_uri": "https://localhost:8080/",
          "height": 235
        }
      },
      "source": [
        "df_carteira.head()"
      ],
      "execution_count": 5,
      "outputs": [
        {
          "output_type": "execute_result",
          "data": {
            "text/html": [
              "<div>\n",
              "<style scoped>\n",
              "    .dataframe tbody tr th:only-of-type {\n",
              "        vertical-align: middle;\n",
              "    }\n",
              "\n",
              "    .dataframe tbody tr th {\n",
              "        vertical-align: top;\n",
              "    }\n",
              "\n",
              "    .dataframe thead th {\n",
              "        text-align: right;\n",
              "    }\n",
              "</style>\n",
              "<table border=\"1\" class=\"dataframe\">\n",
              "  <thead>\n",
              "    <tr style=\"text-align: right;\">\n",
              "      <th></th>\n",
              "      <th>PETR4.SA</th>\n",
              "      <th>VALE3.SA</th>\n",
              "      <th>ABEV3.SA</th>\n",
              "    </tr>\n",
              "    <tr>\n",
              "      <th>Date</th>\n",
              "      <th></th>\n",
              "      <th></th>\n",
              "      <th></th>\n",
              "    </tr>\n",
              "  </thead>\n",
              "  <tbody>\n",
              "    <tr>\n",
              "      <th>2015-01-02</th>\n",
              "      <td>8.683939</td>\n",
              "      <td>17.994938</td>\n",
              "      <td>13.735766</td>\n",
              "    </tr>\n",
              "    <tr>\n",
              "      <th>2015-01-05</th>\n",
              "      <td>7.941722</td>\n",
              "      <td>17.724333</td>\n",
              "      <td>13.487113</td>\n",
              "    </tr>\n",
              "    <tr>\n",
              "      <th>2015-01-06</th>\n",
              "      <td>7.681945</td>\n",
              "      <td>18.434660</td>\n",
              "      <td>14.001563</td>\n",
              "    </tr>\n",
              "    <tr>\n",
              "      <th>2015-01-07</th>\n",
              "      <td>8.043777</td>\n",
              "      <td>19.111164</td>\n",
              "      <td>14.198765</td>\n",
              "    </tr>\n",
              "    <tr>\n",
              "      <th>2015-01-08</th>\n",
              "      <td>8.563329</td>\n",
              "      <td>19.314112</td>\n",
              "      <td>14.264312</td>\n",
              "    </tr>\n",
              "  </tbody>\n",
              "</table>\n",
              "</div>"
            ],
            "text/plain": [
              "            PETR4.SA   VALE3.SA   ABEV3.SA\n",
              "Date                                      \n",
              "2015-01-02  8.683939  17.994938  13.735766\n",
              "2015-01-05  7.941722  17.724333  13.487113\n",
              "2015-01-06  7.681945  18.434660  14.001563\n",
              "2015-01-07  8.043777  19.111164  14.198765\n",
              "2015-01-08  8.563329  19.314112  14.264312"
            ]
          },
          "metadata": {
            "tags": []
          },
          "execution_count": 5
        }
      ]
    },
    {
      "cell_type": "code",
      "metadata": {
        "id": "89vcKNtxkH2K",
        "colab_type": "code",
        "outputId": "36101743-32c9-4982-afc7-63ea39d3e39d",
        "colab": {
          "base_uri": "https://localhost:8080/",
          "height": 238
        }
      },
      "source": [
        "#Calcular a taxa de retorno simples  - Geralmente é mais utilizado para comparar ativos diferentes.\n",
        "df[\"retorno_simples\"] = (df[\"Adj Close\"]/df[\"Adj Close\"].shift(1)) -1\n",
        "print(df[\"retorno_simples\"])"
      ],
      "execution_count": 6,
      "outputs": [
        {
          "output_type": "stream",
          "text": [
            "Date\n",
            "2015-01-02         NaN\n",
            "2015-01-05   -0.085470\n",
            "2015-01-06   -0.032710\n",
            "2015-01-07    0.047102\n",
            "2015-01-08    0.064590\n",
            "                ...   \n",
            "2020-04-14   -0.011813\n",
            "2020-04-15   -0.020921\n",
            "2020-04-16   -0.040293\n",
            "2020-04-17    0.026081\n",
            "2020-04-20   -0.011159\n",
            "Name: retorno_simples, Length: 1315, dtype: float64\n"
          ],
          "name": "stdout"
        }
      ]
    },
    {
      "cell_type": "code",
      "metadata": {
        "id": "cjy3lCmEumEy",
        "colab_type": "code",
        "outputId": "c9deea59-1ddf-4393-a45a-2e40d68eb329",
        "colab": {
          "base_uri": "https://localhost:8080/",
          "height": 450
        }
      },
      "source": [
        "#Transformar em uma DataFrame. (NaN - Not a Number)\n",
        "pd.DataFrame(df[\"retorno_simples\"])"
      ],
      "execution_count": 7,
      "outputs": [
        {
          "output_type": "execute_result",
          "data": {
            "text/html": [
              "<div>\n",
              "<style scoped>\n",
              "    .dataframe tbody tr th:only-of-type {\n",
              "        vertical-align: middle;\n",
              "    }\n",
              "\n",
              "    .dataframe tbody tr th {\n",
              "        vertical-align: top;\n",
              "    }\n",
              "\n",
              "    .dataframe thead th {\n",
              "        text-align: right;\n",
              "    }\n",
              "</style>\n",
              "<table border=\"1\" class=\"dataframe\">\n",
              "  <thead>\n",
              "    <tr style=\"text-align: right;\">\n",
              "      <th></th>\n",
              "      <th>retorno_simples</th>\n",
              "    </tr>\n",
              "    <tr>\n",
              "      <th>Date</th>\n",
              "      <th></th>\n",
              "    </tr>\n",
              "  </thead>\n",
              "  <tbody>\n",
              "    <tr>\n",
              "      <th>2015-01-02</th>\n",
              "      <td>NaN</td>\n",
              "    </tr>\n",
              "    <tr>\n",
              "      <th>2015-01-05</th>\n",
              "      <td>-0.085470</td>\n",
              "    </tr>\n",
              "    <tr>\n",
              "      <th>2015-01-06</th>\n",
              "      <td>-0.032710</td>\n",
              "    </tr>\n",
              "    <tr>\n",
              "      <th>2015-01-07</th>\n",
              "      <td>0.047102</td>\n",
              "    </tr>\n",
              "    <tr>\n",
              "      <th>2015-01-08</th>\n",
              "      <td>0.064590</td>\n",
              "    </tr>\n",
              "    <tr>\n",
              "      <th>...</th>\n",
              "      <td>...</td>\n",
              "    </tr>\n",
              "    <tr>\n",
              "      <th>2020-04-14</th>\n",
              "      <td>-0.011813</td>\n",
              "    </tr>\n",
              "    <tr>\n",
              "      <th>2020-04-15</th>\n",
              "      <td>-0.020921</td>\n",
              "    </tr>\n",
              "    <tr>\n",
              "      <th>2020-04-16</th>\n",
              "      <td>-0.040293</td>\n",
              "    </tr>\n",
              "    <tr>\n",
              "      <th>2020-04-17</th>\n",
              "      <td>0.026081</td>\n",
              "    </tr>\n",
              "    <tr>\n",
              "      <th>2020-04-20</th>\n",
              "      <td>-0.011159</td>\n",
              "    </tr>\n",
              "  </tbody>\n",
              "</table>\n",
              "<p>1315 rows × 1 columns</p>\n",
              "</div>"
            ],
            "text/plain": [
              "            retorno_simples\n",
              "Date                       \n",
              "2015-01-02              NaN\n",
              "2015-01-05        -0.085470\n",
              "2015-01-06        -0.032710\n",
              "2015-01-07         0.047102\n",
              "2015-01-08         0.064590\n",
              "...                     ...\n",
              "2020-04-14        -0.011813\n",
              "2020-04-15        -0.020921\n",
              "2020-04-16        -0.040293\n",
              "2020-04-17         0.026081\n",
              "2020-04-20        -0.011159\n",
              "\n",
              "[1315 rows x 1 columns]"
            ]
          },
          "metadata": {
            "tags": []
          },
          "execution_count": 7
        }
      ]
    },
    {
      "cell_type": "code",
      "metadata": {
        "id": "KvQZRiuuu8Qk",
        "colab_type": "code",
        "outputId": "9741cd86-4ad5-4467-acc3-1b7b6f27bfe7",
        "colab": {
          "base_uri": "https://localhost:8080/",
          "height": 585
        }
      },
      "source": [
        "#Plotar em um gráfico.\n",
        "fig, ax = plt.subplots()\n",
        "df[\"retorno_simples\"].plot(figsize = (20,8))\n",
        "ax.set_title(\"Retorno Simples PETR4\")\n",
        "plt.tight_layout();"
      ],
      "execution_count": 8,
      "outputs": [
        {
          "output_type": "display_data",
          "data": {
            "image/png": "[encoded data removed]",
            "text/plain": [
              "<Figure size 1440x576 with 1 Axes>"
            ]
          },
          "metadata": {
            "tags": [],
            "needs_background": "light"
          }
        }
      ]
    },
    {
      "cell_type": "code",
      "metadata": {
        "id": "lp9PhQOXyELC",
        "colab_type": "code",
        "outputId": "b7b200d4-34f9-4e13-bbdd-03f22a1945ea",
        "colab": {
          "base_uri": "https://localhost:8080/",
          "height": 34
        }
      },
      "source": [
        "#Calcular a taxa média de retorno diária .mean().\n",
        "taxa_retorno_diaria = df[\"retorno_simples\"].mean()\n",
        "print(\"Taxa Média de Retorno Diário:\", taxa_retorno_diaria*100,\"%\")\n",
        "\n"
      ],
      "execution_count": 9,
      "outputs": [
        {
          "output_type": "stream",
          "text": [
            "Taxa Média de Retorno Diário: 0.10705206883362549 %\n"
          ],
          "name": "stdout"
        }
      ]
    },
    {
      "cell_type": "code",
      "metadata": {
        "id": "GeX_LocX61v6",
        "colab_type": "code",
        "outputId": "26adba17-a7db-4334-f38d-3bd92655b39c",
        "colab": {
          "base_uri": "https://localhost:8080/",
          "height": 34
        }
      },
      "source": [
        "#Calcular a taxa média de retorno anual.\n",
        "taxa_retorno_anual = df[\"retorno_simples\"].mean()*250\n",
        "taxa_retorno_anual"
      ],
      "execution_count": 10,
      "outputs": [
        {
          "output_type": "execute_result",
          "data": {
            "text/plain": [
              "0.2676301720840637"
            ]
          },
          "metadata": {
            "tags": []
          },
          "execution_count": 10
        }
      ]
    },
    {
      "cell_type": "code",
      "metadata": {
        "id": "5pLgODS4yhQ2",
        "colab_type": "code",
        "outputId": "e9ccaa0f-39a2-4aeb-fb1d-6880d7812ab9",
        "colab": {
          "base_uri": "https://localhost:8080/",
          "height": 34
        }
      },
      "source": [
        "#arredondar o valor e transformar em uma string.\n",
        "print(str(round(taxa_retorno_anual, 5) * 100),\"%\") "
      ],
      "execution_count": 11,
      "outputs": [
        {
          "output_type": "stream",
          "text": [
            "26.762999999999998 %\n"
          ],
          "name": "stdout"
        }
      ]
    },
    {
      "cell_type": "code",
      "metadata": {
        "id": "o_tj9h437b4K",
        "colab_type": "code",
        "outputId": "0f75bcc3-0f8f-4ca3-eee3-8ff7ae1283a6",
        "colab": {
          "base_uri": "https://localhost:8080/",
          "height": 173
        }
      },
      "source": [
        "#Calcular a taxa de Retorno Logarítimico - Geralmente é utilizado com um único ativo.\n",
        "df.head(3)"
      ],
      "execution_count": 12,
      "outputs": [
        {
          "output_type": "execute_result",
          "data": {
            "text/html": [
              "<div>\n",
              "<style scoped>\n",
              "    .dataframe tbody tr th:only-of-type {\n",
              "        vertical-align: middle;\n",
              "    }\n",
              "\n",
              "    .dataframe tbody tr th {\n",
              "        vertical-align: top;\n",
              "    }\n",
              "\n",
              "    .dataframe thead th {\n",
              "        text-align: right;\n",
              "    }\n",
              "</style>\n",
              "<table border=\"1\" class=\"dataframe\">\n",
              "  <thead>\n",
              "    <tr style=\"text-align: right;\">\n",
              "      <th></th>\n",
              "      <th>High</th>\n",
              "      <th>Low</th>\n",
              "      <th>Open</th>\n",
              "      <th>Close</th>\n",
              "      <th>Volume</th>\n",
              "      <th>Adj Close</th>\n",
              "      <th>retorno_simples</th>\n",
              "    </tr>\n",
              "    <tr>\n",
              "      <th>Date</th>\n",
              "      <th></th>\n",
              "      <th></th>\n",
              "      <th></th>\n",
              "      <th></th>\n",
              "      <th></th>\n",
              "      <th></th>\n",
              "      <th></th>\n",
              "    </tr>\n",
              "  </thead>\n",
              "  <tbody>\n",
              "    <tr>\n",
              "      <th>2015-01-02</th>\n",
              "      <td>9.99</td>\n",
              "      <td>9.35</td>\n",
              "      <td>9.99</td>\n",
              "      <td>9.36</td>\n",
              "      <td>49559500.0</td>\n",
              "      <td>8.683939</td>\n",
              "      <td>NaN</td>\n",
              "    </tr>\n",
              "    <tr>\n",
              "      <th>2015-01-05</th>\n",
              "      <td>9.19</td>\n",
              "      <td>8.53</td>\n",
              "      <td>9.14</td>\n",
              "      <td>8.56</td>\n",
              "      <td>78385100.0</td>\n",
              "      <td>7.941722</td>\n",
              "      <td>-0.08547</td>\n",
              "    </tr>\n",
              "    <tr>\n",
              "      <th>2015-01-06</th>\n",
              "      <td>8.83</td>\n",
              "      <td>8.04</td>\n",
              "      <td>8.71</td>\n",
              "      <td>8.28</td>\n",
              "      <td>84723300.0</td>\n",
              "      <td>7.681945</td>\n",
              "      <td>-0.03271</td>\n",
              "    </tr>\n",
              "  </tbody>\n",
              "</table>\n",
              "</div>"
            ],
            "text/plain": [
              "            High   Low  Open  Close      Volume  Adj Close  retorno_simples\n",
              "Date                                                                       \n",
              "2015-01-02  9.99  9.35  9.99   9.36  49559500.0   8.683939              NaN\n",
              "2015-01-05  9.19  8.53  9.14   8.56  78385100.0   7.941722         -0.08547\n",
              "2015-01-06  8.83  8.04  8.71   8.28  84723300.0   7.681945         -0.03271"
            ]
          },
          "metadata": {
            "tags": []
          },
          "execution_count": 12
        }
      ]
    },
    {
      "cell_type": "code",
      "metadata": {
        "id": "ztvRsk-W9pcv",
        "colab_type": "code",
        "outputId": "7bc5419e-bdf3-46e7-da75-13290ab52be1",
        "colab": {
          "base_uri": "https://localhost:8080/",
          "height": 238
        }
      },
      "source": [
        "df[\"retorno_logaritmico\"] = np.log(df[\"Adj Close\"]/df[\"Adj Close\"].shift(1))\n",
        "df[\"retorno_logaritmico\"]"
      ],
      "execution_count": 13,
      "outputs": [
        {
          "output_type": "execute_result",
          "data": {
            "text/plain": [
              "Date\n",
              "2015-01-02         NaN\n",
              "2015-01-05   -0.089345\n",
              "2015-01-06   -0.033257\n",
              "2015-01-07    0.046026\n",
              "2015-01-08    0.062590\n",
              "                ...   \n",
              "2020-04-14   -0.011884\n",
              "2020-04-15   -0.021142\n",
              "2020-04-16   -0.041127\n",
              "2020-04-17    0.025747\n",
              "2020-04-20   -0.011222\n",
              "Name: retorno_logaritmico, Length: 1315, dtype: float64"
            ]
          },
          "metadata": {
            "tags": []
          },
          "execution_count": 13
        }
      ]
    },
    {
      "cell_type": "code",
      "metadata": {
        "id": "1YgU14Om_k3A",
        "colab_type": "code",
        "outputId": "13e2acfe-c574-4157-b854-f0510af43871",
        "colab": {
          "base_uri": "https://localhost:8080/",
          "height": 585
        }
      },
      "source": [
        "fig, ax = plt.subplots()\n",
        "df[\"retorno_logaritmico\"].plot(figsize = (20,8))\n",
        "ax.set_title(\"Retorno Logarítmico PETR4\")\n",
        "plt.tight_layout();"
      ],
      "execution_count": 14,
      "outputs": [
        {
          "output_type": "display_data",
          "data": {
            "image/png": "[encoded data removed]",
            "text/plain": [
              "<Figure size 1440x576 with 1 Axes>"
            ]
          },
          "metadata": {
            "tags": [],
            "needs_background": "light"
          }
        }
      ]
    },
    {
      "cell_type": "code",
      "metadata": {
        "id": "6igoGZLSAzKe",
        "colab_type": "code",
        "outputId": "35136a20-182d-49dc-9381-a8d6f9d46449",
        "colab": {
          "base_uri": "https://localhost:8080/",
          "height": 34
        }
      },
      "source": [
        "#Calcular a taxa média de retorno diária .mean().\n",
        "taxa_retorno_logaritmico_diaria = df[\"retorno_logaritmico\"].mean()\n",
        "print(\"Taxa Média de Retorno Logarítmico Diário:\", taxa_retorno_logaritmico_diaria * 100,\"%\")\n",
        "\n"
      ],
      "execution_count": 15,
      "outputs": [
        {
          "output_type": "stream",
          "text": [
            "Taxa Média de Retorno Logarítmico Diário: 0.04626967975534144 %\n"
          ],
          "name": "stdout"
        }
      ]
    },
    {
      "cell_type": "code",
      "metadata": {
        "id": "qIyb0K8uBSpR",
        "colab_type": "code",
        "outputId": "08cfbd7f-0737-4633-ef1a-1194d448f0a7",
        "colab": {
          "base_uri": "https://localhost:8080/",
          "height": 34
        }
      },
      "source": [
        "taxa_retorno_logaritmico_anual = df[\"retorno_logaritmico\"].mean() * 250\n",
        "taxa_retorno_logaritmico_anual"
      ],
      "execution_count": 16,
      "outputs": [
        {
          "output_type": "execute_result",
          "data": {
            "text/plain": [
              "0.1156741993883536"
            ]
          },
          "metadata": {
            "tags": []
          },
          "execution_count": 16
        }
      ]
    },
    {
      "cell_type": "code",
      "metadata": {
        "id": "5OtIYZbtCJcG",
        "colab_type": "code",
        "outputId": "89a88a3f-a9ac-4b86-ffba-e9c39526f2d3",
        "colab": {
          "base_uri": "https://localhost:8080/",
          "height": 34
        }
      },
      "source": [
        "print(str(round(taxa_retorno_logaritmico_anual,5)*100),\"%\")"
      ],
      "execution_count": 17,
      "outputs": [
        {
          "output_type": "stream",
          "text": [
            "11.567 %\n"
          ],
          "name": "stdout"
        }
      ]
    },
    {
      "cell_type": "code",
      "metadata": {
        "id": "n9IihbTzCXm4",
        "colab_type": "code",
        "colab": {}
      },
      "source": [
        ""
      ],
      "execution_count": 0,
      "outputs": []
    },
    {
      "cell_type": "markdown",
      "metadata": {
        "id": "kxNzycFtDPYi",
        "colab_type": "text"
      },
      "source": [
        "#Calcular a taxa de retorno de um portifólio"
      ]
    },
    {
      "cell_type": "code",
      "metadata": {
        "id": "mCdCGfy6DVcw",
        "colab_type": "code",
        "outputId": "26a89adf-1f16-4671-f97d-a5a122803b9b",
        "colab": {
          "base_uri": "https://localhost:8080/",
          "height": 235
        }
      },
      "source": [
        "df_carteira.head()"
      ],
      "execution_count": 18,
      "outputs": [
        {
          "output_type": "execute_result",
          "data": {
            "text/html": [
              "<div>\n",
              "<style scoped>\n",
              "    .dataframe tbody tr th:only-of-type {\n",
              "        vertical-align: middle;\n",
              "    }\n",
              "\n",
              "    .dataframe tbody tr th {\n",
              "        vertical-align: top;\n",
              "    }\n",
              "\n",
              "    .dataframe thead th {\n",
              "        text-align: right;\n",
              "    }\n",
              "</style>\n",
              "<table border=\"1\" class=\"dataframe\">\n",
              "  <thead>\n",
              "    <tr style=\"text-align: right;\">\n",
              "      <th></th>\n",
              "      <th>PETR4.SA</th>\n",
              "      <th>VALE3.SA</th>\n",
              "      <th>ABEV3.SA</th>\n",
              "    </tr>\n",
              "    <tr>\n",
              "      <th>Date</th>\n",
              "      <th></th>\n",
              "      <th></th>\n",
              "      <th></th>\n",
              "    </tr>\n",
              "  </thead>\n",
              "  <tbody>\n",
              "    <tr>\n",
              "      <th>2015-01-02</th>\n",
              "      <td>8.683939</td>\n",
              "      <td>17.994938</td>\n",
              "      <td>13.735766</td>\n",
              "    </tr>\n",
              "    <tr>\n",
              "      <th>2015-01-05</th>\n",
              "      <td>7.941722</td>\n",
              "      <td>17.724333</td>\n",
              "      <td>13.487113</td>\n",
              "    </tr>\n",
              "    <tr>\n",
              "      <th>2015-01-06</th>\n",
              "      <td>7.681945</td>\n",
              "      <td>18.434660</td>\n",
              "      <td>14.001563</td>\n",
              "    </tr>\n",
              "    <tr>\n",
              "      <th>2015-01-07</th>\n",
              "      <td>8.043777</td>\n",
              "      <td>19.111164</td>\n",
              "      <td>14.198765</td>\n",
              "    </tr>\n",
              "    <tr>\n",
              "      <th>2015-01-08</th>\n",
              "      <td>8.563329</td>\n",
              "      <td>19.314112</td>\n",
              "      <td>14.264312</td>\n",
              "    </tr>\n",
              "  </tbody>\n",
              "</table>\n",
              "</div>"
            ],
            "text/plain": [
              "            PETR4.SA   VALE3.SA   ABEV3.SA\n",
              "Date                                      \n",
              "2015-01-02  8.683939  17.994938  13.735766\n",
              "2015-01-05  7.941722  17.724333  13.487113\n",
              "2015-01-06  7.681945  18.434660  14.001563\n",
              "2015-01-07  8.043777  19.111164  14.198765\n",
              "2015-01-08  8.563329  19.314112  14.264312"
            ]
          },
          "metadata": {
            "tags": []
          },
          "execution_count": 18
        }
      ]
    },
    {
      "cell_type": "code",
      "metadata": {
        "id": "vsxFHIeqDtZs",
        "colab_type": "code",
        "outputId": "c105409d-cf27-4c79-b3f1-922d7c9f8da9",
        "colab": {
          "base_uri": "https://localhost:8080/",
          "height": 85
        }
      },
      "source": [
        "#Normalizar para a base 100.\n",
        "df_carteira.iloc[0]"
      ],
      "execution_count": 19,
      "outputs": [
        {
          "output_type": "execute_result",
          "data": {
            "text/plain": [
              "PETR4.SA     8.683939\n",
              "VALE3.SA    17.994938\n",
              "ABEV3.SA    13.735766\n",
              "Name: 2015-01-02 00:00:00, dtype: float64"
            ]
          },
          "metadata": {
            "tags": []
          },
          "execution_count": 19
        }
      ]
    },
    {
      "cell_type": "code",
      "metadata": {
        "id": "YgGyA9czEpdY",
        "colab_type": "code",
        "outputId": "e18ad4af-528d-4f28-8aac-42cbf2bde26c",
        "colab": {
          "base_uri": "https://localhost:8080/",
          "height": 369
        }
      },
      "source": [
        "#Criar um gráfico de linhas para analisa io comportamento dos ativos no período.\n",
        "(df_carteira/df_carteira.iloc[0]*100).plot(figsize = (10,5))\n",
        "plt.tight_layout();"
      ],
      "execution_count": 20,
      "outputs": [
        {
          "output_type": "display_data",
          "data": {
            "image/png": "[encoded data removed]",
            "text/plain": [
              "<Figure size 720x360 with 1 Axes>"
            ]
          },
          "metadata": {
            "tags": [],
            "needs_background": "light"
          }
        }
      ]
    },
    {
      "cell_type": "code",
      "metadata": {
        "id": "ao9_a3WhFDnJ",
        "colab_type": "code",
        "colab": {}
      },
      "source": [
        "retorno_carteira = (df_carteira/df_carteira.shift(1)) - 1 "
      ],
      "execution_count": 0,
      "outputs": []
    },
    {
      "cell_type": "code",
      "metadata": {
        "id": "TBmE8I3eHqDU",
        "colab_type": "code",
        "colab": {}
      },
      "source": [
        "#Transformar os pesos em uma matrix\n",
        "pesos = np.array([0.25, 0.5, 0.25])"
      ],
      "execution_count": 0,
      "outputs": []
    },
    {
      "cell_type": "code",
      "metadata": {
        "id": "fbLodEzSH26L",
        "colab_type": "code",
        "outputId": "d5ad973b-c150-45e5-85af-a64411c5d81d",
        "colab": {
          "base_uri": "https://localhost:8080/",
          "height": 51
        }
      },
      "source": [
        "#Multiplicar as matrizes\n",
        "np.dot(retorno_carteira, pesos)"
      ],
      "execution_count": 23,
      "outputs": [
        {
          "output_type": "execute_result",
          "data": {
            "text/plain": [
              "array([        nan, -0.0334121 ,  0.02139656, ..., -0.024707  ,\n",
              "        0.02429501, -0.02007433])"
            ]
          },
          "metadata": {
            "tags": []
          },
          "execution_count": 23
        }
      ]
    },
    {
      "cell_type": "code",
      "metadata": {
        "id": "NBnO-X7tH_mO",
        "colab_type": "code",
        "outputId": "0146f232-cdfc-4950-8871-e6af4ae74f32",
        "colab": {
          "base_uri": "https://localhost:8080/",
          "height": 85
        }
      },
      "source": [
        "#Respectivo retorno anual de cada ativo\n",
        "retorno_carteira_anual = retorno_carteira.mean()*250\n",
        "retorno_carteira_anual"
      ],
      "execution_count": 24,
      "outputs": [
        {
          "output_type": "execute_result",
          "data": {
            "text/plain": [
              "PETR4.SA    0.267630\n",
              "VALE3.SA    0.297706\n",
              "ABEV3.SA    0.001504\n",
              "dtype: float64"
            ]
          },
          "metadata": {
            "tags": []
          },
          "execution_count": 24
        }
      ]
    },
    {
      "cell_type": "code",
      "metadata": {
        "id": "IwGYtZmyIWBd",
        "colab_type": "code",
        "outputId": "f02ac6ef-3061-403f-bba4-31b47eb7fa16",
        "colab": {
          "base_uri": "https://localhost:8080/",
          "height": 34
        }
      },
      "source": [
        "#Multiploicar o retorno anual pelo pesos achamos o retono anual da carteira\n",
        "np.dot(retorno_carteira_anual, pesos)"
      ],
      "execution_count": 25,
      "outputs": [
        {
          "output_type": "execute_result",
          "data": {
            "text/plain": [
              "0.21613628949876226"
            ]
          },
          "metadata": {
            "tags": []
          },
          "execution_count": 25
        }
      ]
    },
    {
      "cell_type": "code",
      "metadata": {
        "id": "TjtBA_IDKhAr",
        "colab_type": "code",
        "outputId": "101fae99-377d-4a0a-8102-f33750a939cc",
        "colab": {
          "base_uri": "https://localhost:8080/",
          "height": 51
        }
      },
      "source": [
        "#Comparar o retorno anual da minha carteira com o de outra.\n",
        "pesos_2 = np.array([0.25, 0.4, 0.35])\n",
        "\n",
        "pfolio_1 = str(round(np.dot(retorno_carteira_anual, pesos), 5)*100)+\"%\"\n",
        "pfolio_2 = str(round(np.dot(retorno_carteira_anual, pesos_2), 5)*100)+\"%\"\n",
        "\n",
        "print(pfolio_1)\n",
        "print(pfolio_2)"
      ],
      "execution_count": 26,
      "outputs": [
        {
          "output_type": "stream",
          "text": [
            "21.614%\n",
            "18.651999999999997%\n"
          ],
          "name": "stdout"
        }
      ]
    },
    {
      "cell_type": "code",
      "metadata": {
        "id": "iB8hMquQLMMc",
        "colab_type": "code",
        "colab": {}
      },
      "source": [
        "#Comparaçao indices e minha carteira.\n",
        "indices = [\"^BVSP\",\"^GSPC\"]\n",
        "df_indices = pd.DataFrame()\n",
        "for t in indices:\n",
        "   df_indices[t] = wb.DataReader(t, data_source = \"yahoo\", start = '2015-01-01')['Adj Close']"
      ],
      "execution_count": 0,
      "outputs": []
    },
    {
      "cell_type": "code",
      "metadata": {
        "id": "TRVREKLuwZ0v",
        "colab_type": "code",
        "outputId": "a5a29148-11e8-44c9-fbce-f0a240f52ad1",
        "colab": {
          "base_uri": "https://localhost:8080/",
          "height": 235
        }
      },
      "source": [
        "df_indices.head()"
      ],
      "execution_count": 28,
      "outputs": [
        {
          "output_type": "execute_result",
          "data": {
            "text/html": [
              "<div>\n",
              "<style scoped>\n",
              "    .dataframe tbody tr th:only-of-type {\n",
              "        vertical-align: middle;\n",
              "    }\n",
              "\n",
              "    .dataframe tbody tr th {\n",
              "        vertical-align: top;\n",
              "    }\n",
              "\n",
              "    .dataframe thead th {\n",
              "        text-align: right;\n",
              "    }\n",
              "</style>\n",
              "<table border=\"1\" class=\"dataframe\">\n",
              "  <thead>\n",
              "    <tr style=\"text-align: right;\">\n",
              "      <th></th>\n",
              "      <th>^BVSP</th>\n",
              "      <th>^GSPC</th>\n",
              "    </tr>\n",
              "    <tr>\n",
              "      <th>Date</th>\n",
              "      <th></th>\n",
              "      <th></th>\n",
              "    </tr>\n",
              "  </thead>\n",
              "  <tbody>\n",
              "    <tr>\n",
              "      <th>2015-01-02</th>\n",
              "      <td>48512.0</td>\n",
              "      <td>2058.199951</td>\n",
              "    </tr>\n",
              "    <tr>\n",
              "      <th>2015-01-05</th>\n",
              "      <td>47517.0</td>\n",
              "      <td>2020.579956</td>\n",
              "    </tr>\n",
              "    <tr>\n",
              "      <th>2015-01-06</th>\n",
              "      <td>48001.0</td>\n",
              "      <td>2002.609985</td>\n",
              "    </tr>\n",
              "    <tr>\n",
              "      <th>2015-01-07</th>\n",
              "      <td>49463.0</td>\n",
              "      <td>2025.900024</td>\n",
              "    </tr>\n",
              "    <tr>\n",
              "      <th>2015-01-08</th>\n",
              "      <td>49943.0</td>\n",
              "      <td>2062.139893</td>\n",
              "    </tr>\n",
              "  </tbody>\n",
              "</table>\n",
              "</div>"
            ],
            "text/plain": [
              "              ^BVSP        ^GSPC\n",
              "Date                            \n",
              "2015-01-02  48512.0  2058.199951\n",
              "2015-01-05  47517.0  2020.579956\n",
              "2015-01-06  48001.0  2002.609985\n",
              "2015-01-07  49463.0  2025.900024\n",
              "2015-01-08  49943.0  2062.139893"
            ]
          },
          "metadata": {
            "tags": []
          },
          "execution_count": 28
        }
      ]
    },
    {
      "cell_type": "code",
      "metadata": {
        "id": "ciFactAmwcSC",
        "colab_type": "code",
        "outputId": "87931f7a-5750-44b9-b67d-cbadbdfa284a",
        "colab": {
          "base_uri": "https://localhost:8080/",
          "height": 441
        }
      },
      "source": [
        "(df_indices/df_indices.iloc[0]*100).plot(figsize=(15,6))\n",
        "plt.tight_layout();"
      ],
      "execution_count": 29,
      "outputs": [
        {
          "output_type": "display_data",
          "data": {
            "image/png": "[encoded data removed]",
            "text/plain": [
              "<Figure size 1080x432 with 1 Axes>"
            ]
          },
          "metadata": {
            "tags": [],
            "needs_background": "light"
          }
        }
      ]
    },
    {
      "cell_type": "code",
      "metadata": {
        "id": "nMjaDuwByEb5",
        "colab_type": "code",
        "outputId": "7f36001e-df97-4d26-9980-2e456da3f07c",
        "colab": {
          "base_uri": "https://localhost:8080/",
          "height": 235
        }
      },
      "source": [
        "#Calcular os retornos simples dos índices.\n",
        "df_indices_retorno = (df_indices/df_indices.shift(1)) -1\n",
        "df_indices_retorno.head()"
      ],
      "execution_count": 30,
      "outputs": [
        {
          "output_type": "execute_result",
          "data": {
            "text/html": [
              "<div>\n",
              "<style scoped>\n",
              "    .dataframe tbody tr th:only-of-type {\n",
              "        vertical-align: middle;\n",
              "    }\n",
              "\n",
              "    .dataframe tbody tr th {\n",
              "        vertical-align: top;\n",
              "    }\n",
              "\n",
              "    .dataframe thead th {\n",
              "        text-align: right;\n",
              "    }\n",
              "</style>\n",
              "<table border=\"1\" class=\"dataframe\">\n",
              "  <thead>\n",
              "    <tr style=\"text-align: right;\">\n",
              "      <th></th>\n",
              "      <th>^BVSP</th>\n",
              "      <th>^GSPC</th>\n",
              "    </tr>\n",
              "    <tr>\n",
              "      <th>Date</th>\n",
              "      <th></th>\n",
              "      <th></th>\n",
              "    </tr>\n",
              "  </thead>\n",
              "  <tbody>\n",
              "    <tr>\n",
              "      <th>2015-01-02</th>\n",
              "      <td>NaN</td>\n",
              "      <td>NaN</td>\n",
              "    </tr>\n",
              "    <tr>\n",
              "      <th>2015-01-05</th>\n",
              "      <td>-0.020510</td>\n",
              "      <td>-0.018278</td>\n",
              "    </tr>\n",
              "    <tr>\n",
              "      <th>2015-01-06</th>\n",
              "      <td>0.010186</td>\n",
              "      <td>-0.008893</td>\n",
              "    </tr>\n",
              "    <tr>\n",
              "      <th>2015-01-07</th>\n",
              "      <td>0.030458</td>\n",
              "      <td>0.011630</td>\n",
              "    </tr>\n",
              "    <tr>\n",
              "      <th>2015-01-08</th>\n",
              "      <td>0.009704</td>\n",
              "      <td>0.017888</td>\n",
              "    </tr>\n",
              "  </tbody>\n",
              "</table>\n",
              "</div>"
            ],
            "text/plain": [
              "               ^BVSP     ^GSPC\n",
              "Date                          \n",
              "2015-01-02       NaN       NaN\n",
              "2015-01-05 -0.020510 -0.018278\n",
              "2015-01-06  0.010186 -0.008893\n",
              "2015-01-07  0.030458  0.011630\n",
              "2015-01-08  0.009704  0.017888"
            ]
          },
          "metadata": {
            "tags": []
          },
          "execution_count": 30
        }
      ]
    },
    {
      "cell_type": "code",
      "metadata": {
        "id": "gqldO0r50NV5",
        "colab_type": "code",
        "outputId": "1aeae2e3-b61a-46b9-ae60-443302e9c28b",
        "colab": {
          "base_uri": "https://localhost:8080/",
          "height": 68
        }
      },
      "source": [
        "#Aparentemente o IBOV superou o SP 500\n",
        "df_indices_retorno_anual = df_indices_retorno.mean()*250\n",
        "df_indices_retorno_anual"
      ],
      "execution_count": 31,
      "outputs": [
        {
          "output_type": "execute_result",
          "data": {
            "text/plain": [
              "^BVSP    0.130927\n",
              "^GSPC    0.093332\n",
              "dtype: float64"
            ]
          },
          "metadata": {
            "tags": []
          },
          "execution_count": 31
        }
      ]
    },
    {
      "cell_type": "markdown",
      "metadata": {
        "id": "3YtegLmE1FrL",
        "colab_type": "text"
      },
      "source": [
        "#Como medir o risco de um ativo.\n",
        "\n"
      ]
    },
    {
      "cell_type": "code",
      "metadata": {
        "id": "PDf-1pG_dbX6",
        "colab_type": "code",
        "colab": {}
      },
      "source": [
        "tickers = [\"PETR4.SA\", \"VALE3.SA\"]\n",
        "sec_data = pd.DataFrame()\n",
        "for t in tickers :\n",
        "  sec_data[t] = wb.DataReader(t, data_source = \"yahoo\", start = \"1990-01-01\")[\"Adj Close\"]\n"
      ],
      "execution_count": 0,
      "outputs": []
    },
    {
      "cell_type": "code",
      "metadata": {
        "id": "qlucTkH5gk6W",
        "colab_type": "code",
        "outputId": "7f3dc170-3a9f-4fae-feb5-53078bf332d5",
        "colab": {
          "base_uri": "https://localhost:8080/",
          "height": 173
        }
      },
      "source": [
        "sec_data.head(3)"
      ],
      "execution_count": 33,
      "outputs": [
        {
          "output_type": "execute_result",
          "data": {
            "text/html": [
              "<div>\n",
              "<style scoped>\n",
              "    .dataframe tbody tr th:only-of-type {\n",
              "        vertical-align: middle;\n",
              "    }\n",
              "\n",
              "    .dataframe tbody tr th {\n",
              "        vertical-align: top;\n",
              "    }\n",
              "\n",
              "    .dataframe thead th {\n",
              "        text-align: right;\n",
              "    }\n",
              "</style>\n",
              "<table border=\"1\" class=\"dataframe\">\n",
              "  <thead>\n",
              "    <tr style=\"text-align: right;\">\n",
              "      <th></th>\n",
              "      <th>PETR4.SA</th>\n",
              "      <th>VALE3.SA</th>\n",
              "    </tr>\n",
              "    <tr>\n",
              "      <th>Date</th>\n",
              "      <th></th>\n",
              "      <th></th>\n",
              "    </tr>\n",
              "  </thead>\n",
              "  <tbody>\n",
              "    <tr>\n",
              "      <th>2000-01-03</th>\n",
              "      <td>4.050402</td>\n",
              "      <td>2.266039</td>\n",
              "    </tr>\n",
              "    <tr>\n",
              "      <th>2000-01-04</th>\n",
              "      <td>3.826338</td>\n",
              "      <td>2.212088</td>\n",
              "    </tr>\n",
              "    <tr>\n",
              "      <th>2000-01-05</th>\n",
              "      <td>3.787730</td>\n",
              "      <td>2.212088</td>\n",
              "    </tr>\n",
              "  </tbody>\n",
              "</table>\n",
              "</div>"
            ],
            "text/plain": [
              "            PETR4.SA  VALE3.SA\n",
              "Date                          \n",
              "2000-01-03  4.050402  2.266039\n",
              "2000-01-04  3.826338  2.212088\n",
              "2000-01-05  3.787730  2.212088"
            ]
          },
          "metadata": {
            "tags": []
          },
          "execution_count": 33
        }
      ]
    },
    {
      "cell_type": "code",
      "metadata": {
        "id": "5FNS_XY6iCzR",
        "colab_type": "code",
        "colab": {}
      },
      "source": [
        "sec_returns = np.log(sec_data/sec_data.shift(1))"
      ],
      "execution_count": 0,
      "outputs": []
    },
    {
      "cell_type": "code",
      "metadata": {
        "id": "9ilC6NW-iQq2",
        "colab_type": "code",
        "outputId": "6008a970-db9a-43e6-f9af-72eca46571dc",
        "colab": {
          "base_uri": "https://localhost:8080/",
          "height": 450
        }
      },
      "source": [
        "sec_returns"
      ],
      "execution_count": 35,
      "outputs": [
        {
          "output_type": "execute_result",
          "data": {
            "text/html": [
              "<div>\n",
              "<style scoped>\n",
              "    .dataframe tbody tr th:only-of-type {\n",
              "        vertical-align: middle;\n",
              "    }\n",
              "\n",
              "    .dataframe tbody tr th {\n",
              "        vertical-align: top;\n",
              "    }\n",
              "\n",
              "    .dataframe thead th {\n",
              "        text-align: right;\n",
              "    }\n",
              "</style>\n",
              "<table border=\"1\" class=\"dataframe\">\n",
              "  <thead>\n",
              "    <tr style=\"text-align: right;\">\n",
              "      <th></th>\n",
              "      <th>PETR4.SA</th>\n",
              "      <th>VALE3.SA</th>\n",
              "    </tr>\n",
              "    <tr>\n",
              "      <th>Date</th>\n",
              "      <th></th>\n",
              "      <th></th>\n",
              "    </tr>\n",
              "  </thead>\n",
              "  <tbody>\n",
              "    <tr>\n",
              "      <th>2000-01-03</th>\n",
              "      <td>NaN</td>\n",
              "      <td>NaN</td>\n",
              "    </tr>\n",
              "    <tr>\n",
              "      <th>2000-01-04</th>\n",
              "      <td>-0.056908</td>\n",
              "      <td>-0.024096</td>\n",
              "    </tr>\n",
              "    <tr>\n",
              "      <th>2000-01-05</th>\n",
              "      <td>-0.010141</td>\n",
              "      <td>0.000000</td>\n",
              "    </tr>\n",
              "    <tr>\n",
              "      <th>2000-01-06</th>\n",
              "      <td>-0.003464</td>\n",
              "      <td>0.000000</td>\n",
              "    </tr>\n",
              "    <tr>\n",
              "      <th>2000-01-07</th>\n",
              "      <td>0.004556</td>\n",
              "      <td>0.035932</td>\n",
              "    </tr>\n",
              "    <tr>\n",
              "      <th>...</th>\n",
              "      <td>...</td>\n",
              "      <td>...</td>\n",
              "    </tr>\n",
              "    <tr>\n",
              "      <th>2020-04-14</th>\n",
              "      <td>-0.011884</td>\n",
              "      <td>-0.000898</td>\n",
              "    </tr>\n",
              "    <tr>\n",
              "      <th>2020-04-15</th>\n",
              "      <td>-0.021142</td>\n",
              "      <td>-0.030554</td>\n",
              "    </tr>\n",
              "    <tr>\n",
              "      <th>2020-04-16</th>\n",
              "      <td>-0.041127</td>\n",
              "      <td>-0.010006</td>\n",
              "    </tr>\n",
              "    <tr>\n",
              "      <th>2020-04-17</th>\n",
              "      <td>0.025747</td>\n",
              "      <td>0.028587</td>\n",
              "    </tr>\n",
              "    <tr>\n",
              "      <th>2020-04-20</th>\n",
              "      <td>-0.011222</td>\n",
              "      <td>-0.035627</td>\n",
              "    </tr>\n",
              "  </tbody>\n",
              "</table>\n",
              "<p>4992 rows × 2 columns</p>\n",
              "</div>"
            ],
            "text/plain": [
              "            PETR4.SA  VALE3.SA\n",
              "Date                          \n",
              "2000-01-03       NaN       NaN\n",
              "2000-01-04 -0.056908 -0.024096\n",
              "2000-01-05 -0.010141  0.000000\n",
              "2000-01-06 -0.003464  0.000000\n",
              "2000-01-07  0.004556  0.035932\n",
              "...              ...       ...\n",
              "2020-04-14 -0.011884 -0.000898\n",
              "2020-04-15 -0.021142 -0.030554\n",
              "2020-04-16 -0.041127 -0.010006\n",
              "2020-04-17  0.025747  0.028587\n",
              "2020-04-20 -0.011222 -0.035627\n",
              "\n",
              "[4992 rows x 2 columns]"
            ]
          },
          "metadata": {
            "tags": []
          },
          "execution_count": 35
        }
      ]
    },
    {
      "cell_type": "code",
      "metadata": {
        "id": "KbPN1m_WiSR5",
        "colab_type": "code",
        "outputId": "3f6d7892-01bf-4c12-9d91-6376cfb93e16",
        "colab": {
          "base_uri": "https://localhost:8080/",
          "height": 34
        }
      },
      "source": [
        "sec_returns['PETR4.SA'].mean()*250"
      ],
      "execution_count": 36,
      "outputs": [
        {
          "output_type": "execute_result",
          "data": {
            "text/plain": [
              "0.06865571824000294"
            ]
          },
          "metadata": {
            "tags": []
          },
          "execution_count": 36
        }
      ]
    },
    {
      "cell_type": "code",
      "metadata": {
        "id": "7Vx_RUDLivAs",
        "colab_type": "code",
        "outputId": "929796a3-8f2c-4b13-f12f-df89e0da5b7e",
        "colab": {
          "base_uri": "https://localhost:8080/",
          "height": 34
        }
      },
      "source": [
        "#Lembrar de tirar a raiz quadrada de 250, pois o std é a raiz da variância.\n",
        "sec_returns['PETR4.SA'].std()*250**0.5"
      ],
      "execution_count": 37,
      "outputs": [
        {
          "output_type": "execute_result",
          "data": {
            "text/plain": [
              "0.4335063552868852"
            ]
          },
          "metadata": {
            "tags": []
          },
          "execution_count": 37
        }
      ]
    },
    {
      "cell_type": "code",
      "metadata": {
        "id": "dBESoAVyi-JY",
        "colab_type": "code",
        "outputId": "07c9d815-d9b2-41c7-aca4-5c449ed0fd13",
        "colab": {
          "base_uri": "https://localhost:8080/",
          "height": 68
        }
      },
      "source": [
        "#Para compara as duas em empresas basta verificar a que tem menor desvio padrao com o maior retorno\n",
        "#basta fazer o mesmo método para vale.\n",
        "\n",
        "#temos que utilizar dois colchetes pois representa um array com duas dimensões.\n",
        "sec_returns[[\"PETR4.SA\", \"VALE3.SA\"]].mean()*250"
      ],
      "execution_count": 38,
      "outputs": [
        {
          "output_type": "execute_result",
          "data": {
            "text/plain": [
              "PETR4.SA    0.068656\n",
              "VALE3.SA    0.146801\n",
              "dtype: float64"
            ]
          },
          "metadata": {
            "tags": []
          },
          "execution_count": 38
        }
      ]
    },
    {
      "cell_type": "code",
      "metadata": {
        "id": "0_3FXZ67kFQ-",
        "colab_type": "code",
        "outputId": "d9908183-7a56-41cf-c81e-838fc15e7c21",
        "colab": {
          "base_uri": "https://localhost:8080/",
          "height": 68
        }
      },
      "source": [
        "sec_returns[[\"PETR4.SA\", \"VALE3.SA\"]].std()*250**0.5"
      ],
      "execution_count": 39,
      "outputs": [
        {
          "output_type": "execute_result",
          "data": {
            "text/plain": [
              "PETR4.SA    0.433506\n",
              "VALE3.SA    0.421814\n",
              "dtype: float64"
            ]
          },
          "metadata": {
            "tags": []
          },
          "execution_count": 39
        }
      ]
    },
    {
      "cell_type": "markdown",
      "metadata": {
        "id": "Llo7IIjdkRRI",
        "colab_type": "text"
      },
      "source": [
        "#Relação entre ativos financeiros"
      ]
    },
    {
      "cell_type": "code",
      "metadata": {
        "id": "1wO2QENDkT4X",
        "colab_type": "code",
        "outputId": "2035d950-b5ec-409f-bbc7-5d5821a2e995",
        "colab": {
          "base_uri": "https://localhost:8080/",
          "height": 34
        }
      },
      "source": [
        "#Como quantificar o retorno de dois ativos.\n",
        "petr_var = sec_returns['PETR4.SA'].var()*250\n",
        "petr_var"
      ],
      "execution_count": 40,
      "outputs": [
        {
          "output_type": "execute_result",
          "data": {
            "text/plain": [
              "0.18792776007411915"
            ]
          },
          "metadata": {
            "tags": []
          },
          "execution_count": 40
        }
      ]
    },
    {
      "cell_type": "code",
      "metadata": {
        "id": "wk8Q9NbGnTUm",
        "colab_type": "code",
        "outputId": "b4b570cd-1188-4860-dc81-572e42f2d7a8",
        "colab": {
          "base_uri": "https://localhost:8080/",
          "height": 34
        }
      },
      "source": [
        "vale_var = sec_returns['VALE3.SA'].var()*250\n",
        "vale_var"
      ],
      "execution_count": 41,
      "outputs": [
        {
          "output_type": "execute_result",
          "data": {
            "text/plain": [
              "0.17792701589953466"
            ]
          },
          "metadata": {
            "tags": []
          },
          "execution_count": 41
        }
      ]
    },
    {
      "cell_type": "code",
      "metadata": {
        "id": "TFLyax2ynpll",
        "colab_type": "code",
        "outputId": "1123ee1b-584c-40c6-f2f5-5d07fff7e12c",
        "colab": {
          "base_uri": "https://localhost:8080/",
          "height": 111
        }
      },
      "source": [
        "#Calculo da Covariancia\n",
        "#Observar que a Covariancoa entre petr e petr é a propria variacia de petr\n",
        "cov_matrix = sec_returns.cov()*250 #anual\n",
        "cov_matrix"
      ],
      "execution_count": 42,
      "outputs": [
        {
          "output_type": "execute_result",
          "data": {
            "text/html": [
              "<div>\n",
              "<style scoped>\n",
              "    .dataframe tbody tr th:only-of-type {\n",
              "        vertical-align: middle;\n",
              "    }\n",
              "\n",
              "    .dataframe tbody tr th {\n",
              "        vertical-align: top;\n",
              "    }\n",
              "\n",
              "    .dataframe thead th {\n",
              "        text-align: right;\n",
              "    }\n",
              "</style>\n",
              "<table border=\"1\" class=\"dataframe\">\n",
              "  <thead>\n",
              "    <tr style=\"text-align: right;\">\n",
              "      <th></th>\n",
              "      <th>PETR4.SA</th>\n",
              "      <th>VALE3.SA</th>\n",
              "    </tr>\n",
              "  </thead>\n",
              "  <tbody>\n",
              "    <tr>\n",
              "      <th>PETR4.SA</th>\n",
              "      <td>0.187928</td>\n",
              "      <td>0.091727</td>\n",
              "    </tr>\n",
              "    <tr>\n",
              "      <th>VALE3.SA</th>\n",
              "      <td>0.091727</td>\n",
              "      <td>0.177927</td>\n",
              "    </tr>\n",
              "  </tbody>\n",
              "</table>\n",
              "</div>"
            ],
            "text/plain": [
              "          PETR4.SA  VALE3.SA\n",
              "PETR4.SA  0.187928  0.091727\n",
              "VALE3.SA  0.091727  0.177927"
            ]
          },
          "metadata": {
            "tags": []
          },
          "execution_count": 42
        }
      ]
    },
    {
      "cell_type": "code",
      "metadata": {
        "id": "YwtKo8SPnv6U",
        "colab_type": "code",
        "outputId": "61003c43-179c-4e04-cc71-8e79b8363d04",
        "colab": {
          "base_uri": "https://localhost:8080/",
          "height": 111
        }
      },
      "source": [
        "#Calculo da \n",
        "#Essa é a correlação dos retornos e nao dos precos.\n",
        "#Nao anulaizar pois nao nos traz retornos medios diarios apenas  a correlcao entre retornos.\n",
        "#O que importa para um investidor é o retorno e nao o preco, por isso o cálculo foi realizado em cima do retorno.\n",
        "corr_matrix = sec_returns.corr()\n",
        "corr_matrix"
      ],
      "execution_count": 43,
      "outputs": [
        {
          "output_type": "execute_result",
          "data": {
            "text/html": [
              "<div>\n",
              "<style scoped>\n",
              "    .dataframe tbody tr th:only-of-type {\n",
              "        vertical-align: middle;\n",
              "    }\n",
              "\n",
              "    .dataframe tbody tr th {\n",
              "        vertical-align: top;\n",
              "    }\n",
              "\n",
              "    .dataframe thead th {\n",
              "        text-align: right;\n",
              "    }\n",
              "</style>\n",
              "<table border=\"1\" class=\"dataframe\">\n",
              "  <thead>\n",
              "    <tr style=\"text-align: right;\">\n",
              "      <th></th>\n",
              "      <th>PETR4.SA</th>\n",
              "      <th>VALE3.SA</th>\n",
              "    </tr>\n",
              "  </thead>\n",
              "  <tbody>\n",
              "    <tr>\n",
              "      <th>PETR4.SA</th>\n",
              "      <td>1.000000</td>\n",
              "      <td>0.501564</td>\n",
              "    </tr>\n",
              "    <tr>\n",
              "      <th>VALE3.SA</th>\n",
              "      <td>0.501564</td>\n",
              "      <td>1.000000</td>\n",
              "    </tr>\n",
              "  </tbody>\n",
              "</table>\n",
              "</div>"
            ],
            "text/plain": [
              "          PETR4.SA  VALE3.SA\n",
              "PETR4.SA  1.000000  0.501564\n",
              "VALE3.SA  0.501564  1.000000"
            ]
          },
          "metadata": {
            "tags": []
          },
          "execution_count": 43
        }
      ]
    },
    {
      "cell_type": "markdown",
      "metadata": {
        "id": "OLmwWoWOrlst",
        "colab_type": "text"
      },
      "source": [
        "#Calculando o Risco de um Portifólio"
      ]
    },
    {
      "cell_type": "code",
      "metadata": {
        "id": "mi1-Jn4EnxXh",
        "colab_type": "code",
        "colab": {}
      },
      "source": [
        "pesos =np.array([0.5, 0.5])"
      ],
      "execution_count": 0,
      "outputs": []
    },
    {
      "cell_type": "code",
      "metadata": {
        "id": "Paek4loXr3PP",
        "colab_type": "code",
        "outputId": "39466ed7-b764-4573-d21a-896e5f4aa00a",
        "colab": {
          "base_uri": "https://localhost:8080/",
          "height": 34
        }
      },
      "source": [
        "#Variancia de um portifolio\n",
        "pfolio_var = np.dot(pesos.T, np.dot(sec_returns.cov()*250, pesos))\n",
        "print (str(round(pfolio_var, 5)*100)+\"%\")"
      ],
      "execution_count": 45,
      "outputs": [
        {
          "output_type": "stream",
          "text": [
            "13.733%\n"
          ],
          "name": "stdout"
        }
      ]
    },
    {
      "cell_type": "code",
      "metadata": {
        "id": "TU5jh0nstjZQ",
        "colab_type": "code",
        "outputId": "c598b94e-0c1c-42d1-8a33-d7c32ff12ab5",
        "colab": {
          "base_uri": "https://localhost:8080/",
          "height": 34
        }
      },
      "source": [
        "#calculo da volatilidade do portifolio é a raiz quadrada da variancia\n",
        "pfolio_vol = np.dot(pesos.T, np.dot(sec_returns.cov()*250, pesos))**0.5\n",
        "pfolio_vol"
      ],
      "execution_count": 46,
      "outputs": [
        {
          "output_type": "execute_result",
          "data": {
            "text/plain": [
              "0.370576591829934"
            ]
          },
          "metadata": {
            "tags": []
          },
          "execution_count": 46
        }
      ]
    },
    {
      "cell_type": "code",
      "metadata": {
        "id": "hhNSOqsFt_nA",
        "colab_type": "code",
        "outputId": "4d4d8cfc-22e8-44f9-99c0-29a6c77ad7b0",
        "colab": {
          "base_uri": "https://localhost:8080/",
          "height": 34
        }
      },
      "source": [
        "print (str(round(pfolio_vol, 5)*100)+\"%\")"
      ],
      "execution_count": 47,
      "outputs": [
        {
          "output_type": "stream",
          "text": [
            "37.058%\n"
          ],
          "name": "stdout"
        }
      ]
    },
    {
      "cell_type": "code",
      "metadata": {
        "id": "ZuZRkOv7uLBN",
        "colab_type": "code",
        "colab": {}
      },
      "source": [
        ""
      ],
      "execution_count": 0,
      "outputs": []
    },
    {
      "cell_type": "markdown",
      "metadata": {
        "id": "w4sSWRBJwqIB",
        "colab_type": "text"
      },
      "source": [
        ""
      ]
    },
    {
      "cell_type": "markdown",
      "metadata": {
        "id": "3O2_0jjMwqbF",
        "colab_type": "text"
      },
      "source": [
        "#Cálculo do Rsico Diversificável e não diversificável.\n",
        "\n",
        "O risco de um  carteira pod ser descrito com a soma de dois componetes: a variancoa dos ativos na carteira e o produtos entre o produto da covariancia entre as acoes e seus desvio padrao.\n",
        "\n",
        "\n",
        "\n",
        "\n",
        "\n",
        "*   Risco não diversificáve \n",
        "Este componente depende da Variancia de cada ativo, também conhecido como *Risco Sistemático*.\n",
        "\n",
        "\n",
        "*   Risco Diversificável\n",
        "\n",
        "Tambvém conhecido como Risco Idiossincrático é o risco específico de uma empresa.Impulsinado por eventods específicos da emopresa.\n",
        "\n",
        "\n",
        "\n",
        "\n",
        "\n"
      ]
    },
    {
      "cell_type": "code",
      "metadata": {
        "id": "jxzvCheNwvJz",
        "colab_type": "code",
        "outputId": "84f910f0-7e85-4331-8039-fa34fad88fa3",
        "colab": {
          "base_uri": "https://localhost:8080/",
          "height": 68
        }
      },
      "source": [
        "#Risco Diversificável de um Portifólio = Variância do Portifólio - Variância Anual Ponderada de cada ação.\n",
        "#cada par de colchetes adicional ao redor da colua adicioan uma dimensao a matrix numpy\n",
        "\n",
        "\n",
        "\n",
        "weights = np.array([0.5,0.5])\n",
        "\n",
        "#Risco diversificável.\n",
        "\n",
        "petr4_var_a = sec_returns[[\"PETR4.SA\"]].var()*250\n",
        "\n",
        "vale3_var_a = sec_returns[[\"VALE3.SA\"]].var()*250\n",
        "\n",
        "diversifiable_risk = pfolio_var - (weights[0]**2*petr4_var_a) - (weights[1]**2**vale3_var_a)\n",
        "diversifiable_risk\n",
        "\n",
        "\n",
        "##Aos invés de um número decimal obteremos um vetor sem número, por isso deve-se ter cuidado ao criar vetores numpy.\n",
        "\n",
        "\n",
        "\n"
      ],
      "execution_count": 48,
      "outputs": [
        {
          "output_type": "execute_result",
          "data": {
            "text/plain": [
              "PETR4.SA   NaN\n",
              "VALE3.SA   NaN\n",
              "dtype: float64"
            ]
          },
          "metadata": {
            "tags": []
          },
          "execution_count": 48
        }
      ]
    },
    {
      "cell_type": "code",
      "metadata": {
        "id": "dIGnzg6odV7F",
        "colab_type": "code",
        "outputId": "bd4354cc-2a88-41da-cc46-fe719fe91a85",
        "colab": {
          "base_uri": "https://localhost:8080/",
          "height": 34
        }
      },
      "source": [
        "#Técnicas para resolver esse problema. Como a varinacia da petr4 é armazenada em uma matrix 1X1, \n",
        "#esse irá ser um valor único. Então pode-se tranformar esse valor em um decimal.\n",
        "\n",
        "float(petr4_var_a)\n"
      ],
      "execution_count": 49,
      "outputs": [
        {
          "output_type": "execute_result",
          "data": {
            "text/plain": [
              "0.18792776007411915"
            ]
          },
          "metadata": {
            "tags": []
          },
          "execution_count": 49
        }
      ]
    },
    {
      "cell_type": "code",
      "metadata": {
        "id": "rckzxHE1fcvt",
        "colab_type": "code",
        "outputId": "17f8420a-5dbc-44ef-ed04-0b514f6b43db",
        "colab": {
          "base_uri": "https://localhost:8080/",
          "height": 34
        }
      },
      "source": [
        "#Pode-se utilizar colchetes simples quando indicar que irá utilizar os dados da coluna petr4.\n",
        "petr4_var_a = sec_returns[\"PETR4.SA\"].var()*250\n",
        "petr4_var_a"
      ],
      "execution_count": 50,
      "outputs": [
        {
          "output_type": "execute_result",
          "data": {
            "text/plain": [
              "0.18792776007411915"
            ]
          },
          "metadata": {
            "tags": []
          },
          "execution_count": 50
        }
      ]
    },
    {
      "cell_type": "code",
      "metadata": {
        "id": "JP1fyj45f7V4",
        "colab_type": "code",
        "outputId": "a36f7fa1-3548-485d-eef8-be805acc4c33",
        "colab": {
          "base_uri": "https://localhost:8080/",
          "height": 34
        }
      },
      "source": [
        "#Aplicar o mesmo método pra VALE3\n",
        "vale3_var_a = sec_returns[\"VALE3.SA\"].var()*250\n",
        "vale3_var_a"
      ],
      "execution_count": 51,
      "outputs": [
        {
          "output_type": "execute_result",
          "data": {
            "text/plain": [
              "0.17792701589953466"
            ]
          },
          "metadata": {
            "tags": []
          },
          "execution_count": 51
        }
      ]
    },
    {
      "cell_type": "code",
      "metadata": {
        "id": "V8aAykRwgMHu",
        "colab_type": "code",
        "outputId": "1dcf439f-8525-4b84-b673-a04941b30e81",
        "colab": {
          "base_uri": "https://localhost:8080/",
          "height": 34
        }
      },
      "source": [
        "#Então o diversifiabvle Risk will be.\n",
        "\n",
        "diversifiable_risk = pfolio_var - (weights[0]**2*petr4_var_a) - (weights[1]**2*vale3_var_a)\n",
        "diversifiable_risk"
      ],
      "execution_count": 52,
      "outputs": [
        {
          "output_type": "execute_result",
          "data": {
            "text/plain": [
              "0.04586331641887608"
            ]
          },
          "metadata": {
            "tags": []
          },
          "execution_count": 52
        }
      ]
    },
    {
      "cell_type": "code",
      "metadata": {
        "id": "Tq6jyGAKg7OV",
        "colab_type": "code",
        "outputId": "cb22123b-865f-49ca-c9b6-50ddcc0755b8",
        "colab": {
          "base_uri": "https://localhost:8080/",
          "height": 34
        }
      },
      "source": [
        "print(str(round(diversifiable_risk*100, 2))+\"%\")"
      ],
      "execution_count": 53,
      "outputs": [
        {
          "output_type": "stream",
          "text": [
            "4.59%\n"
          ],
          "name": "stdout"
        }
      ]
    },
    {
      "cell_type": "code",
      "metadata": {
        "id": "rXOfznXYhIte",
        "colab_type": "code",
        "outputId": "29211157-3e4e-4dba-c127-4944ddf48940",
        "colab": {
          "base_uri": "https://localhost:8080/",
          "height": 34
        }
      },
      "source": [
        "#Verificando o risco não diversificável\n",
        "n_dr_1 = pfolio_var - diversifiable_risk\n",
        "print(str(round(n_dr_1*100, 2))+\"%\")"
      ],
      "execution_count": 54,
      "outputs": [
        {
          "output_type": "stream",
          "text": [
            "9.15%\n"
          ],
          "name": "stdout"
        }
      ]
    },
    {
      "cell_type": "code",
      "metadata": {
        "id": "uGjllfGPmHzB",
        "colab_type": "code",
        "outputId": "d44f7f62-b4f0-4cd8-a745-d0d59df3b00f",
        "colab": {
          "base_uri": "https://localhost:8080/",
          "height": 34
        }
      },
      "source": [
        "n_dr_2 = (weights[0]**2*petr4_var_a) + (weights[1]**2*vale3_var_a)\n",
        "n_dr_2"
      ],
      "execution_count": 55,
      "outputs": [
        {
          "output_type": "execute_result",
          "data": {
            "text/plain": [
              "0.09146369399341345"
            ]
          },
          "metadata": {
            "tags": []
          },
          "execution_count": 55
        }
      ]
    },
    {
      "cell_type": "code",
      "metadata": {
        "id": "sxiESz-UmZO3",
        "colab_type": "code",
        "outputId": "7759f434-ed29-43ac-d081-1b63a14682fd",
        "colab": {
          "base_uri": "https://localhost:8080/",
          "height": 34
        }
      },
      "source": [
        "n_dr_1 == n_dr_2"
      ],
      "execution_count": 56,
      "outputs": [
        {
          "output_type": "execute_result",
          "data": {
            "text/plain": [
              "True"
            ]
          },
          "metadata": {
            "tags": []
          },
          "execution_count": 56
        }
      ]
    },
    {
      "cell_type": "markdown",
      "metadata": {
        "id": "zLv-5ryibnCd",
        "colab_type": "text"
      },
      "source": [
        "#Obtendo a Fronteira Eficiente de um grupo de portifólios Composto por dois ativos.\n"
      ]
    },
    {
      "cell_type": "code",
      "metadata": {
        "id": "5birb2LudBlq",
        "colab_type": "code",
        "colab": {
          "base_uri": "https://localhost:8080/",
          "height": 450
        },
        "outputId": "c6e2c5ea-e534-40d3-ca18-53e0a7bfdcc2"
      },
      "source": [
        "df_carteira"
      ],
      "execution_count": 58,
      "outputs": [
        {
          "output_type": "execute_result",
          "data": {
            "text/html": [
              "<div>\n",
              "<style scoped>\n",
              "    .dataframe tbody tr th:only-of-type {\n",
              "        vertical-align: middle;\n",
              "    }\n",
              "\n",
              "    .dataframe tbody tr th {\n",
              "        vertical-align: top;\n",
              "    }\n",
              "\n",
              "    .dataframe thead th {\n",
              "        text-align: right;\n",
              "    }\n",
              "</style>\n",
              "<table border=\"1\" class=\"dataframe\">\n",
              "  <thead>\n",
              "    <tr style=\"text-align: right;\">\n",
              "      <th></th>\n",
              "      <th>PETR4.SA</th>\n",
              "      <th>VALE3.SA</th>\n",
              "      <th>ABEV3.SA</th>\n",
              "    </tr>\n",
              "    <tr>\n",
              "      <th>Date</th>\n",
              "      <th></th>\n",
              "      <th></th>\n",
              "      <th></th>\n",
              "    </tr>\n",
              "  </thead>\n",
              "  <tbody>\n",
              "    <tr>\n",
              "      <th>2015-01-02</th>\n",
              "      <td>8.683939</td>\n",
              "      <td>17.994938</td>\n",
              "      <td>13.735766</td>\n",
              "    </tr>\n",
              "    <tr>\n",
              "      <th>2015-01-05</th>\n",
              "      <td>7.941722</td>\n",
              "      <td>17.724333</td>\n",
              "      <td>13.487113</td>\n",
              "    </tr>\n",
              "    <tr>\n",
              "      <th>2015-01-06</th>\n",
              "      <td>7.681945</td>\n",
              "      <td>18.434660</td>\n",
              "      <td>14.001563</td>\n",
              "    </tr>\n",
              "    <tr>\n",
              "      <th>2015-01-07</th>\n",
              "      <td>8.043777</td>\n",
              "      <td>19.111164</td>\n",
              "      <td>14.198765</td>\n",
              "    </tr>\n",
              "    <tr>\n",
              "      <th>2015-01-08</th>\n",
              "      <td>8.563329</td>\n",
              "      <td>19.314112</td>\n",
              "      <td>14.264312</td>\n",
              "    </tr>\n",
              "    <tr>\n",
              "      <th>...</th>\n",
              "      <td>...</td>\n",
              "      <td>...</td>\n",
              "      <td>...</td>\n",
              "    </tr>\n",
              "    <tr>\n",
              "      <th>2020-04-14</th>\n",
              "      <td>16.730000</td>\n",
              "      <td>44.529999</td>\n",
              "      <td>12.090000</td>\n",
              "    </tr>\n",
              "    <tr>\n",
              "      <th>2020-04-15</th>\n",
              "      <td>16.379999</td>\n",
              "      <td>43.189999</td>\n",
              "      <td>11.910000</td>\n",
              "    </tr>\n",
              "    <tr>\n",
              "      <th>2020-04-16</th>\n",
              "      <td>15.720000</td>\n",
              "      <td>42.759998</td>\n",
              "      <td>11.450000</td>\n",
              "    </tr>\n",
              "    <tr>\n",
              "      <th>2020-04-17</th>\n",
              "      <td>16.129999</td>\n",
              "      <td>44.000000</td>\n",
              "      <td>11.600000</td>\n",
              "    </tr>\n",
              "    <tr>\n",
              "      <th>2020-04-20</th>\n",
              "      <td>15.950000</td>\n",
              "      <td>42.459999</td>\n",
              "      <td>11.610000</td>\n",
              "    </tr>\n",
              "  </tbody>\n",
              "</table>\n",
              "<p>1315 rows × 3 columns</p>\n",
              "</div>"
            ],
            "text/plain": [
              "             PETR4.SA   VALE3.SA   ABEV3.SA\n",
              "Date                                       \n",
              "2015-01-02   8.683939  17.994938  13.735766\n",
              "2015-01-05   7.941722  17.724333  13.487113\n",
              "2015-01-06   7.681945  18.434660  14.001563\n",
              "2015-01-07   8.043777  19.111164  14.198765\n",
              "2015-01-08   8.563329  19.314112  14.264312\n",
              "...               ...        ...        ...\n",
              "2020-04-14  16.730000  44.529999  12.090000\n",
              "2020-04-15  16.379999  43.189999  11.910000\n",
              "2020-04-16  15.720000  42.759998  11.450000\n",
              "2020-04-17  16.129999  44.000000  11.600000\n",
              "2020-04-20  15.950000  42.459999  11.610000\n",
              "\n",
              "[1315 rows x 3 columns]"
            ]
          },
          "metadata": {
            "tags": []
          },
          "execution_count": 58
        }
      ]
    },
    {
      "cell_type": "code",
      "metadata": {
        "id": "Gq02qCZLdJ_H",
        "colab_type": "code",
        "colab": {
          "base_uri": "https://localhost:8080/",
          "height": 482
        },
        "outputId": "69f425f6-4d60-4757-b0f3-d08945359381"
      },
      "source": [
        "(df_carteira/df_carteira.iloc[0]*100).plot(figsize=(15,8))"
      ],
      "execution_count": 62,
      "outputs": [
        {
          "output_type": "execute_result",
          "data": {
            "text/plain": [
              "<matplotlib.axes._subplots.AxesSubplot at 0x7f26967263c8>"
            ]
          },
          "metadata": {
            "tags": []
          },
          "execution_count": 62
        },
        {
          "output_type": "display_data",
          "data": {
            "image/png": "[encoded data removed]",
            "text/plain": [
              "<Figure size 1080x576 with 1 Axes>"
            ]
          },
          "metadata": {
            "tags": [],
            "needs_background": "light"
          }
        }
      ]
    },
    {
      "cell_type": "code",
      "metadata": {
        "id": "mWeUoo3xdoB8",
        "colab_type": "code",
        "colab": {}
      },
      "source": [
        "#para obeter a fronteira eficiente precisaremos obeter os retornos logaritmos.\n",
        "log_returns= np.log(df_carteira/df_carteira.shift(1))"
      ],
      "execution_count": 0,
      "outputs": []
    },
    {
      "cell_type": "code",
      "metadata": {
        "id": "A7ya7aH1ejPV",
        "colab_type": "code",
        "colab": {
          "base_uri": "https://localhost:8080/",
          "height": 85
        },
        "outputId": "3b9adb06-048c-4929-e0c4-8973c1cbf1c6"
      },
      "source": [
        "log_returns.mean()*250"
      ],
      "execution_count": 65,
      "outputs": [
        {
          "output_type": "execute_result",
          "data": {
            "text/plain": [
              "PETR4.SA    0.115674\n",
              "VALE3.SA    0.163332\n",
              "ABEV3.SA   -0.031989\n",
              "dtype: float64"
            ]
          },
          "metadata": {
            "tags": []
          },
          "execution_count": 65
        }
      ]
    },
    {
      "cell_type": "code",
      "metadata": {
        "id": "T-EJGgF-eq55",
        "colab_type": "code",
        "colab": {
          "base_uri": "https://localhost:8080/",
          "height": 142
        },
        "outputId": "b4406fd4-7130-445f-db6d-e0f343d1b47c"
      },
      "source": [
        "log_returns.cov()"
      ],
      "execution_count": 66,
      "outputs": [
        {
          "output_type": "execute_result",
          "data": {
            "text/html": [
              "<div>\n",
              "<style scoped>\n",
              "    .dataframe tbody tr th:only-of-type {\n",
              "        vertical-align: middle;\n",
              "    }\n",
              "\n",
              "    .dataframe tbody tr th {\n",
              "        vertical-align: top;\n",
              "    }\n",
              "\n",
              "    .dataframe thead th {\n",
              "        text-align: right;\n",
              "    }\n",
              "</style>\n",
              "<table border=\"1\" class=\"dataframe\">\n",
              "  <thead>\n",
              "    <tr style=\"text-align: right;\">\n",
              "      <th></th>\n",
              "      <th>PETR4.SA</th>\n",
              "      <th>VALE3.SA</th>\n",
              "      <th>ABEV3.SA</th>\n",
              "    </tr>\n",
              "  </thead>\n",
              "  <tbody>\n",
              "    <tr>\n",
              "      <th>PETR4.SA</th>\n",
              "      <td>0.001229</td>\n",
              "      <td>0.000572</td>\n",
              "      <td>0.000222</td>\n",
              "    </tr>\n",
              "    <tr>\n",
              "      <th>VALE3.SA</th>\n",
              "      <td>0.000572</td>\n",
              "      <td>0.001078</td>\n",
              "      <td>0.000160</td>\n",
              "    </tr>\n",
              "    <tr>\n",
              "      <th>ABEV3.SA</th>\n",
              "      <td>0.000222</td>\n",
              "      <td>0.000160</td>\n",
              "      <td>0.000270</td>\n",
              "    </tr>\n",
              "  </tbody>\n",
              "</table>\n",
              "</div>"
            ],
            "text/plain": [
              "          PETR4.SA  VALE3.SA  ABEV3.SA\n",
              "PETR4.SA  0.001229  0.000572  0.000222\n",
              "VALE3.SA  0.000572  0.001078  0.000160\n",
              "ABEV3.SA  0.000222  0.000160  0.000270"
            ]
          },
          "metadata": {
            "tags": []
          },
          "execution_count": 66
        }
      ]
    },
    {
      "cell_type": "code",
      "metadata": {
        "id": "ecY-MiosewTs",
        "colab_type": "code",
        "colab": {
          "base_uri": "https://localhost:8080/",
          "height": 142
        },
        "outputId": "4da83b58-e933-42d8-d302-38632eade001"
      },
      "source": [
        "log_returns.corr()"
      ],
      "execution_count": 67,
      "outputs": [
        {
          "output_type": "execute_result",
          "data": {
            "text/html": [
              "<div>\n",
              "<style scoped>\n",
              "    .dataframe tbody tr th:only-of-type {\n",
              "        vertical-align: middle;\n",
              "    }\n",
              "\n",
              "    .dataframe tbody tr th {\n",
              "        vertical-align: top;\n",
              "    }\n",
              "\n",
              "    .dataframe thead th {\n",
              "        text-align: right;\n",
              "    }\n",
              "</style>\n",
              "<table border=\"1\" class=\"dataframe\">\n",
              "  <thead>\n",
              "    <tr style=\"text-align: right;\">\n",
              "      <th></th>\n",
              "      <th>PETR4.SA</th>\n",
              "      <th>VALE3.SA</th>\n",
              "      <th>ABEV3.SA</th>\n",
              "    </tr>\n",
              "  </thead>\n",
              "  <tbody>\n",
              "    <tr>\n",
              "      <th>PETR4.SA</th>\n",
              "      <td>1.000000</td>\n",
              "      <td>0.497209</td>\n",
              "      <td>0.385308</td>\n",
              "    </tr>\n",
              "    <tr>\n",
              "      <th>VALE3.SA</th>\n",
              "      <td>0.497209</td>\n",
              "      <td>1.000000</td>\n",
              "      <td>0.296999</td>\n",
              "    </tr>\n",
              "    <tr>\n",
              "      <th>ABEV3.SA</th>\n",
              "      <td>0.385308</td>\n",
              "      <td>0.296999</td>\n",
              "      <td>1.000000</td>\n",
              "    </tr>\n",
              "  </tbody>\n",
              "</table>\n",
              "</div>"
            ],
            "text/plain": [
              "          PETR4.SA  VALE3.SA  ABEV3.SA\n",
              "PETR4.SA  1.000000  0.497209  0.385308\n",
              "VALE3.SA  0.497209  1.000000  0.296999\n",
              "ABEV3.SA  0.385308  0.296999  1.000000"
            ]
          },
          "metadata": {
            "tags": []
          },
          "execution_count": 67
        }
      ]
    },
    {
      "cell_type": "code",
      "metadata": {
        "id": "UBcuxGozezHp",
        "colab_type": "code",
        "colab": {
          "base_uri": "https://localhost:8080/",
          "height": 34
        },
        "outputId": "0501c145-6621-457e-c449-f58406e9f2ed"
      },
      "source": [
        "#definir uma variável que cinta o número de aticos que compoem a carteira \n",
        "num_carteira = len(carteira)\n",
        "num_carteira"
      ],
      "execution_count": 73,
      "outputs": [
        {
          "output_type": "execute_result",
          "data": {
            "text/plain": [
              "3"
            ]
          },
          "metadata": {
            "tags": []
          },
          "execution_count": 73
        }
      ]
    },
    {
      "cell_type": "code",
      "metadata": {
        "id": "FrKULHSSfR30",
        "colab_type": "code",
        "colab": {
          "base_uri": "https://localhost:8080/",
          "height": 34
        },
        "outputId": "da621f89-c6e9-4c7f-9833-ebc1746bc458"
      },
      "source": [
        "#Definir dois pessos aleartórios\n",
        "arr= np.random.random(3)\n",
        "arr"
      ],
      "execution_count": 76,
      "outputs": [
        {
          "output_type": "execute_result",
          "data": {
            "text/plain": [
              "array([0.05446432, 0.23844652, 0.99386691])"
            ]
          },
          "metadata": {
            "tags": []
          },
          "execution_count": 76
        }
      ]
    },
    {
      "cell_type": "code",
      "metadata": {
        "id": "cH8TAVDrfl0-",
        "colab_type": "code",
        "colab": {
          "base_uri": "https://localhost:8080/",
          "height": 34
        },
        "outputId": "36935d9d-5f7b-4012-8755-055cd0c44ebc"
      },
      "source": [
        "arr[0]+arr[1]+arr[2]"
      ],
      "execution_count": 80,
      "outputs": [
        {
          "output_type": "execute_result",
          "data": {
            "text/plain": [
              "1.2867777470828472"
            ]
          },
          "metadata": {
            "tags": []
          },
          "execution_count": 80
        }
      ]
    },
    {
      "cell_type": "code",
      "metadata": {
        "id": "OVvaK6YRfx8U",
        "colab_type": "code",
        "colab": {
          "base_uri": "https://localhost:8080/",
          "height": 34
        },
        "outputId": "4d29051f-30c1-4be6-f001-7924b3b0217c"
      },
      "source": [
        "#definir que a soma dos pessos aleatórops somem 1\n",
        "weights = np.random.random(num_carteira)\n",
        "weights /= np.sum(weights) #soma das matrizes divididas pelos seus respectivos pesos\n",
        "weights"
      ],
      "execution_count": 81,
      "outputs": [
        {
          "output_type": "execute_result",
          "data": {
            "text/plain": [
              "array([0.25239391, 0.53491748, 0.21268861])"
            ]
          },
          "metadata": {
            "tags": []
          },
          "execution_count": 81
        }
      ]
    },
    {
      "cell_type": "code",
      "metadata": {
        "id": "61Cy7phXgVN9",
        "colab_type": "code",
        "colab": {
          "base_uri": "https://localhost:8080/",
          "height": 34
        },
        "outputId": "0b79b8be-f5c8-4fba-a8d5-e0523732f6e2"
      },
      "source": [
        "weights[0]+weights[1]+weights[2]"
      ],
      "execution_count": 82,
      "outputs": [
        {
          "output_type": "execute_result",
          "data": {
            "text/plain": [
              "1.0"
            ]
          },
          "metadata": {
            "tags": []
          },
          "execution_count": 82
        }
      ]
    },
    {
      "cell_type": "code",
      "metadata": {
        "id": "FOscdi01gc4a",
        "colab_type": "code",
        "colab": {}
      },
      "source": [
        ""
      ],
      "execution_count": 0,
      "outputs": []
    },
    {
      "cell_type": "markdown",
      "metadata": {
        "id": "IZlY0S1dhe5J",
        "colab_type": "text"
      },
      "source": [
        "###Retorno esperado de um portifólio\n",
        "Soma da média dos retornos logarítmico anualizados ponderados pelo seus pesos."
      ]
    },
    {
      "cell_type": "code",
      "metadata": {
        "id": "XXK-1QfDhicD",
        "colab_type": "code",
        "colab": {
          "base_uri": "https://localhost:8080/",
          "height": 34
        },
        "outputId": "6e0b35d8-8b6a-4f48-b486-a56d4e2afb0d"
      },
      "source": [
        "np.sum(weights*log_returns.mean())*250"
      ],
      "execution_count": 83,
      "outputs": [
        {
          "output_type": "execute_result",
          "data": {
            "text/plain": [
              "0.10976071408092643"
            ]
          },
          "metadata": {
            "tags": []
          },
          "execution_count": 83
        }
      ]
    },
    {
      "cell_type": "code",
      "metadata": {
        "id": "AGIXcSjyiCqp",
        "colab_type": "code",
        "colab": {
          "base_uri": "https://localhost:8080/",
          "height": 34
        },
        "outputId": "07b974ee-80d6-4e68-ec73-89dc2b4e7f73"
      },
      "source": [
        "#Variancia\n",
        "np.dot(weights.T, np.dot(log_returns.cov()*250, weights))"
      ],
      "execution_count": 84,
      "outputs": [
        {
          "output_type": "execute_result",
          "data": {
            "text/plain": [
              "0.15349016787426814"
            ]
          },
          "metadata": {
            "tags": []
          },
          "execution_count": 84
        }
      ]
    },
    {
      "cell_type": "code",
      "metadata": {
        "id": "VIzhQxkEiV7Q",
        "colab_type": "code",
        "colab": {
          "base_uri": "https://localhost:8080/",
          "height": 34
        },
        "outputId": "fd8d9627-9902-4adb-f065-aa70d3f41c78"
      },
      "source": [
        "#Volatilidade\n",
        "np.sqrt(np.dot(weights.T, np.dot(log_returns.cov()*250, weights)))"
      ],
      "execution_count": 85,
      "outputs": [
        {
          "output_type": "execute_result",
          "data": {
            "text/plain": [
              "0.3917782126079348"
            ]
          },
          "metadata": {
            "tags": []
          },
          "execution_count": 85
        }
      ]
    },
    {
      "cell_type": "code",
      "metadata": {
        "id": "ROm1IK1AipWn",
        "colab_type": "code",
        "colab": {
          "base_uri": "https://localhost:8080/",
          "height": 1000
        },
        "outputId": "d0ad54c6-1136-4b2b-a7cb-3ed5583f30b9"
      },
      "source": [
        "#Criar um gráfico onde 1000 simulac'ões de média varoância serão plotadas (1000 combinacoes dos mesmos ativos)\n",
        "\n",
        "pfolio_returns = []\n",
        "pfolio_volatilities = []\n",
        "\n",
        "for x in range(2000):\n",
        "  weights = np.random.random(num_carteira)\n",
        "  weights /= np.sum(weights)\n",
        "  pfolio_returns.append(np.sum(weights*log_returns.mean())*250)\n",
        "  pfolio_volatilities.append(np.sqrt(np.dot(weights.T, np.dot(log_returns.cov()*250, weights))))\n",
        "\n",
        "pfolio_returns, pfolio_volatilities"
      ],
      "execution_count": 99,
      "outputs": [
        {
          "output_type": "execute_result",
          "data": {
            "text/plain": [
              "([0.08968346915736339,\n",
              "  0.11525998901778974,\n",
              "  0.10805721452691716,\n",
              "  0.054729258556348,\n",
              "  0.06876973357948545,\n",
              "  0.1057180723776061,\n",
              "  0.0829381592733207,\n",
              "  0.152363375854691,\n",
              "  0.09838207844645515,\n",
              "  0.0573397057296225,\n",
              "  0.09349765729633149,\n",
              "  0.11445281713314567,\n",
              "  0.09019099456180454,\n",
              "  0.060199257701008826,\n",
              "  0.1044014165658518,\n",
              "  0.08018082370410903,\n",
              "  0.09481837208943358,\n",
              "  0.10224010544479488,\n",
              "  0.08763324469049417,\n",
              "  0.07770254857377554,\n",
              "  0.06614912934517361,\n",
              "  0.08675296084026829,\n",
              "  0.10257907920786108,\n",
              "  0.07307276454426483,\n",
              "  0.08571275976021854,\n",
              "  0.09985128856248077,\n",
              "  0.10951720871296321,\n",
              "  0.12988135621623953,\n",
              "  0.029663786733477568,\n",
              "  0.06747592836994408,\n",
              "  0.10755967878055053,\n",
              "  0.056054586009089455,\n",
              "  0.045675701648968364,\n",
              "  0.061874954812322885,\n",
              "  0.07177700215469245,\n",
              "  0.049480409063064,\n",
              "  0.08540574664008378,\n",
              "  0.10582324312378182,\n",
              "  0.10706672811161298,\n",
              "  0.09803062477908848,\n",
              "  0.0761729030729469,\n",
              "  0.06613049846047926,\n",
              "  0.09315547698698683,\n",
              "  0.08504803789389051,\n",
              "  0.0015711319573509155,\n",
              "  0.09619694751950005,\n",
              "  0.14238859921411678,\n",
              "  0.07373540393139816,\n",
              "  0.07907746268280089,\n",
              "  0.11840711233310863,\n",
              "  0.1077862880359494,\n",
              "  0.10679871455722159,\n",
              "  0.09548610317470974,\n",
              "  0.07635679960054138,\n",
              "  0.048290456838052914,\n",
              "  0.048182089559663646,\n",
              "  0.07974878002328453,\n",
              "  0.08391065489131833,\n",
              "  0.06322173408699092,\n",
              "  0.09402366586416279,\n",
              "  0.11432131394161897,\n",
              "  0.0826756568137129,\n",
              "  0.07942080680415224,\n",
              "  0.06711057899844868,\n",
              "  0.08583389988568892,\n",
              "  0.09707630117505968,\n",
              "  0.13478046278020317,\n",
              "  0.09670600887154521,\n",
              "  0.0664734071758559,\n",
              "  0.11947737855951274,\n",
              "  0.07313804911886634,\n",
              "  0.0990633558131425,\n",
              "  0.108174219626856,\n",
              "  0.0640940797643506,\n",
              "  0.08545342504387302,\n",
              "  0.07030649122150041,\n",
              "  0.0936945432373694,\n",
              "  0.09369741104641212,\n",
              "  0.03429661370460006,\n",
              "  0.09845727739242408,\n",
              "  0.05519278682204848,\n",
              "  0.07402141847162436,\n",
              "  0.11502511037988607,\n",
              "  0.01987680926486757,\n",
              "  0.05290672699294307,\n",
              "  0.08672376526661654,\n",
              "  0.059870203348292746,\n",
              "  0.08299024696425611,\n",
              "  0.10001550643686197,\n",
              "  0.07149714918778842,\n",
              "  0.07015531179534244,\n",
              "  0.040052796304589994,\n",
              "  0.13768138355361095,\n",
              "  0.06387143696586262,\n",
              "  0.09064208654151891,\n",
              "  0.08840003405686161,\n",
              "  0.07151430162168623,\n",
              "  0.11831591568771964,\n",
              "  0.0887350943923324,\n",
              "  0.13039653659580686,\n",
              "  0.01464715217505497,\n",
              "  0.0662504672196983,\n",
              "  0.09248610118198973,\n",
              "  0.13112195669364937,\n",
              "  0.05572512234728405,\n",
              "  0.09361048291322996,\n",
              "  0.06166929688778257,\n",
              "  0.08038208156220515,\n",
              "  0.11481869686653326,\n",
              "  0.03417741065949488,\n",
              "  0.13917155793515928,\n",
              "  0.07563888188916448,\n",
              "  0.07951064832645782,\n",
              "  0.06463583013410659,\n",
              "  0.09028516331932106,\n",
              "  0.11321159855886335,\n",
              "  -0.009409991791083459,\n",
              "  0.05424224175728997,\n",
              "  0.1307245267122975,\n",
              "  0.08185442796570554,\n",
              "  0.041894217746636056,\n",
              "  0.11944990235942668,\n",
              "  0.06876946747729519,\n",
              "  0.06456474795715669,\n",
              "  0.07539749335812565,\n",
              "  0.12313769332355476,\n",
              "  0.10230892481882084,\n",
              "  0.04960447986463352,\n",
              "  0.0653234035433031,\n",
              "  0.07957015445723263,\n",
              "  0.08879586642371473,\n",
              "  0.12328930237084709,\n",
              "  0.038997544819274935,\n",
              "  0.06656573652845893,\n",
              "  0.09243505258475523,\n",
              "  0.09321749996793985,\n",
              "  0.09085593432910728,\n",
              "  0.0298241039262489,\n",
              "  0.14412917791042068,\n",
              "  0.07543825861019075,\n",
              "  0.07947430428031009,\n",
              "  0.04610633026360147,\n",
              "  0.09724869778936984,\n",
              "  0.13825909874213008,\n",
              "  0.1034788715107875,\n",
              "  0.10126626343814658,\n",
              "  0.1105142933753637,\n",
              "  0.09173124236469102,\n",
              "  0.13110531863692132,\n",
              "  0.0641540871475854,\n",
              "  0.11869042940552614,\n",
              "  0.09339949068463574,\n",
              "  0.07393824635692167,\n",
              "  0.10258411513042426,\n",
              "  0.07175014590403589,\n",
              "  0.0987923490519742,\n",
              "  0.08507211850267431,\n",
              "  0.05473301800732086,\n",
              "  0.07162376572986177,\n",
              "  0.10887015218785613,\n",
              "  0.10905889190572997,\n",
              "  0.008211675259407783,\n",
              "  0.03979568495373347,\n",
              "  0.09339549817650589,\n",
              "  0.01227022970164196,\n",
              "  0.05586545590694705,\n",
              "  0.0819228670862165,\n",
              "  0.06279833714429149,\n",
              "  0.07909815724763228,\n",
              "  0.039890950967332535,\n",
              "  0.1059467080424183,\n",
              "  0.08213222269881836,\n",
              "  0.07644940238723576,\n",
              "  0.12974230028572736,\n",
              "  0.07732726464620167,\n",
              "  0.0673843691092475,\n",
              "  0.022166856495448542,\n",
              "  0.06798463298094742,\n",
              "  0.1127494044111608,\n",
              "  0.031837758220008346,\n",
              "  0.10436268038710565,\n",
              "  0.09095465497981481,\n",
              "  0.12895189756569608,\n",
              "  0.10031405930524992,\n",
              "  0.10731598819491606,\n",
              "  0.09997217919089209,\n",
              "  0.07012135322068959,\n",
              "  0.09317122529089542,\n",
              "  0.09568489944957066,\n",
              "  0.08110899343706682,\n",
              "  0.026378985249546818,\n",
              "  0.061618074939459686,\n",
              "  0.10887004416107127,\n",
              "  0.12488335045353341,\n",
              "  0.11508255509558822,\n",
              "  0.11336097377332943,\n",
              "  0.07576560092998993,\n",
              "  0.09271905479001172,\n",
              "  0.07813837645647533,\n",
              "  0.09866228675937805,\n",
              "  0.0906516727622831,\n",
              "  0.05279319496881725,\n",
              "  0.055898751970457204,\n",
              "  0.06831186613166636,\n",
              "  0.10693482483282117,\n",
              "  0.11048535479353798,\n",
              "  0.07486776794008419,\n",
              "  0.08208146341758374,\n",
              "  0.06229223684078606,\n",
              "  0.027260575193490722,\n",
              "  0.12633908429847251,\n",
              "  0.1482610205854498,\n",
              "  0.11368493796351747,\n",
              "  0.07212531626532362,\n",
              "  0.06650945843524983,\n",
              "  0.11589987615787072,\n",
              "  0.11929134475334877,\n",
              "  0.08010059542077654,\n",
              "  0.05588027589699346,\n",
              "  0.09438037968001879,\n",
              "  0.08863490828573035,\n",
              "  0.11751458625808035,\n",
              "  0.13831224876770895,\n",
              "  0.06641429600846352,\n",
              "  0.031222847416300034,\n",
              "  0.09262084207774943,\n",
              "  0.049981069685094186,\n",
              "  0.07803752259549868,\n",
              "  0.031829177207499865,\n",
              "  0.07506711951827849,\n",
              "  0.09910681135097596,\n",
              "  0.07985751684605912,\n",
              "  0.10956753207074976,\n",
              "  0.13203623856034918,\n",
              "  0.05452773872832458,\n",
              "  0.09450122766674832,\n",
              "  0.0843563195986265,\n",
              "  0.10154253208837716,\n",
              "  0.1009169611114857,\n",
              "  0.040959570817947745,\n",
              "  0.11994950992616053,\n",
              "  -0.0075614506093150706,\n",
              "  0.07044084889459563,\n",
              "  0.057240567989737014,\n",
              "  0.08885174876872753,\n",
              "  0.09129125121779096,\n",
              "  0.0984826408469708,\n",
              "  0.023426540178439748,\n",
              "  0.06220539986895658,\n",
              "  0.125049734688087,\n",
              "  0.10914072300591944,\n",
              "  0.019175485501339302,\n",
              "  0.04393138101643521,\n",
              "  0.07953490917619754,\n",
              "  0.1313634671865229,\n",
              "  0.01754739373653147,\n",
              "  0.11872409827332296,\n",
              "  0.05226010811049944,\n",
              "  0.1013676503325677,\n",
              "  0.11956639281195482,\n",
              "  0.09266618475069563,\n",
              "  0.10917456304203586,\n",
              "  0.12606972462856572,\n",
              "  0.05445465037582686,\n",
              "  0.1392108351179642,\n",
              "  0.0566510587726952,\n",
              "  0.07862491852224571,\n",
              "  0.05282523666229586,\n",
              "  0.051324700055774754,\n",
              "  0.11628120612674939,\n",
              "  0.060652362527404566,\n",
              "  0.0417245000804754,\n",
              "  0.05428280993868434,\n",
              "  0.12023242097764453,\n",
              "  0.06954237938729914,\n",
              "  0.09788279489958164,\n",
              "  0.07604802884253452,\n",
              "  0.0937193085889599,\n",
              "  0.09358019141051808,\n",
              "  0.012077297761631042,\n",
              "  -0.013320025146035828,\n",
              "  0.037410700830707466,\n",
              "  0.09817217917122081,\n",
              "  0.10090542796537422,\n",
              "  0.12923276581472737,\n",
              "  0.12679585296591733,\n",
              "  0.10717461982315224,\n",
              "  0.0599462519750475,\n",
              "  0.07528193363881758,\n",
              "  0.04936604571531188,\n",
              "  0.1320003727205737,\n",
              "  0.06650011296892445,\n",
              "  0.04792699554027686,\n",
              "  0.1253894265405429,\n",
              "  0.07812194635411555,\n",
              "  0.08522313202131655,\n",
              "  0.11758052850148311,\n",
              "  0.0845617972528941,\n",
              "  0.012183418736098718,\n",
              "  0.09750572557549395,\n",
              "  0.05211883665955455,\n",
              "  0.07640578617797868,\n",
              "  0.08573868756081068,\n",
              "  0.10664700296483187,\n",
              "  0.10751769791351956,\n",
              "  0.09082677637283712,\n",
              "  0.0591742575885213,\n",
              "  0.11163274597871851,\n",
              "  0.11488267335100298,\n",
              "  0.07887424857847836,\n",
              "  0.12854503373395337,\n",
              "  0.13774761061995647,\n",
              "  0.12146140669211408,\n",
              "  0.0804723787415568,\n",
              "  0.06452222677510473,\n",
              "  0.050837287158375474,\n",
              "  0.138117792487574,\n",
              "  0.0015563062394162652,\n",
              "  0.1123432200102853,\n",
              "  0.06780163018026956,\n",
              "  0.10224782477080513,\n",
              "  0.07759384352391673,\n",
              "  0.11821666155439456,\n",
              "  0.04312352681357723,\n",
              "  0.04625073701359279,\n",
              "  0.08193036367729804,\n",
              "  0.020407719233672742,\n",
              "  0.053620438984922615,\n",
              "  0.08569007260809645,\n",
              "  0.055039711075429446,\n",
              "  0.0949480646292006,\n",
              "  0.08391132483031771,\n",
              "  0.12348360870026819,\n",
              "  0.09684581186708682,\n",
              "  0.03373272976485114,\n",
              "  0.052553535014907726,\n",
              "  0.06992661319244707,\n",
              "  0.11636058506091806,\n",
              "  0.06118071185170483,\n",
              "  0.03878492021076277,\n",
              "  0.10197300085230711,\n",
              "  0.07600648570802183,\n",
              "  0.08392117427376834,\n",
              "  0.05772366463900269,\n",
              "  0.0742808562502653,\n",
              "  0.10249201376565707,\n",
              "  0.048974357853639794,\n",
              "  0.12848813790096542,\n",
              "  0.0932465233910383,\n",
              "  0.07230482711403062,\n",
              "  0.05985872797911254,\n",
              "  0.0939329568515592,\n",
              "  0.11049248506673537,\n",
              "  0.03592298698434831,\n",
              "  0.12626167258888396,\n",
              "  0.015128105109586627,\n",
              "  0.10935388867635791,\n",
              "  -0.0005671274897448928,\n",
              "  0.14750111157859294,\n",
              "  0.06200772854442205,\n",
              "  0.04776241165403811,\n",
              "  0.024186061305567566,\n",
              "  0.08364609457979037,\n",
              "  0.0776355375081038,\n",
              "  0.09063187860258154,\n",
              "  0.08990619114317386,\n",
              "  0.06964982589358797,\n",
              "  0.05824009013276913,\n",
              "  0.09800944488081918,\n",
              "  0.11558375330099828,\n",
              "  0.07186008827330471,\n",
              "  0.06735703662251523,\n",
              "  0.0775033597346134,\n",
              "  0.07377320940092545,\n",
              "  0.06072252999329402,\n",
              "  0.08678379582372316,\n",
              "  0.07864742664233663,\n",
              "  0.1012518307766777,\n",
              "  0.043461753462176976,\n",
              "  0.09325986006652975,\n",
              "  0.0897938939492482,\n",
              "  0.0915982292629121,\n",
              "  0.11517028252948665,\n",
              "  0.08699279892671896,\n",
              "  0.04979147655735149,\n",
              "  0.14205242777927904,\n",
              "  0.09089613634735802,\n",
              "  0.1355370338178843,\n",
              "  0.05945639027273206,\n",
              "  0.0987552670356706,\n",
              "  0.08758357530465045,\n",
              "  0.051981616195217864,\n",
              "  0.12024700540943566,\n",
              "  0.06145124880529149,\n",
              "  0.10298199266265891,\n",
              "  0.08635241908198747,\n",
              "  0.07673296919016771,\n",
              "  0.08160476881871415,\n",
              "  0.019839300882061393,\n",
              "  0.13319297782108214,\n",
              "  0.02067115075618933,\n",
              "  0.032942403533924906,\n",
              "  0.06547578004083816,\n",
              "  0.061828616512987204,\n",
              "  0.047621932284103295,\n",
              "  0.07736178956691159,\n",
              "  0.1300172753770703,\n",
              "  0.12194183902849752,\n",
              "  0.06430187727756202,\n",
              "  0.10221407932453977,\n",
              "  0.058978655575127374,\n",
              "  0.08914358498564226,\n",
              "  0.08822260603075716,\n",
              "  0.07379685122020763,\n",
              "  0.05672985680970566,\n",
              "  0.10007081320161379,\n",
              "  -0.00042904849613410924,\n",
              "  0.06892018819877158,\n",
              "  0.11833646713500169,\n",
              "  0.08019627524950732,\n",
              "  0.07934398898400288,\n",
              "  0.008144826224974571,\n",
              "  0.06871075541608775,\n",
              "  0.06994709316574128,\n",
              "  0.11714803506843026,\n",
              "  0.07423900285442421,\n",
              "  0.1088002800527535,\n",
              "  0.08152366184379571,\n",
              "  0.12234447423988042,\n",
              "  0.09111287408367874,\n",
              "  0.10386759061271145,\n",
              "  0.09972260190151028,\n",
              "  0.07950349020551585,\n",
              "  0.14608452194684426,\n",
              "  0.063390277825334,\n",
              "  0.08891177552583329,\n",
              "  0.1042956770863181,\n",
              "  0.12430078547777165,\n",
              "  0.13165198630271188,\n",
              "  0.07929391078589955,\n",
              "  0.04772351982363214,\n",
              "  0.06266220332173678,\n",
              "  0.08049963679349612,\n",
              "  0.10970288396013042,\n",
              "  0.07694920061162597,\n",
              "  0.10745464782297838,\n",
              "  0.07857277378589894,\n",
              "  0.13063711662981445,\n",
              "  0.06881092911369603,\n",
              "  0.02676443850534995,\n",
              "  0.045764421074572355,\n",
              "  0.1076272903094993,\n",
              "  0.03823504136333222,\n",
              "  0.044940039380022063,\n",
              "  0.06884687035727358,\n",
              "  0.11158280927295948,\n",
              "  0.05783990196313808,\n",
              "  0.027501254950564023,\n",
              "  0.06802928962327108,\n",
              "  0.12751859039362817,\n",
              "  0.042942300193420435,\n",
              "  0.07572087152884915,\n",
              "  0.10118823762420019,\n",
              "  0.15909172432910784,\n",
              "  0.12643812032885365,\n",
              "  0.08562018912190995,\n",
              "  0.03112310553837564,\n",
              "  0.09188938732023823,\n",
              "  0.0712048772905828,\n",
              "  0.029481627574378368,\n",
              "  0.1154511899310164,\n",
              "  0.08678909553040547,\n",
              "  0.06072348801157724,\n",
              "  0.01995129166107174,\n",
              "  0.12558490153548052,\n",
              "  0.01116695352139492,\n",
              "  0.13982913419687118,\n",
              "  0.06856894782802031,\n",
              "  0.08275010798044417,\n",
              "  0.09249993439270045,\n",
              "  0.11408583315463601,\n",
              "  0.07285651864792983,\n",
              "  0.11152593872247187,\n",
              "  0.08990614359858505,\n",
              "  0.07656537670912383,\n",
              "  0.1230818681868963,\n",
              "  0.12030542774200112,\n",
              "  0.056442612768775095,\n",
              "  0.11312828867113563,\n",
              "  0.12117742889827421,\n",
              "  0.112533853450232,\n",
              "  0.06365154253902482,\n",
              "  0.04987974743169881,\n",
              "  0.1262427619511065,\n",
              "  0.14189803388233935,\n",
              "  0.05634437409194854,\n",
              "  0.05960048742895688,\n",
              "  0.09838732699455169,\n",
              "  0.037876973396845336,\n",
              "  0.0842743809286548,\n",
              "  0.09537867163357741,\n",
              "  0.08435906842940871,\n",
              "  0.0962000035856398,\n",
              "  0.06237931327984874,\n",
              "  0.07303928852952703,\n",
              "  0.13463134538010413,\n",
              "  0.0732972044309254,\n",
              "  0.10136818858232598,\n",
              "  0.11866165107222269,\n",
              "  0.03551227566998852,\n",
              "  0.08439681275671505,\n",
              "  0.023812254608643568,\n",
              "  0.07461630337879481,\n",
              "  0.07188003889900658,\n",
              "  0.09176301706552878,\n",
              "  0.09926795597548166,\n",
              "  0.11182292006722198,\n",
              "  0.11888926818763776,\n",
              "  0.09712988601409041,\n",
              "  0.09171419775295737,\n",
              "  0.08521724070053674,\n",
              "  0.0074850629483437054,\n",
              "  0.06171475445801534,\n",
              "  0.09829729259865756,\n",
              "  0.06960187054132813,\n",
              "  0.07219943602363638,\n",
              "  0.07174874066679701,\n",
              "  0.0891937223238995,\n",
              "  0.018848442590578118,\n",
              "  0.07052365165236837,\n",
              "  0.10482897468414007,\n",
              "  0.06939523491279516,\n",
              "  0.06498943037589862,\n",
              "  0.06769962316778022,\n",
              "  0.027830137205713264,\n",
              "  0.10410074796276372,\n",
              "  0.06964474374804795,\n",
              "  0.07947066925871787,\n",
              "  0.036953645419233246,\n",
              "  0.07732620574307718,\n",
              "  0.010646742789821017,\n",
              "  0.08547994587880847,\n",
              "  0.126546665324683,\n",
              "  0.13910316324685956,\n",
              "  0.04153843119770726,\n",
              "  0.10452871808015077,\n",
              "  0.08496997913810113,\n",
              "  0.07069209468798358,\n",
              "  0.14819853302847122,\n",
              "  0.05652242943894036,\n",
              "  0.09207302683976089,\n",
              "  0.07705498959818928,\n",
              "  0.08384316056741913,\n",
              "  0.10849404739123747,\n",
              "  0.02006276854525498,\n",
              "  0.09115316820630683,\n",
              "  0.0740597395377524,\n",
              "  0.06297185923094252,\n",
              "  0.11114779379618514,\n",
              "  0.07523636105556816,\n",
              "  0.09440170988147131,\n",
              "  0.10842514798744458,\n",
              "  0.07492015342947146,\n",
              "  0.09601980586417264,\n",
              "  0.07522989297948117,\n",
              "  0.11672139083814781,\n",
              "  0.05618287514866392,\n",
              "  0.13420241761054452,\n",
              "  0.05370032221798961,\n",
              "  0.11718827006865999,\n",
              "  0.06587990272156902,\n",
              "  0.055009135712607724,\n",
              "  0.08746930105530282,\n",
              "  0.09610994884836975,\n",
              "  0.0646777836066722,\n",
              "  0.05163414112935277,\n",
              "  0.11685059253449237,\n",
              "  0.050781038907704315,\n",
              "  0.068505338550629,\n",
              "  0.04219993599919935,\n",
              "  0.09190339313689823,\n",
              "  0.03890528062119549,\n",
              "  0.015823717930405677,\n",
              "  0.08213824803754063,\n",
              "  0.05838212819433973,\n",
              "  0.07910715717104705,\n",
              "  0.13593797074217975,\n",
              "  0.07201119165009896,\n",
              "  0.15379815305271566,\n",
              "  0.07952581755049594,\n",
              "  0.055529465889966476,\n",
              "  0.08764045698528594,\n",
              "  0.12476894832048543,\n",
              "  0.0705635570095448,\n",
              "  0.14694980675784072,\n",
              "  0.03394171307081576,\n",
              "  0.0654400372256877,\n",
              "  0.03496872828370059,\n",
              "  0.09163884173717522,\n",
              "  0.11954370523494612,\n",
              "  0.07920989735167969,\n",
              "  0.14054608174872,\n",
              "  0.07664813141939031,\n",
              "  0.06445874009455531,\n",
              "  0.1472717653673527,\n",
              "  0.08818743431641367,\n",
              "  0.05106834887715243,\n",
              "  0.04919765248291095,\n",
              "  0.06833441951577544,\n",
              "  0.08769460774539391,\n",
              "  0.08742958040768573,\n",
              "  0.12884159095925166,\n",
              "  0.07637733175310901,\n",
              "  0.0852014145089656,\n",
              "  0.1167780810543591,\n",
              "  0.08208190026677298,\n",
              "  0.07756128507369356,\n",
              "  0.076283893866773,\n",
              "  0.04574012165022039,\n",
              "  0.05196979981594067,\n",
              "  0.11274572686919396,\n",
              "  0.04210198292732216,\n",
              "  0.06144993208011767,\n",
              "  0.06514317153831502,\n",
              "  0.059553166643825914,\n",
              "  0.08586111543214203,\n",
              "  0.06571985239264821,\n",
              "  0.07526153039773993,\n",
              "  0.007071939807197275,\n",
              "  0.08964085742724177,\n",
              "  0.13767514942654865,\n",
              "  0.08326472481528144,\n",
              "  0.06909232096968847,\n",
              "  0.055753723342601945,\n",
              "  0.11827671442684698,\n",
              "  0.08590795125692526,\n",
              "  0.0930363351610847,\n",
              "  0.11442833504183417,\n",
              "  -0.0045636856808948245,\n",
              "  0.06721432559559828,\n",
              "  0.018175604262347916,\n",
              "  0.0664281199279652,\n",
              "  0.12909748209889524,\n",
              "  0.06894436512888245,\n",
              "  0.11863543248272267,\n",
              "  0.06590255780970777,\n",
              "  0.12365618791785428,\n",
              "  0.07763329327376511,\n",
              "  0.08508754884096273,\n",
              "  0.08195992536654866,\n",
              "  0.10272013874233873,\n",
              "  0.05564019664889729,\n",
              "  0.13088915110454383,\n",
              "  0.12476377948681286,\n",
              "  0.09341253087355479,\n",
              "  0.1267243665570294,\n",
              "  0.12090069556655375,\n",
              "  0.05117394825681409,\n",
              "  0.1431938975073372,\n",
              "  0.07832078055073084,\n",
              "  0.0905410595155927,\n",
              "  0.10983563111848987,\n",
              "  0.0729255171929584,\n",
              "  0.022482027441375764,\n",
              "  0.07877401633667964,\n",
              "  0.09501797114998921,\n",
              "  0.1436874555234239,\n",
              "  0.06479467984412154,\n",
              "  0.068956504389242,\n",
              "  0.07295845793099633,\n",
              "  0.09056633587542472,\n",
              "  0.06204150124561634,\n",
              "  0.0269700636486031,\n",
              "  0.08923362637581095,\n",
              "  0.0813910991224206,\n",
              "  0.08026046984935703,\n",
              "  0.07377216796908108,\n",
              "  0.05509340724005215,\n",
              "  0.10673097211965941,\n",
              "  0.023677663938618258,\n",
              "  0.12090006794472478,\n",
              "  0.055101679092849014,\n",
              "  0.12295081376791903,\n",
              "  0.03969443526781416,\n",
              "  0.0797873145064459,\n",
              "  0.06370320471054745,\n",
              "  0.11203439773641896,\n",
              "  0.07296507153915714,\n",
              "  0.09817778753419838,\n",
              "  0.07433362229146064,\n",
              "  0.1243003902192057,\n",
              "  0.07644698505872721,\n",
              "  0.0819287089076319,\n",
              "  0.06548683751287915,\n",
              "  0.08680481686660342,\n",
              "  0.09932780272406032,\n",
              "  0.14230090489840774,\n",
              "  0.09315828517841586,\n",
              "  0.04818952154248302,\n",
              "  0.07658363953405413,\n",
              "  0.04746247934623418,\n",
              "  0.05965242792701002,\n",
              "  0.06275526092263718,\n",
              "  0.11978208372069615,\n",
              "  0.095694417016793,\n",
              "  0.034978212156301605,\n",
              "  0.02435201360190286,\n",
              "  0.06188484358986403,\n",
              "  0.11608343251220223,\n",
              "  0.08427611102706198,\n",
              "  0.09792131439162553,\n",
              "  0.10719192573605014,\n",
              "  0.07362145290404447,\n",
              "  0.09689676163011059,\n",
              "  0.12951831298181007,\n",
              "  0.1336085742359433,\n",
              "  0.10779378740311304,\n",
              "  0.00824384375455772,\n",
              "  0.07224126207496523,\n",
              "  0.07863823673193139,\n",
              "  0.08201398485406457,\n",
              "  0.031217462720148366,\n",
              "  0.0858706504683022,\n",
              "  0.04785097629976347,\n",
              "  0.1061908686677557,\n",
              "  0.07146377557819857,\n",
              "  0.046579524616745686,\n",
              "  0.12241056541638402,\n",
              "  0.12387051409820421,\n",
              "  0.07931147942739825,\n",
              "  0.04110699144074957,\n",
              "  0.06713216632171724,\n",
              "  0.08963569770035415,\n",
              "  0.10450721866671805,\n",
              "  0.10731087492071582,\n",
              "  0.04243369966797769,\n",
              "  0.11680399909225264,\n",
              "  0.08422441238832,\n",
              "  0.13735948412202442,\n",
              "  0.0835564840288522,\n",
              "  0.07104194818509388,\n",
              "  0.028567120279942838,\n",
              "  0.1118587950849673,\n",
              "  0.04949835756949576,\n",
              "  0.12420906611260314,\n",
              "  0.08425440939822547,\n",
              "  0.05089219888538121,\n",
              "  0.08344380208102663,\n",
              "  0.07487601002831966,\n",
              "  0.0831145931346806,\n",
              "  0.07933994536918,\n",
              "  0.03549593378701509,\n",
              "  0.08227842168568335,\n",
              "  0.10273049906921565,\n",
              "  0.05443079842107656,\n",
              "  0.07682796645761322,\n",
              "  0.06505233791597227,\n",
              "  0.10709368177200507,\n",
              "  0.05469668510058162,\n",
              "  0.10221012736924674,\n",
              "  0.09727405407150973,\n",
              "  0.143237982712165,\n",
              "  0.05414635222504519,\n",
              "  0.12289753480856092,\n",
              "  0.10857165824736385,\n",
              "  0.1266646565471388,\n",
              "  0.08826054709126767,\n",
              "  0.07208988001289489,\n",
              "  0.10306377708471388,\n",
              "  0.12450589900528776,\n",
              "  0.10457117242387419,\n",
              "  0.07868454641244228,\n",
              "  0.1266788970745758,\n",
              "  0.14429507870730132,\n",
              "  0.10444011174604415,\n",
              "  0.126685607412561,\n",
              "  0.04858543998279813,\n",
              "  0.0882084141268229,\n",
              "  0.06380590628331216,\n",
              "  0.07129950554140177,\n",
              "  0.06455371787215859,\n",
              "  0.1050303492329274,\n",
              "  0.08675502269598308,\n",
              "  0.06391543946014758,\n",
              "  0.12010356389449167,\n",
              "  0.09695505143597746,\n",
              "  0.07712943258002306,\n",
              "  0.11557735718332525,\n",
              "  0.06498706211965333,\n",
              "  0.08308676158077011,\n",
              "  0.018144318826820813,\n",
              "  0.08376131038496444,\n",
              "  0.05719006083897896,\n",
              "  0.10684129365884566,\n",
              "  0.07844492100178713,\n",
              "  0.03648512822215535,\n",
              "  0.1029143454093281,\n",
              "  0.04965881227836428,\n",
              "  0.08426492916605625,\n",
              "  0.08656380980372419,\n",
              "  0.09800107333036379,\n",
              "  0.05014068733190132,\n",
              "  0.059149443315931804,\n",
              "  0.0737351293336297,\n",
              "  0.04220704077392277,\n",
              "  0.047390477212633036,\n",
              "  0.10902668411896103,\n",
              "  0.0844369721427466,\n",
              "  0.04140871252893602,\n",
              "  0.10766318561315585,\n",
              "  0.07498559165203386,\n",
              "  0.05817712372351832,\n",
              "  0.07361855742959143,\n",
              "  0.06486363398198756,\n",
              "  0.06506311234127193,\n",
              "  0.07888958858311552,\n",
              "  0.11834266130642589,\n",
              "  0.0739708522608996,\n",
              "  0.08425458854144932,\n",
              "  0.040291615199068785,\n",
              "  0.07862889148998196,\n",
              "  0.13013496405132102,\n",
              "  0.057296192425630804,\n",
              "  0.09741429695785339,\n",
              "  0.06543031928089593,\n",
              "  0.08412193537970653,\n",
              "  0.08360760295430752,\n",
              "  0.08981317776127228,\n",
              "  0.05638197253615106,\n",
              "  0.12266713324643404,\n",
              "  0.022110498604304744,\n",
              "  0.08638028337559678,\n",
              "  0.0870233460427405,\n",
              "  0.028372925157881704,\n",
              "  0.12479864741332249,\n",
              "  0.11192324350664769,\n",
              "  0.11960419190459483,\n",
              "  0.08584164419446508,\n",
              "  0.08563810271368007,\n",
              "  0.07874714191728883,\n",
              "  0.06483009866403044,\n",
              "  0.09574741033989288,\n",
              "  0.04916453198709486,\n",
              "  0.10328975050693008,\n",
              "  0.07381663020040684,\n",
              "  0.06020639664440681,\n",
              "  0.06434650591538771,\n",
              "  0.06054037578469497,\n",
              "  0.10057253938533756,\n",
              "  0.11109306631852206,\n",
              "  0.09666471573729389,\n",
              "  0.10719389344706863,\n",
              "  0.051868653484939235,\n",
              "  0.041918033214967995,\n",
              "  0.043422776591809674,\n",
              "  0.06794429694022698,\n",
              "  0.11510872264507914,\n",
              "  0.13491604411904676,\n",
              "  0.05769083562062085,\n",
              "  0.053889630396355276,\n",
              "  0.09990208980144842,\n",
              "  0.06932128909906139,\n",
              "  0.07133663072920762,\n",
              "  0.0853952916206153,\n",
              "  0.11170080574886947,\n",
              "  0.04976543515602365,\n",
              "  0.08127624030914003,\n",
              "  0.09358682261714744,\n",
              "  0.0921677531388612,\n",
              "  0.07688021685976082,\n",
              "  0.12356287678345625,\n",
              "  0.07663973491739112,\n",
              "  0.10256539980053932,\n",
              "  0.11114847151347503,\n",
              "  0.08387074637908971,\n",
              "  0.09617025263338101,\n",
              "  0.10737440209276942,\n",
              "  0.053758575810429504,\n",
              "  0.1471024713913151,\n",
              "  0.11770039220225176,\n",
              "  0.11266861519329437,\n",
              "  0.10178398625381888,\n",
              "  0.10617755507159671,\n",
              "  0.07493899499882024,\n",
              "  0.09379651611989485,\n",
              "  0.024377446600066258,\n",
              "  0.11628701646972069,\n",
              "  0.12092060362339227,\n",
              "  0.08566962445037377,\n",
              "  0.0882264150777462,\n",
              "  -0.006850204914604243,\n",
              "  0.13904786386896795,\n",
              "  0.05101434926607195,\n",
              "  0.06682344266108811,\n",
              "  0.07550523960697766,\n",
              "  0.05929793048078229,\n",
              "  0.09975679321010276,\n",
              "  0.08647298279712283,\n",
              "  0.009989021536080552,\n",
              "  0.04512649778636105,\n",
              "  0.022719965682450775,\n",
              "  0.08675668779155815,\n",
              "  0.08320702322476964,\n",
              "  0.1279328985125787,\n",
              "  0.02382406403204635,\n",
              "  0.07218837515049935,\n",
              "  0.06712519392488286,\n",
              "  0.08868866965648893,\n",
              "  0.04398849880644252,\n",
              "  0.05779996987167253,\n",
              "  0.08818826567873594,\n",
              "  0.06520282411723888,\n",
              "  0.07443824716687943,\n",
              "  0.096246979933925,\n",
              "  0.07716145440933646,\n",
              "  0.07615380102482955,\n",
              "  0.0649365120516456,\n",
              "  0.1125247626627371,\n",
              "  0.08708404970353927,\n",
              "  0.0933714259852035,\n",
              "  0.07123248754642507,\n",
              "  0.08367306834855104,\n",
              "  0.050880745085248834,\n",
              "  0.13617432880116445,\n",
              "  0.1325119473604832,\n",
              "  0.041196911762228394,\n",
              "  0.10432089270642149,\n",
              "  0.07462804251850044,\n",
              "  0.07661523225095465,\n",
              "  0.034978885867053625,\n",
              "  0.07063598632905008,\n",
              "  0.1275937226793023,\n",
              "  0.08146263941940017,\n",
              "  0.10001692173736172,\n",
              "  0.1537500004643435,\n",
              "  0.11135078471644703,\n",
              "  0.08847333561907038,\n",
              "  0.12230201860167927,\n",
              "  0.06503497458203016,\n",
              "  0.0859984620973521,\n",
              "  0.07393320817824399,\n",
              "  0.13259887138950396,\n",
              "  0.07056359337604921,\n",
              "  0.12505792368297775,\n",
              "  0.09001151020006501,\n",
              "  0.07792903744376409,\n",
              "  0.13999713677976292,\n",
              "  0.09142980372981196,\n",
              "  0.0428520585679489,\n",
              "  0.11635629067160196,\n",
              "  0.007584670354131055,\n",
              "  0.1294463846498725,\n",
              "  0.09754575910430527,\n",
              "  0.06441129715823866,\n",
              "  0.08625156742956085,\n",
              "  0.08559326743989072,\n",
              "  0.09799676690371326,\n",
              "  0.10168036695509204,\n",
              "  0.07319099786679646,\n",
              "  0.06751733281345795,\n",
              "  0.04197731284013185,\n",
              "  0.10053183560515111,\n",
              "  0.08027587381891459,\n",
              "  0.02441616166318816,\n",
              "  0.08543825125488073,\n",
              "  0.10619002127974968,\n",
              "  0.09407525152629553,\n",
              "  0.001932244396782188,\n",
              "  0.12413757390668603,\n",
              "  0.13165298538295464,\n",
              "  0.08795832918357609,\n",
              "  0.012433470179050046,\n",
              "  0.08062122935468051,\n",
              "  0.04660726762488354,\n",
              "  0.009816799173834387,\n",
              "  0.040032376342077916,\n",
              "  0.07616819445138011,\n",
              "  0.08942424725889705,\n",
              "  0.13250803314521967,\n",
              "  0.12966013330325804,\n",
              "  0.06524206891002839,\n",
              "  0.006106259799317359,\n",
              "  0.07775176539933935,\n",
              "  0.09955927019037666,\n",
              "  0.04920214292410302,\n",
              "  0.08429511625216518,\n",
              "  0.09881746858590149,\n",
              "  0.08738318308358917,\n",
              "  0.09094166648064235,\n",
              "  0.13648944435578256,\n",
              "  0.10348446637719842,\n",
              "  0.128210121980108,\n",
              "  0.06984904244846953,\n",
              "  0.0898107463654386,\n",
              "  0.12040340415640648,\n",
              "  0.07008550154480449,\n",
              "  -0.009281720139695127,\n",
              "  0.06389873109661318,\n",
              "  0.09782043204913829,\n",
              "  0.08948196991283826,\n",
              "  ...],\n",
              " [0.43457474115370753,\n",
              "  0.4148205274665955,\n",
              "  0.38993424487003525,\n",
              "  0.30336865041457284,\n",
              "  0.345137741470937,\n",
              "  0.390486967328684,\n",
              "  0.34964915111452644,\n",
              "  0.4829983467323697,\n",
              "  0.3844300674679235,\n",
              "  0.33883799606052584,\n",
              "  0.3777483564240921,\n",
              "  0.4114611530851506,\n",
              "  0.4568780144310756,\n",
              "  0.36301989393129747,\n",
              "  0.3879211649802247,\n",
              "  0.3481809397435642,\n",
              "  0.3911206378478961,\n",
              "  0.39257509405499846,\n",
              "  0.3551961495054829,\n",
              "  0.336246041788909,\n",
              "  0.3687803063347876,\n",
              "  0.35088482503817,\n",
              "  0.5003737531818054,\n",
              "  0.3678635177813905,\n",
              "  0.3499277316872512,\n",
              "  0.42873439822006,\n",
              "  0.4002934970229674,\n",
              "  0.44459020181235576,\n",
              "  0.3019187685522525,\n",
              "  0.3193619523043598,\n",
              "  0.4373205411181578,\n",
              "  0.3253183080216966,\n",
              "  0.32808349915708984,\n",
              "  0.3114537212592486,\n",
              "  0.325988855314902,\n",
              "  0.3192558073903272,\n",
              "  0.3531644034786711,\n",
              "  0.3899553726675463,\n",
              "  0.3903724839124848,\n",
              "  0.4455119514150497,\n",
              "  0.34274563366146704,\n",
              "  0.31998775033416743,\n",
              "  0.3969115656961229,\n",
              "  0.4172340886482809,\n",
              "  0.2741911685591321,\n",
              "  0.39343371644894404,\n",
              "  0.45565695745764295,\n",
              "  0.33031540697589346,\n",
              "  0.37455134691186837,\n",
              "  0.4286222090326779,\n",
              "  0.3967514222693892,\n",
              "  0.38669929736609293,\n",
              "  0.39829166497186036,\n",
              "  0.34108061130397904,\n",
              "  0.29345967933314454,\n",
              "  0.29306939377108915,\n",
              "  0.37132811182535097,\n",
              "  0.3584118259664237,\n",
              "  0.31322240613158614,\n",
              "  0.3659950223031202,\n",
              "  0.449339338837609,\n",
              "  0.35263328017287415,\n",
              "  0.34563576395982337,\n",
              "  0.31971283148074675,\n",
              "  0.3714688354728863,\n",
              "  0.3830995481102814,\n",
              "  0.44391723195489274,\n",
              "  0.37611258108053214,\n",
              "  0.317937998613399,\n",
              "  0.41391825113996844,\n",
              "  0.33210301640878065,\n",
              "  0.38249696012062256,\n",
              "  0.3936507573697624,\n",
              "  0.3319647195303998,\n",
              "  0.3813876471818873,\n",
              "  0.34171576887631033,\n",
              "  0.47631353146754163,\n",
              "  0.3867377859442841,\n",
              "  0.31891811705018125,\n",
              "  0.3732280733121722,\n",
              "  0.31562760860996036,\n",
              "  0.35433695827407086,\n",
              "  0.41763180175646336,\n",
              "  0.27277444505934406,\n",
              "  0.32957845658085055,\n",
              "  0.37240021775379045,\n",
              "  0.31179666638434594,\n",
              "  0.3438363874809682,\n",
              "  0.4115938732205715,\n",
              "  0.36424661874977643,\n",
              "  0.3287697242696423,\n",
              "  0.33502790873524846,\n",
              "  0.4530570122374972,\n",
              "  0.3198349610063012,\n",
              "  0.36183087334097364,\n",
              "  0.35312870665320273,\n",
              "  0.39743750458044547,\n",
              "  0.4383796726538067,\n",
              "  0.40871767204954473,\n",
              "  0.4557996264678596,\n",
              "  0.2726490633854042,\n",
              "  0.3184023329139603,\n",
              "  0.40716829644532937,\n",
              "  0.46467243465993846,\n",
              "  0.3353159830431721,\n",
              "  0.3690755349259659,\n",
              "  0.3113949452490418,\n",
              "  0.37455115082845913,\n",
              "  0.40066185682083283,\n",
              "  0.27757091979586185,\n",
              "  0.44918909314373034,\n",
              "  0.33413967442137854,\n",
              "  0.34404159552443636,\n",
              "  0.3156165453003151,\n",
              "  0.3604729286664658,\n",
              "  0.4124596581889776,\n",
              "  0.2554358084905865,\n",
              "  0.32408929861928754,\n",
              "  0.4344361286174467,\n",
              "  0.3632649334184518,\n",
              "  0.28570022420888574,\n",
              "  0.4453372645464926,\n",
              "  0.3283042474295716,\n",
              "  0.40297345189012856,\n",
              "  0.38242189859305264,\n",
              "  0.43047747522983637,\n",
              "  0.3884735319154594,\n",
              "  0.35135221924326093,\n",
              "  0.3356959891443965,\n",
              "  0.3402849481438408,\n",
              "  0.36021925880450095,\n",
              "  0.42040820635248205,\n",
              "  0.30348988881978306,\n",
              "  0.33631421951622464,\n",
              "  0.43150022257233545,\n",
              "  0.36602991576729,\n",
              "  0.35716679666429024,\n",
              "  0.31256299519274455,\n",
              "  0.4588479147798276,\n",
              "  0.3330535294357289,\n",
              "  0.34008792173675884,\n",
              "  0.3112461015466486,\n",
              "  0.37026632937754506,\n",
              "  0.44725513280928886,\n",
              "  0.39444789597187174,\n",
              "  0.4185851027815364,\n",
              "  0.42640925811089964,\n",
              "  0.46832460140672905,\n",
              "  0.44088934864693186,\n",
              "  0.32665765428280247,\n",
              "  0.5255753670171568,\n",
              "  0.36211212500821943,\n",
              "  0.3343562979615853,\n",
              "  0.4086850880188017,\n",
              "  0.3491667792930489,\n",
              "  0.3730449875294633,\n",
              "  0.38019904928058545,\n",
              "  0.3240495386957755,\n",
              "  0.3483365564820325,\n",
              "  0.3895724946862364,\n",
              "  0.3949662165555409,\n",
              "  0.2586790406008296,\n",
              "  0.3217646636170637,\n",
              "  0.3616004238197134,\n",
              "  0.28065533975394835,\n",
              "  0.30740671375669265,\n",
              "  0.3460660999589363,\n",
              "  0.3948021895380692,\n",
              "  0.40119369397089505,\n",
              "  0.28454927794642904,\n",
              "  0.3851194868143391,\n",
              "  0.36909795843268145,\n",
              "  0.3349039647038308,\n",
              "  0.4418873013761667,\n",
              "  0.3472970350120506,\n",
              "  0.32325841982425124,\n",
              "  0.27134057795435784,\n",
              "  0.32278827685018086,\n",
              "  0.43749232262048526,\n",
              "  0.29081057322998816,\n",
              "  0.3963680591026044,\n",
              "  0.39858938253033827,\n",
              "  0.48814918236726523,\n",
              "  0.3743644355372764,\n",
              "  0.4027218489671993,\n",
              "  0.3731648249132113,\n",
              "  0.3406935772544902,\n",
              "  0.3906639075795661,\n",
              "  0.3716412725344257,\n",
              "  0.3740429726794978,\n",
              "  0.27457497634730416,\n",
              "  0.3658335073672985,\n",
              "  0.4139113236616725,\n",
              "  0.428408858485199,\n",
              "  0.4688068575666209,\n",
              "  0.4021632181378342,\n",
              "  0.3402582405677686,\n",
              "  0.3795230317355195,\n",
              "  0.33595812231233596,\n",
              "  0.3807710163857962,\n",
              "  0.4008479324870348,\n",
              "  0.3208778278843216,\n",
              "  0.3333030089821662,\n",
              "  0.328590745759275,\n",
              "  0.4214353301114151,\n",
              "  0.39887808907267824,\n",
              "  0.3307019539059564,\n",
              "  0.37965711366818317,\n",
              "  0.32981877371655177,\n",
              "  0.27121210151261277,\n",
              "  0.42550523303690796,\n",
              "  0.48368885755904356,\n",
              "  0.5288230025719531,\n",
              "  0.3270751268160342,\n",
              "  0.3190366380924311,\n",
              "  0.40540299105715716,\n",
              "  0.4200155007298969,\n",
              "  0.3415496576423832,\n",
              "  0.31295313103670336,\n",
              "  0.4052984171117077,\n",
              "  0.3551180300516062,\n",
              "  0.41010462898696687,\n",
              "  0.46044727172167693,\n",
              "  0.318794535357882,\n",
              "  0.2749019951148477,\n",
              "  0.382212145618585,\n",
              "  0.31842859822477626,\n",
              "  0.33618614642325534,\n",
              "  0.31235410738111247,\n",
              "  0.33127193923514364,\n",
              "  0.4241713270816344,\n",
              "  0.40646270817893343,\n",
              "  0.4499689817602148,\n",
              "  0.4342466928741206,\n",
              "  0.37423418243825,\n",
              "  0.39321304216127073,\n",
              "  0.3489530142650743,\n",
              "  0.39786912519023393,\n",
              "  0.3908411576182803,\n",
              "  0.29708153097412443,\n",
              "  0.4116684805084303,\n",
              "  0.25603824611214526,\n",
              "  0.3297734118222187,\n",
              "  0.3329891764299485,\n",
              "  0.35890488980770796,\n",
              "  0.3767313166929105,\n",
              "  0.3708225003202619,\n",
              "  0.2797241813187959,\n",
              "  0.37609302874693457,\n",
              "  0.4335897532250877,\n",
              "  0.4534828379442361,\n",
              "  0.27590803843638534,\n",
              "  0.2880099331843024,\n",
              "  0.34664312257003727,\n",
              "  0.4440784832180432,\n",
              "  0.26378585732509546,\n",
              "  0.43332208405448697,\n",
              "  0.3024273788999573,\n",
              "  0.4030338239484099,\n",
              "  0.4118104732570552,\n",
              "  0.3676020360011164,\n",
              "  0.3900437850067442,\n",
              "  0.4287214384668154,\n",
              "  0.3409999709779847,\n",
              "  0.4541549418143209,\n",
              "  0.30917688464765597,\n",
              "  0.36254927791284564,\n",
              "  0.2991730766957842,\n",
              "  0.31724175153500367,\n",
              "  0.4175925379736453,\n",
              "  0.30959465573925704,\n",
              "  0.31087396121204436,\n",
              "  0.3106920343703776,\n",
              "  0.47898510498382496,\n",
              "  0.3244442502587041,\n",
              "  0.3911761804122185,\n",
              "  0.33569639501799786,\n",
              "  0.36788638693509096,\n",
              "  0.45639220161704813,\n",
              "  0.26296480334706035,\n",
              "  0.2575743983977733,\n",
              "  0.3090501099327159,\n",
              "  0.37646630067523495,\n",
              "  0.42764065796559864,\n",
              "  0.4344242159272499,\n",
              "  0.4279739136649514,\n",
              "  0.3872781068914075,\n",
              "  0.31865206841013016,\n",
              "  0.3431281329905897,\n",
              "  0.2974210638441169,\n",
              "  0.4468253934931628,\n",
              "  0.3488594732872858,\n",
              "  0.3211227720258539,\n",
              "  0.44786059659190636,\n",
              "  0.3433130837796636,\n",
              "  0.3814658505436351,\n",
              "  0.429392828885021,\n",
              "  0.356168806763242,\n",
              "  0.28142878015355133,\n",
              "  0.36875640056338543,\n",
              "  0.3439056638297699,\n",
              "  0.3381082258667785,\n",
              "  0.353572288206303,\n",
              "  0.38794217837216755,\n",
              "  0.38807101943694117,\n",
              "  0.447778982346637,\n",
              "  0.3297781986974446,\n",
              "  0.3964619220260775,\n",
              "  0.47815481153224826,\n",
              "  0.33707623753668275,\n",
              "  0.43405892220057346,\n",
              "  0.4594991135133458,\n",
              "  0.4193861597766071,\n",
              "  0.348553981654992,\n",
              "  0.3723956668919638,\n",
              "  0.3583555674499914,\n",
              "  0.45982128292288815,\n",
              "  0.258213341572547,\n",
              "  0.4189056950432228,\n",
              "  0.3256161141470557,\n",
              "  0.4043591124560532,\n",
              "  0.3716083561536173,\n",
              "  0.469339089292169,\n",
              "  0.30508324019044847,\n",
              "  0.32477954350770316,\n",
              "  0.3993098616024401,\n",
              "  0.30032687256679547,\n",
              "  0.3055609537084847,\n",
              "  0.3591471728772276,\n",
              "  0.34017750960327114,\n",
              "  0.3810448113000476,\n",
              "  0.3453310354280272,\n",
              "  0.42460075138642345,\n",
              "  0.3734173622241432,\n",
              "  0.2832912802165177,\n",
              "  0.2986172151495171,\n",
              "  0.3250613091759507,\n",
              "  0.4099626694334232,\n",
              "  0.3435451283307342,\n",
              "  0.29495283828086716,\n",
              "  0.39327690442883845,\n",
              "  0.3393937041839687,\n",
              "  0.3459691133064625,\n",
              "  0.3393627462049181,\n",
              "  0.34963051235094816,\n",
              "  0.37779489775574926,\n",
              "  0.3262779042544606,\n",
              "  0.43347370233020355,\n",
              "  0.37994689678965754,\n",
              "  0.3529459014427146,\n",
              "  0.3266797620794002,\n",
              "  0.36889386495599796,\n",
              "  0.41964143915863283,\n",
              "  0.286662361307463,\n",
              "  0.46419367783435933,\n",
              "  0.28436297177629954,\n",
              "  0.4284049045602139,\n",
              "  0.266927606842547,\n",
              "  0.48048333399498755,\n",
              "  0.32322578036180644,\n",
              "  0.29906538493308266,\n",
              "  0.2730929906095701,\n",
              "  0.3505529071262588,\n",
              "  0.34579026374831034,\n",
              "  0.3634840515311907,\n",
              "  0.4202709692779241,\n",
              "  0.3231057868918037,\n",
              "  0.3064072916079723,\n",
              "  0.37718933195553866,\n",
              "  0.410797593842856,\n",
              "  0.32797763407509267,\n",
              "  0.3253810037633065,\n",
              "  0.33737604821558814,\n",
              "  0.3366900185995516,\n",
              "  0.31023318005057016,\n",
              "  0.3560290052937271,\n",
              "  0.3490291786177895,\n",
              "  0.37876127821820127,\n",
              "  0.28749105915621204,\n",
              "  0.3844177747595938,\n",
              "  0.42484087505852974,\n",
              "  0.3626640363739315,\n",
              "  0.43921930324150255,\n",
              "  0.35096549430371204,\n",
              "  0.29506150799979686,\n",
              "  0.4543933019784206,\n",
              "  0.3609103583320255,\n",
              "  0.45056936003615045,\n",
              "  0.3215574140349151,\n",
              "  0.3739041909458309,\n",
              "  0.3530494994618404,\n",
              "  0.3379622311081308,\n",
              "  0.4330734451152148,\n",
              "  0.312556341162646,\n",
              "  0.37983327084952334,\n",
              "  0.3599638841275226,\n",
              "  0.3476028951084333,\n",
              "  0.3530324062513372,\n",
              "  0.3015165649511097,\n",
              "  0.44417820684024856,\n",
              "  0.28541400608920436,\n",
              "  0.3072943037119667,\n",
              "  0.3437011438515033,\n",
              "  0.3122775104555701,\n",
              "  0.29291812307331067,\n",
              "  0.3348660041904772,\n",
              "  0.43147854579762956,\n",
              "  0.46299646967671515,\n",
              "  0.33674872480717244,\n",
              "  0.37909596851641186,\n",
              "  0.30733781297686324,\n",
              "  0.4051968984097656,\n",
              "  0.419027672774984,\n",
              "  0.33125990373220454,\n",
              "  0.3046087548138965,\n",
              "  0.38644310998291065,\n",
              "  0.2705779615489077,\n",
              "  0.3327671335416052,\n",
              "  0.40746774659573975,\n",
              "  0.3437964433246452,\n",
              "  0.338024822721116,\n",
              "  0.26420019540961764,\n",
              "  0.32154319473002035,\n",
              "  0.3232359507568497,\n",
              "  0.40535828677152014,\n",
              "  0.3499757328437202,\n",
              "  0.39062124791659353,\n",
              "  0.34299317157645,\n",
              "  0.4166709569729573,\n",
              "  0.3815830885018849,\n",
              "  0.3868006061695264,\n",
              "  0.40672392608489916,\n",
              "  0.3393426573237815,\n",
              "  0.4758153211328212,\n",
              "  0.3397399961089946,\n",
              "  0.36291416672520643,\n",
              "  0.42869258786969305,\n",
              "  0.47555629972438207,\n",
              "  0.4381463461115045,\n",
              "  0.35719580271944257,\n",
              "  0.3623291094365508,\n",
              "  0.34243085391508693,\n",
              "  0.36026193477213514,\n",
              "  0.39610192310638276,\n",
              "  0.3389954830560717,\n",
              "  0.43444126554248846,\n",
              "  0.33665572395560706,\n",
              "  0.4403526830506653,\n",
              "  0.32881780436879293,\n",
              "  0.2866621480827362,\n",
              "  0.2901843396277046,\n",
              "  0.47671848750878926,\n",
              "  0.3096706822245032,\n",
              "  0.292898472248716,\n",
              "  0.40496515348267303,\n",
              "  0.39466838902704304,\n",
              "  0.35663228564374744,\n",
              "  0.2807518771357134,\n",
              "  0.33965634572247433,\n",
              "  0.42821345075611034,\n",
              "  0.3146366603147433,\n",
              "  0.3424898313983048,\n",
              "  0.37896884563857314,\n",
              "  0.504094567086559,\n",
              "  0.42328642958624735,\n",
              "  0.35000061571584146,\n",
              "  0.27547994188867586,\n",
              "  0.3786627275781916,\n",
              "  0.341362474832302,\n",
              "  0.2731326121411307,\n",
              "  0.4069217821265697,\n",
              "  0.361874503757194,\n",
              "  0.3095900504451114,\n",
              "  0.27580792782360514,\n",
              "  0.42414965002909716,\n",
              "  0.2674364026789443,\n",
              "  0.450301943524235,\n",
              "  0.34077210824870713,\n",
              "  0.36910107412748866,\n",
              "  0.39848842311973437,\n",
              "  0.4637480761457252,\n",
              "  0.3291134261639942,\n",
              "  0.39449381676162537,\n",
              "  0.3713056857455225,\n",
              "  0.3343888326062013,\n",
              "  0.4890295104192562,\n",
              "  0.43538393168750933,\n",
              "  0.320493285700347,\n",
              "  0.40094097550807034,\n",
              "  0.4429711041829739,\n",
              "  0.41412901011793696,\n",
              "  0.31419932057845457,\n",
              "  0.2963584308680939,\n",
              "  0.4240160715473092,\n",
              "  0.46128308436165516,\n",
              "  0.31489656168025615,\n",
              "  0.3611103910181366,\n",
              "  0.439714893443795,\n",
              "  0.28976753031740377,\n",
              "  0.360054281472364,\n",
              "  0.4445376768997543,\n",
              "  0.34934760517772206,\n",
              "  0.37507926712185125,\n",
              "  0.3170564094161533,\n",
              "  0.36768963417554545,\n",
              "  0.44596522320824195,\n",
              "  0.38248216984922273,\n",
              "  0.3794826350467615,\n",
              "  0.40923724999869315,\n",
              "  0.2868535418316244,\n",
              "  0.38953175876280643,\n",
              "  0.3039370047621158,\n",
              "  0.3362405030822707,\n",
              "  0.3376843427124232,\n",
              "  0.3622333795864699,\n",
              "  0.3720409056098031,\n",
              "  0.40618525501942865,\n",
              "  0.42217081719489613,\n",
              "  0.38754706729563637,\n",
              "  0.4675609598605176,\n",
              "  0.35068884153375585,\n",
              "  0.2815729011785553,\n",
              "  0.31892199371290625,\n",
              "  0.37114767973892837,\n",
              "  0.3225971838220462,\n",
              "  0.3265094267925333,\n",
              "  0.3258213964850265,\n",
              "  0.3641294106078605,\n",
              "  0.28363570553227,\n",
              "  0.3749479067121678,\n",
              "  0.3939179411020687,\n",
              "  0.33432340543001865,\n",
              "  0.31656390532457007,\n",
              "  0.3297245638722201,\n",
              "  0.27946296600316656,\n",
              "  0.39921863755754966,\n",
              "  0.3234946082737536,\n",
              "  0.34419767044046895,\n",
              "  0.33316219963115884,\n",
              "  0.368788099117213,\n",
              "  0.2600948444880398,\n",
              "  0.34797986182714613,\n",
              "  0.4233627758618842,\n",
              "  0.4590965717531816,\n",
              "  0.2941484015916762,\n",
              "  0.3905151377949495,\n",
              "  0.3491362070712876,\n",
              "  0.3261796338874257,\n",
              "  0.46708793192834935,\n",
              "  0.3062900808640528,\n",
              "  0.36661954434958344,\n",
              "  0.3889311231135376,\n",
              "  0.34698018711770634,\n",
              "  0.3898266024040425,\n",
              "  0.26822969723352547,\n",
              "  0.3769936211088487,\n",
              "  0.421906887100534,\n",
              "  0.3127744406423904,\n",
              "  0.3975394829972246,\n",
              "  0.3417586687966458,\n",
              "  0.3728646050017147,\n",
              "  0.49001541860613834,\n",
              "  0.34491000340269945,\n",
              "  0.3662670071614242,\n",
              "  0.34667104562481155,\n",
              "  0.4048586858058707,\n",
              "  0.32737214712869184,\n",
              "  0.4707118433044597,\n",
              "  0.304169586097318,\n",
              "  0.48351256034827006,\n",
              "  0.32444216956082017,\n",
              "  0.3023428035820971,\n",
              "  0.4147072243591202,\n",
              "  0.3662887818683029,\n",
              "  0.37953319650917067,\n",
              "  0.35761007642309167,\n",
              "  0.4713623178485599,\n",
              "  0.3585216622225641,\n",
              "  0.34186666544516275,\n",
              "  0.2867328976623034,\n",
              "  0.37119408593263303,\n",
              "  0.3410118512035087,\n",
              "  0.2631599713372913,\n",
              "  0.35642227079758504,\n",
              "  0.3422825702295028,\n",
              "  0.44497521237315035,\n",
              "  0.4427751351660328,\n",
              "  0.3283380139624685,\n",
              "  0.4894892844743948,\n",
              "  0.35667270351436176,\n",
              "  0.3061469381553608,\n",
              "  0.3773866617843276,\n",
              "  0.5007415175928218,\n",
              "  0.32413572785064776,\n",
              "  0.4656182211174859,\n",
              "  0.27810819510431894,\n",
              "  0.32030060680875716,\n",
              "  0.2794012881930962,\n",
              "  0.3770671251403746,\n",
              "  0.41484125685164536,\n",
              "  0.35447316864339173,\n",
              "  0.4554626017247195,\n",
              "  0.3396929439748912,\n",
              "  0.32256698864290273,\n",
              "  0.4764780095633158,\n",
              "  0.35770186302770257,\n",
              "  0.29762230647468174,\n",
              "  0.30624893605033804,\n",
              "  0.41501891583503403,\n",
              "  0.46136484574625225,\n",
              "  0.39199517245595916,\n",
              "  0.42808638805871696,\n",
              "  0.3338650190109975,\n",
              "  0.34747755294009497,\n",
              "  0.4152051749525754,\n",
              "  0.34227998369176155,\n",
              "  0.35351598666671014,\n",
              "  0.34615520660925475,\n",
              "  0.3197739396352658,\n",
              "  0.3281114046691233,\n",
              "  0.47860760721614154,\n",
              "  0.2881848740616355,\n",
              "  0.31090037940284876,\n",
              "  0.35308025444228097,\n",
              "  0.3269920848388796,\n",
              "  0.40341206359861254,\n",
              "  0.3229437916402671,\n",
              "  0.34491402141093536,\n",
              "  0.2590382836264279,\n",
              "  0.364226951318485,\n",
              "  0.447529355179664,\n",
              "  0.35178144424047275,\n",
              "  0.3237462649279262,\n",
              "  0.30293153354512536,\n",
              "  0.4174510770671601,\n",
              "  0.34928905114594666,\n",
              "  0.37538357225499674,\n",
              "  0.4081130794855648,\n",
              "  0.25713721296613007,\n",
              "  0.33975910831696987,\n",
              "  0.26609423189283526,\n",
              "  0.3178013695264062,\n",
              "  0.4308095969599924,\n",
              "  0.3492179930687399,\n",
              "  0.4971278032662732,\n",
              "  0.3530199256791031,\n",
              "  0.41772690121502554,\n",
              "  0.33890282936921656,\n",
              "  0.3592996857539751,\n",
              "  0.3519783412034946,\n",
              "  0.3796173811561433,\n",
              "  0.36446894101753025,\n",
              "  0.43668531057936605,\n",
              "  0.4313508522638162,\n",
              "  0.38735983380151495,\n",
              "  0.4308466982484958,\n",
              "  0.4164692818308727,\n",
              "  0.32860828591238694,\n",
              "  0.45865031883872115,\n",
              "  0.35260631728829633,\n",
              "  0.3622915780237945,\n",
              "  0.4193349353626833,\n",
              "  0.34598305190729745,\n",
              "  0.26829551239854166,\n",
              "  0.34827300599329425,\n",
              "  0.3655688791601902,\n",
              "  0.45843238704769207,\n",
              "  0.34331726433612053,\n",
              "  0.32726074231233315,\n",
              "  0.38525153141603424,\n",
              "  0.4203762077159826,\n",
              "  0.33157674446508334,\n",
              "  0.2797586753335748,\n",
              "  0.3637843685974491,\n",
              "  0.35638305505980694,\n",
              "  0.4024289581861042,\n",
              "  0.33041901380646505,\n",
              "  0.3410653143261952,\n",
              "  0.4005606334538997,\n",
              "  0.2737698031163922,\n",
              "  0.4380246361423408,\n",
              "  0.37987370736432635,\n",
              "  0.46226781180617044,\n",
              "  0.3244488590397888,\n",
              "  0.35552192200782845,\n",
              "  0.3831495270074486,\n",
              "  0.41083501674240175,\n",
              "  0.32980176871783173,\n",
              "  0.37898416132810003,\n",
              "  0.3458161240042316,\n",
              "  0.4659121144750926,\n",
              "  0.3360921177565519,\n",
              "  0.3570602946376269,\n",
              "  0.31665250495936387,\n",
              "  0.3503123948323682,\n",
              "  0.3760602749120605,\n",
              "  0.45494875475984414,\n",
              "  0.38815867003546733,\n",
              "  0.35640703984851774,\n",
              "  0.334439415769067,\n",
              "  0.30717932934854064,\n",
              "  0.3110584752474276,\n",
              "  0.3134981950844904,\n",
              "  0.4114704321859273,\n",
              "  0.3893967635350985,\n",
              "  0.28372621512973145,\n",
              "  0.2943061720903991,\n",
              "  0.31199300435782784,\n",
              "  0.4138871969694068,\n",
              "  0.349074438155844,\n",
              "  0.39409474506917075,\n",
              "  0.41694515013619476,\n",
              "  0.33577573030758306,\n",
              "  0.3705827929911035,\n",
              "  0.43527849405703095,\n",
              "  0.4399955619273611,\n",
              "  0.4711156065125302,\n",
              "  0.2586512944826058,\n",
              "  0.33344899726760163,\n",
              "  0.35528796526827844,\n",
              "  0.3423599287541895,\n",
              "  0.2751076198464652,\n",
              "  0.4287019815753987,\n",
              "  0.29317654957699,\n",
              "  0.38526123962640263,\n",
              "  0.3273984984853724,\n",
              "  0.2928752526966255,\n",
              "  0.42052831532424484,\n",
              "  0.4380100068644282,\n",
              "  0.3525582707570875,\n",
              "  0.32835533061816824,\n",
              "  0.36842396389077,\n",
              "  0.36795154921854883,\n",
              "  0.3827202040826795,\n",
              "  0.4055774600743266,\n",
              "  0.29640622692942076,\n",
              "  0.4048169999907866,\n",
              "  0.3533940699903868,\n",
              "  0.45014428995909855,\n",
              "  0.4295786253693025,\n",
              "  0.3627772400062027,\n",
              "  0.2722862351729679,\n",
              "  0.5052341227309931,\n",
              "  0.29764813189583844,\n",
              "  0.4424249999596649,\n",
              "  0.3810139220821546,\n",
              "  0.2975477161295255,\n",
              "  0.34555609458263714,\n",
              "  0.3310847210483649,\n",
              "  0.35262682256397554,\n",
              "  0.3785449376932514,\n",
              "  0.27897146520215693,\n",
              "  0.34313675859887244,\n",
              "  0.39928849477535167,\n",
              "  0.3175751475787153,\n",
              "  0.33378395935914307,\n",
              "  0.3433483882487538,\n",
              "  0.3882600002413088,\n",
              "  0.3129194297517015,\n",
              "  0.39995151797651574,\n",
              "  0.36950291880243413,\n",
              "  0.45738911520162817,\n",
              "  0.3065148961367352,\n",
              "  0.4527515279303228,\n",
              "  0.39359457975633394,\n",
              "  0.44211113366927,\n",
              "  0.3646074447483658,\n",
              "  0.34700939818713655,\n",
              "  0.410195402155021,\n",
              "  0.4208377039735725,\n",
              "  0.39443150317464315,\n",
              "  0.34750283418627903,\n",
              "  0.4756844926564828,\n",
              "  0.4634906654602947,\n",
              "  0.3863878817038173,\n",
              "  0.425939859508163,\n",
              "  0.2935765586881665,\n",
              "  0.35442328613556046,\n",
              "  0.3263758619241807,\n",
              "  0.3721961575650678,\n",
              "  0.38171166282978075,\n",
              "  0.46406970224391075,\n",
              "  0.35114569715268873,\n",
              "  0.31975731478476427,\n",
              "  0.41113251089450054,\n",
              "  0.42559394485686464,\n",
              "  0.3649435128084399,\n",
              "  0.438151430190371,\n",
              "  0.3208611753550542,\n",
              "  0.3524995680192625,\n",
              "  0.271518657391976,\n",
              "  0.34816091545026784,\n",
              "  0.33832984382966275,\n",
              "  0.3977176431349322,\n",
              "  0.42089154548887575,\n",
              "  0.2894194108797336,\n",
              "  0.393094861065957,\n",
              "  0.33578576465417603,\n",
              "  0.40023307125598223,\n",
              "  0.35396143696684024,\n",
              "  0.4588076301161958,\n",
              "  0.36551416314736185,\n",
              "  0.33944034602500434,\n",
              "  0.35396335528613393,\n",
              "  0.3155810742285033,\n",
              "  0.3536439315224521,\n",
              "  0.40038423068616974,\n",
              "  0.3463563805156634,\n",
              "  0.2868725313000071,\n",
              "  0.38769585007387,\n",
              "  0.38194564117972707,\n",
              "  0.3142234419481407,\n",
              "  0.342767666607796,\n",
              "  0.3423211933952361,\n",
              "  0.3157949173619887,\n",
              "  0.3442491452328338,\n",
              "  0.537680764114512,\n",
              "  0.3738664089798121,\n",
              "  0.4411522429356297,\n",
              "  0.3408098647590462,\n",
              "  0.3395044650030306,\n",
              "  0.43209302803188626,\n",
              "  0.33534896021181704,\n",
              "  0.36869726298380945,\n",
              "  0.3169021219010608,\n",
              "  0.3565605169962159,\n",
              "  0.3551365604173226,\n",
              "  0.38000215497860235,\n",
              "  0.3063232926984117,\n",
              "  0.458579140971066,\n",
              "  0.27739447268822,\n",
              "  0.3606024289224385,\n",
              "  0.36012225980999424,\n",
              "  0.2772169147477939,\n",
              "  0.4310916061132428,\n",
              "  0.4041984556832159,\n",
              "  0.4509516697550797,\n",
              "  0.34945831780560743,\n",
              "  0.3499080689119098,\n",
              "  0.33705737287383697,\n",
              "  0.3735535712217891,\n",
              "  0.3658858582373959,\n",
              "  0.2954603271346562,\n",
              "  0.39408523281773833,\n",
              "  0.3483507125312105,\n",
              "  0.37054712134968704,\n",
              "  0.368050944683561,\n",
              "  0.3124816352208903,\n",
              "  0.374809655700845,\n",
              "  0.42789477186947494,\n",
              "  0.38895123685311483,\n",
              "  0.4092074870795627,\n",
              "  0.30098758476731186,\n",
              "  0.29921267376113464,\n",
              "  0.33305980921600453,\n",
              "  0.3230444126925099,\n",
              "  0.4013345539507778,\n",
              "  0.47032290370424196,\n",
              "  0.308201580379186,\n",
              "  0.3070566481687538,\n",
              "  0.3730496603915135,\n",
              "  0.3240932292335966,\n",
              "  0.3264987946091232,\n",
              "  0.3559977981890728,\n",
              "  0.39661209456486624,\n",
              "  0.3288125036023573,\n",
              "  0.36063083951250025,\n",
              "  0.4232838933184713,\n",
              "  0.39674341588271483,\n",
              "  0.3512473162771533,\n",
              "  0.4174970178514515,\n",
              "  0.42673759433497194,\n",
              "  0.46770402258930766,\n",
              "  0.4009160833380185,\n",
              "  0.34585373370806727,\n",
              "  0.3666131832288589,\n",
              "  0.3959411298310257,\n",
              "  0.3511939230926464,\n",
              "  0.4660985841676361,\n",
              "  0.5328735486328284,\n",
              "  0.40808658563410605,\n",
              "  0.39408241374447617,\n",
              "  0.4199066530374584,\n",
              "  0.34225446312890595,\n",
              "  0.41616808593784227,\n",
              "  0.2748009649306067,\n",
              "  0.4180306547505955,\n",
              "  0.4810434363650064,\n",
              "  0.3489857212109008,\n",
              "  0.35267283515946424,\n",
              "  0.26050197648874884,\n",
              "  0.44967592669012224,\n",
              "  0.2996952588536998,\n",
              "  0.32836066546913295,\n",
              "  0.344727649932963,\n",
              "  0.3704923926764512,\n",
              "  0.39020263211808204,\n",
              "  0.35257705950564544,\n",
              "  0.260405474468633,\n",
              "  0.338453976574036,\n",
              "  0.2682458763280063,\n",
              "  0.4050736865519406,\n",
              "  0.3779033184200968,\n",
              "  0.4466621305907885,\n",
              "  0.27962900686279496,\n",
              "  0.3285154267411846,\n",
              "  0.3188310918716929,\n",
              "  0.3615136919315865,\n",
              "  0.3497561928024396,\n",
              "  0.30570858470425866,\n",
              "  0.3615135258494066,\n",
              "  0.34947167798255013,\n",
              "  0.41604637980828413,\n",
              "  0.3683856073446494,\n",
              "  0.3748369529664445,\n",
              "  0.35096642127081557,\n",
              "  0.3158337855671516,\n",
              "  0.454305050947352,\n",
              "  0.35522227219528146,\n",
              "  0.3733479178767269,\n",
              "  0.32609076838163803,\n",
              "  0.3449349994318011,\n",
              "  0.3310037202718381,\n",
              "  0.44832162277422405,\n",
              "  0.44129306979656474,\n",
              "  0.29552582614762457,\n",
              "  0.38817984356338664,\n",
              "  0.34299182347111284,\n",
              "  0.345698683530788,\n",
              "  0.29878569676593875,\n",
              "  0.3261725865155549,\n",
              "  0.43254163225576614,\n",
              "  0.3482857702916794,\n",
              "  0.3852695204480364,\n",
              "  0.4810517443536529,\n",
              "  0.407583507258672,\n",
              "  0.4040167551158441,\n",
              "  0.4179632910622594,\n",
              "  0.31774970197238506,\n",
              "  0.35944046950758507,\n",
              "  0.33030950359114036,\n",
              "  0.4427666088778694,\n",
              "  0.36828562836705303,\n",
              "  0.4208883831428847,\n",
              "  0.36538331672222074,\n",
              "  0.33747811130279026,\n",
              "  0.46042355682391434,\n",
              "  0.3668516523427139,\n",
              "  0.28694567403517396,\n",
              "  0.40435076181866536,\n",
              "  0.2586978634250686,\n",
              "  0.4420721329245005,\n",
              "  0.37431325811603805,\n",
              "  0.3206617242424862,\n",
              "  0.35016629510926217,\n",
              "  0.3517416956279814,\n",
              "  0.36972554512768174,\n",
              "  0.37961196481749876,\n",
              "  0.328771834080858,\n",
              "  0.32075223530563773,\n",
              "  0.2924455096691468,\n",
              "  0.37693341287385335,\n",
              "  0.3938966772083566,\n",
              "  0.27815005524027503,\n",
              "  0.3619048733216353,\n",
              "  0.38468337682393006,\n",
              "  0.3730444095471084,\n",
              "  0.2670633660676474,\n",
              "  0.42570628599760096,\n",
              "  0.4418056879105184,\n",
              "  0.3535138837389133,\n",
              "  0.2607028642202615,\n",
              "  0.35045676002899406,\n",
              "  0.33473984039320825,\n",
              "  0.2639215308582169,\n",
              "  0.2931146908112829,\n",
              "  0.40128436149318647,\n",
              "  0.3546652347169745,\n",
              "  0.4353898953518592,\n",
              "  0.45679834393827107,\n",
              "  0.38482951274324906,\n",
              "  0.26331199452639675,\n",
              "  0.3450214267680884,\n",
              "  0.3888526639447013,\n",
              "  0.30050015606866304,\n",
              "  0.35846308724704623,\n",
              "  0.38118081262717346,\n",
              "  0.41498571619355346,\n",
              "  0.3754618457469479,\n",
              "  0.45007412663018626,\n",
              "  0.45185645655371753,\n",
              "  0.42990335810462726,\n",
              "  0.3433711190819639,\n",
              "  0.35828313435173326,\n",
              "  0.5074255866699208,\n",
              "  0.32691473754247813,\n",
              "  0.25928253801624473,\n",
              "  0.38380886484166077,\n",
              "  0.37231705523695496,\n",
              "  0.35592204324308213,\n",
              "  ...])"
            ]
          },
          "metadata": {
            "tags": []
          },
          "execution_count": 99
        }
      ]
    },
    {
      "cell_type": "code",
      "metadata": {
        "id": "QDUL0JsFjLfD",
        "colab_type": "code",
        "colab": {
          "base_uri": "https://localhost:8080/",
          "height": 85
        },
        "outputId": "cd729d07-6623-4db0-c959-7e4294c3e160"
      },
      "source": [
        "#converter essas listas em array\n",
        "pfolio_returns = []\n",
        "pfolio_volatilities = []\n",
        "\n",
        "for x in range(10000):\n",
        "  weights = np.random.random(num_carteira)\n",
        "  weights /= np.sum(weights)\n",
        "  pfolio_returns.append(np.sum(weights*log_returns.mean())*250)\n",
        "  pfolio_volatilities.append(np.sqrt(np.dot(weights.T, np.dot(log_returns.cov()*250, weights))))\n",
        "\n",
        "pfolio_returns = np.array(pfolio_returns)\n",
        "pfolio_volatilities = np.array(pfolio_volatilities)\n",
        "\n",
        "pfolio_returns, pfolio_volatilities"
      ],
      "execution_count": 123,
      "outputs": [
        {
          "output_type": "execute_result",
          "data": {
            "text/plain": [
              "(array([0.09696362, 0.09169651, 0.09683345, ..., 0.08139226, 0.06495834,\n",
              "        0.05481492]),\n",
              " array([0.37857128, 0.35860309, 0.3899449 , ..., 0.34644711, 0.34198934,\n",
              "        0.30906307]))"
            ]
          },
          "metadata": {
            "tags": []
          },
          "execution_count": 123
        }
      ]
    },
    {
      "cell_type": "code",
      "metadata": {
        "id": "Q_m8LL_5lc3k",
        "colab_type": "code",
        "colab": {
          "base_uri": "https://localhost:8080/",
          "height": 204
        },
        "outputId": "98dcc1f0-a2ab-4a9a-b4ff-b9b30b36f4df"
      },
      "source": [
        "#Criar um data frame com duas colunas uma com os retornos e outra com as volatilidades\n",
        "portifolio = pd.DataFrame({\"Return\": pfolio_returns, \"Volatility\": pfolio_volatilities})\n",
        "portifolio.head()"
      ],
      "execution_count": 124,
      "outputs": [
        {
          "output_type": "execute_result",
          "data": {
            "text/html": [
              "<div>\n",
              "<style scoped>\n",
              "    .dataframe tbody tr th:only-of-type {\n",
              "        vertical-align: middle;\n",
              "    }\n",
              "\n",
              "    .dataframe tbody tr th {\n",
              "        vertical-align: top;\n",
              "    }\n",
              "\n",
              "    .dataframe thead th {\n",
              "        text-align: right;\n",
              "    }\n",
              "</style>\n",
              "<table border=\"1\" class=\"dataframe\">\n",
              "  <thead>\n",
              "    <tr style=\"text-align: right;\">\n",
              "      <th></th>\n",
              "      <th>Return</th>\n",
              "      <th>Volatility</th>\n",
              "    </tr>\n",
              "  </thead>\n",
              "  <tbody>\n",
              "    <tr>\n",
              "      <th>0</th>\n",
              "      <td>0.096964</td>\n",
              "      <td>0.378571</td>\n",
              "    </tr>\n",
              "    <tr>\n",
              "      <th>1</th>\n",
              "      <td>0.091697</td>\n",
              "      <td>0.358603</td>\n",
              "    </tr>\n",
              "    <tr>\n",
              "      <th>2</th>\n",
              "      <td>0.096833</td>\n",
              "      <td>0.389945</td>\n",
              "    </tr>\n",
              "    <tr>\n",
              "      <th>3</th>\n",
              "      <td>0.067175</td>\n",
              "      <td>0.382647</td>\n",
              "    </tr>\n",
              "    <tr>\n",
              "      <th>4</th>\n",
              "      <td>0.127652</td>\n",
              "      <td>0.425651</td>\n",
              "    </tr>\n",
              "  </tbody>\n",
              "</table>\n",
              "</div>"
            ],
            "text/plain": [
              "     Return  Volatility\n",
              "0  0.096964    0.378571\n",
              "1  0.091697    0.358603\n",
              "2  0.096833    0.389945\n",
              "3  0.067175    0.382647\n",
              "4  0.127652    0.425651"
            ]
          },
          "metadata": {
            "tags": []
          },
          "execution_count": 124
        }
      ]
    },
    {
      "cell_type": "code",
      "metadata": {
        "id": "PlPA3-a0mG-V",
        "colab_type": "code",
        "colab": {
          "base_uri": "https://localhost:8080/",
          "height": 441
        },
        "outputId": "c7f94412-e5d8-4dd2-b5c2-1a9ed8eaecb2"
      },
      "source": [
        "portifolio.plot(x=\"Volatility\", y= \"Return\", kind= \"scatter\", figsize=(15,6))\n",
        "plt.tight_layout();"
      ],
      "execution_count": 125,
      "outputs": [
        {
          "output_type": "display_data",
          "data": {
            "image/png": "[encoded data removed]",
            "text/plain": [
              "<Figure size 1080x432 with 1 Axes>"
            ]
          },
          "metadata": {
            "tags": [],
            "needs_background": "light"
          }
        }
      ]
    },
    {
      "cell_type": "code",
      "metadata": {
        "id": "JlDI7sOxmgxS",
        "colab_type": "code",
        "colab": {}
      },
      "source": [
        ""
      ],
      "execution_count": 0,
      "outputs": []
    },
    {
      "cell_type": "markdown",
      "metadata": {
        "id": "5djSJlZ6n7NY",
        "colab_type": "text"
      },
      "source": [
        "#Medindo o Beta\n",
        "Pode ser calculado como a variancia emtre a ação e o mercado dividido pela variância."
      ]
    },
    {
      "cell_type": "code",
      "metadata": {
        "id": "8tDiiX7DoGk-",
        "colab_type": "code",
        "colab": {
          "base_uri": "https://localhost:8080/",
          "height": 235
        },
        "outputId": "b39be473-0750-49e2-993a-cee64c477109"
      },
      "source": [
        "#Calculo do Beta\n",
        "df.head()"
      ],
      "execution_count": 126,
      "outputs": [
        {
          "output_type": "execute_result",
          "data": {
            "text/html": [
              "<div>\n",
              "<style scoped>\n",
              "    .dataframe tbody tr th:only-of-type {\n",
              "        vertical-align: middle;\n",
              "    }\n",
              "\n",
              "    .dataframe tbody tr th {\n",
              "        vertical-align: top;\n",
              "    }\n",
              "\n",
              "    .dataframe thead th {\n",
              "        text-align: right;\n",
              "    }\n",
              "</style>\n",
              "<table border=\"1\" class=\"dataframe\">\n",
              "  <thead>\n",
              "    <tr style=\"text-align: right;\">\n",
              "      <th></th>\n",
              "      <th>High</th>\n",
              "      <th>Low</th>\n",
              "      <th>Open</th>\n",
              "      <th>Close</th>\n",
              "      <th>Volume</th>\n",
              "      <th>Adj Close</th>\n",
              "      <th>retorno_simples</th>\n",
              "      <th>retorno_logaritmico</th>\n",
              "    </tr>\n",
              "    <tr>\n",
              "      <th>Date</th>\n",
              "      <th></th>\n",
              "      <th></th>\n",
              "      <th></th>\n",
              "      <th></th>\n",
              "      <th></th>\n",
              "      <th></th>\n",
              "      <th></th>\n",
              "      <th></th>\n",
              "    </tr>\n",
              "  </thead>\n",
              "  <tbody>\n",
              "    <tr>\n",
              "      <th>2015-01-02</th>\n",
              "      <td>9.99</td>\n",
              "      <td>9.35</td>\n",
              "      <td>9.99</td>\n",
              "      <td>9.36</td>\n",
              "      <td>49559500.0</td>\n",
              "      <td>8.683939</td>\n",
              "      <td>NaN</td>\n",
              "      <td>NaN</td>\n",
              "    </tr>\n",
              "    <tr>\n",
              "      <th>2015-01-05</th>\n",
              "      <td>9.19</td>\n",
              "      <td>8.53</td>\n",
              "      <td>9.14</td>\n",
              "      <td>8.56</td>\n",
              "      <td>78385100.0</td>\n",
              "      <td>7.941722</td>\n",
              "      <td>-0.085470</td>\n",
              "      <td>-0.089345</td>\n",
              "    </tr>\n",
              "    <tr>\n",
              "      <th>2015-01-06</th>\n",
              "      <td>8.83</td>\n",
              "      <td>8.04</td>\n",
              "      <td>8.71</td>\n",
              "      <td>8.28</td>\n",
              "      <td>84723300.0</td>\n",
              "      <td>7.681945</td>\n",
              "      <td>-0.032710</td>\n",
              "      <td>-0.033257</td>\n",
              "    </tr>\n",
              "    <tr>\n",
              "      <th>2015-01-07</th>\n",
              "      <td>8.73</td>\n",
              "      <td>8.36</td>\n",
              "      <td>8.56</td>\n",
              "      <td>8.67</td>\n",
              "      <td>85531000.0</td>\n",
              "      <td>8.043777</td>\n",
              "      <td>0.047102</td>\n",
              "      <td>0.046026</td>\n",
              "    </tr>\n",
              "    <tr>\n",
              "      <th>2015-01-08</th>\n",
              "      <td>9.39</td>\n",
              "      <td>8.74</td>\n",
              "      <td>8.79</td>\n",
              "      <td>9.23</td>\n",
              "      <td>83306300.0</td>\n",
              "      <td>8.563329</td>\n",
              "      <td>0.064590</td>\n",
              "      <td>0.062590</td>\n",
              "    </tr>\n",
              "  </tbody>\n",
              "</table>\n",
              "</div>"
            ],
            "text/plain": [
              "            High   Low  Open  ...  Adj Close  retorno_simples  retorno_logaritmico\n",
              "Date                          ...                                                 \n",
              "2015-01-02  9.99  9.35  9.99  ...   8.683939              NaN                  NaN\n",
              "2015-01-05  9.19  8.53  9.14  ...   7.941722        -0.085470            -0.089345\n",
              "2015-01-06  8.83  8.04  8.71  ...   7.681945        -0.032710            -0.033257\n",
              "2015-01-07  8.73  8.36  8.56  ...   8.043777         0.047102             0.046026\n",
              "2015-01-08  9.39  8.74  8.79  ...   8.563329         0.064590             0.062590\n",
              "\n",
              "[5 rows x 8 columns]"
            ]
          },
          "metadata": {
            "tags": []
          },
          "execution_count": 126
        }
      ]
    },
    {
      "cell_type": "code",
      "metadata": {
        "id": "Zgr3Qdb6xsmO",
        "colab_type": "code",
        "colab": {}
      },
      "source": [
        ""
      ],
      "execution_count": 0,
      "outputs": []
    }
  ]
}